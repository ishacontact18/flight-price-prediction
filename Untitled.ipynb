{
 "cells": [
  {
   "cell_type": "code",
   "execution_count": null,
   "id": "d9f30d83",
   "metadata": {
    "id": "d9f30d83",
    "outputId": "4387cca6-9a50-4290-a205-360b12185b8a"
   },
   "outputs": [
    {
     "name": "stdout",
     "output_type": "stream",
     "text": [
      "Collecting sklearn\n",
      "  Using cached sklearn-0.0.tar.gz (1.1 kB)\n",
      "Collecting scikit-learn\n",
      "  Downloading scikit_learn-0.24.2-cp38-cp38-manylinux2010_x86_64.whl (24.9 MB)\n",
      "\u001b[K     |████████████████████████████████| 24.9 MB 3.4 MB/s eta 0:00:01\n",
      "\u001b[?25hCollecting joblib>=0.11\n",
      "  Using cached joblib-1.0.1-py3-none-any.whl (303 kB)\n",
      "Requirement already satisfied: scipy>=0.19.1 in /home/hanu/anaconda3/envs/ml_env/lib/python3.8/site-packages (from scikit-learn->sklearn) (1.7.1)\n",
      "Requirement already satisfied: numpy>=1.13.3 in /home/hanu/anaconda3/envs/ml_env/lib/python3.8/site-packages (from scikit-learn->sklearn) (1.21.2)\n",
      "Collecting threadpoolctl>=2.0.0\n",
      "  Using cached threadpoolctl-2.2.0-py3-none-any.whl (12 kB)\n",
      "Building wheels for collected packages: sklearn\n",
      "  Building wheel for sklearn (setup.py) ... \u001b[?25ldone\n",
      "\u001b[?25h  Created wheel for sklearn: filename=sklearn-0.0-py2.py3-none-any.whl size=1317 sha256=3927df3a8a5ddf81785aca2ed0109ce52666635dcc30c5d2e9dcf47f748a916b\n",
      "  Stored in directory: /home/hanu/.cache/pip/wheels/22/0b/40/fd3f795caaa1fb4c6cb738bc1f56100be1e57da95849bfc897\n",
      "Successfully built sklearn\n",
      "Installing collected packages: threadpoolctl, joblib, scikit-learn, sklearn\n",
      "Successfully installed joblib-1.0.1 scikit-learn-0.24.2 sklearn-0.0 threadpoolctl-2.2.0\n"
     ]
    }
   ],
   "source": [
    "!pip install sklearn"
   ]
  },
  {
   "cell_type": "code",
   "execution_count": 1,
   "id": "n2lZ52ql4Se2",
   "metadata": {
    "colab": {
     "base_uri": "https://localhost:8080/"
    },
    "executionInfo": {
     "elapsed": 68303,
     "status": "ok",
     "timestamp": 1631028788555,
     "user": {
      "displayName": "HANUMAN AGRAWAL",
      "photoUrl": "",
      "userId": "09126690663497139280"
     },
     "user_tz": -330
    },
    "id": "n2lZ52ql4Se2",
    "outputId": "52da8e39-89a0-44c3-d923-3923fe976ad5"
   },
   "outputs": [
    {
     "name": "stdout",
     "output_type": "stream",
     "text": [
      "Mounted at /content/drive\n"
     ]
    }
   ],
   "source": [
    "from google.colab import drive\n",
    "drive.mount('/content/drive')"
   ]
  },
  {
   "cell_type": "code",
   "execution_count": 1,
   "id": "173f2c3c",
   "metadata": {
    "executionInfo": {
     "elapsed": 568,
     "status": "ok",
     "timestamp": 1631029028502,
     "user": {
      "displayName": "HANUMAN AGRAWAL",
      "photoUrl": "",
      "userId": "09126690663497139280"
     },
     "user_tz": -330
    },
    "id": "173f2c3c"
   },
   "outputs": [],
   "source": [
    "import pandas as pd\n",
    "\n",
    "import numpy as np\n",
    "import matplotlib.pyplot as plt\n",
    "import seaborn as sns"
   ]
  },
  {
   "cell_type": "code",
   "execution_count": 3,
   "id": "d6929389",
   "metadata": {
    "executionInfo": {
     "elapsed": 808,
     "status": "ok",
     "timestamp": 1631029029304,
     "user": {
      "displayName": "HANUMAN AGRAWAL",
      "photoUrl": "",
      "userId": "09126690663497139280"
     },
     "user_tz": -330
    },
    "id": "d6929389"
   },
   "outputs": [],
   "source": [
    "train_dt = pd.read_excel('Data_Train.xlsx')"
   ]
  },
  {
   "cell_type": "code",
   "execution_count": 4,
   "id": "e46a482a",
   "metadata": {
    "colab": {
     "base_uri": "https://localhost:8080/",
     "height": 204
    },
    "executionInfo": {
     "elapsed": 18,
     "status": "ok",
     "timestamp": 1631029031283,
     "user": {
      "displayName": "HANUMAN AGRAWAL",
      "photoUrl": "",
      "userId": "09126690663497139280"
     },
     "user_tz": -330
    },
    "id": "e46a482a",
    "outputId": "35e3e5bf-e648-4420-ff99-6cb624cd345a"
   },
   "outputs": [
    {
     "data": {
      "text/html": [
       "<div>\n",
       "<style scoped>\n",
       "    .dataframe tbody tr th:only-of-type {\n",
       "        vertical-align: middle;\n",
       "    }\n",
       "\n",
       "    .dataframe tbody tr th {\n",
       "        vertical-align: top;\n",
       "    }\n",
       "\n",
       "    .dataframe thead th {\n",
       "        text-align: right;\n",
       "    }\n",
       "</style>\n",
       "<table border=\"1\" class=\"dataframe\">\n",
       "  <thead>\n",
       "    <tr style=\"text-align: right;\">\n",
       "      <th></th>\n",
       "      <th>Airline</th>\n",
       "      <th>Date_of_Journey</th>\n",
       "      <th>Source</th>\n",
       "      <th>Destination</th>\n",
       "      <th>Route</th>\n",
       "      <th>Dep_Time</th>\n",
       "      <th>Arrival_Time</th>\n",
       "      <th>Duration</th>\n",
       "      <th>Total_Stops</th>\n",
       "      <th>Additional_Info</th>\n",
       "      <th>Price</th>\n",
       "    </tr>\n",
       "  </thead>\n",
       "  <tbody>\n",
       "    <tr>\n",
       "      <th>0</th>\n",
       "      <td>IndiGo</td>\n",
       "      <td>24/03/2019</td>\n",
       "      <td>Banglore</td>\n",
       "      <td>New Delhi</td>\n",
       "      <td>BLR → DEL</td>\n",
       "      <td>22:20</td>\n",
       "      <td>01:10 22 Mar</td>\n",
       "      <td>2h 50m</td>\n",
       "      <td>non-stop</td>\n",
       "      <td>No info</td>\n",
       "      <td>3897</td>\n",
       "    </tr>\n",
       "    <tr>\n",
       "      <th>1</th>\n",
       "      <td>Air India</td>\n",
       "      <td>1/05/2019</td>\n",
       "      <td>Kolkata</td>\n",
       "      <td>Banglore</td>\n",
       "      <td>CCU → IXR → BBI → BLR</td>\n",
       "      <td>05:50</td>\n",
       "      <td>13:15</td>\n",
       "      <td>7h 25m</td>\n",
       "      <td>2 stops</td>\n",
       "      <td>No info</td>\n",
       "      <td>7662</td>\n",
       "    </tr>\n",
       "    <tr>\n",
       "      <th>2</th>\n",
       "      <td>Jet Airways</td>\n",
       "      <td>9/06/2019</td>\n",
       "      <td>Delhi</td>\n",
       "      <td>Cochin</td>\n",
       "      <td>DEL → LKO → BOM → COK</td>\n",
       "      <td>09:25</td>\n",
       "      <td>04:25 10 Jun</td>\n",
       "      <td>19h</td>\n",
       "      <td>2 stops</td>\n",
       "      <td>No info</td>\n",
       "      <td>13882</td>\n",
       "    </tr>\n",
       "    <tr>\n",
       "      <th>3</th>\n",
       "      <td>IndiGo</td>\n",
       "      <td>12/05/2019</td>\n",
       "      <td>Kolkata</td>\n",
       "      <td>Banglore</td>\n",
       "      <td>CCU → NAG → BLR</td>\n",
       "      <td>18:05</td>\n",
       "      <td>23:30</td>\n",
       "      <td>5h 25m</td>\n",
       "      <td>1 stop</td>\n",
       "      <td>No info</td>\n",
       "      <td>6218</td>\n",
       "    </tr>\n",
       "    <tr>\n",
       "      <th>4</th>\n",
       "      <td>IndiGo</td>\n",
       "      <td>01/03/2019</td>\n",
       "      <td>Banglore</td>\n",
       "      <td>New Delhi</td>\n",
       "      <td>BLR → NAG → DEL</td>\n",
       "      <td>16:50</td>\n",
       "      <td>21:35</td>\n",
       "      <td>4h 45m</td>\n",
       "      <td>1 stop</td>\n",
       "      <td>No info</td>\n",
       "      <td>13302</td>\n",
       "    </tr>\n",
       "  </tbody>\n",
       "</table>\n",
       "</div>"
      ],
      "text/plain": [
       "       Airline Date_of_Journey    Source Destination                  Route  \\\n",
       "0       IndiGo      24/03/2019  Banglore   New Delhi              BLR → DEL   \n",
       "1    Air India       1/05/2019   Kolkata    Banglore  CCU → IXR → BBI → BLR   \n",
       "2  Jet Airways       9/06/2019     Delhi      Cochin  DEL → LKO → BOM → COK   \n",
       "3       IndiGo      12/05/2019   Kolkata    Banglore        CCU → NAG → BLR   \n",
       "4       IndiGo      01/03/2019  Banglore   New Delhi        BLR → NAG → DEL   \n",
       "\n",
       "  Dep_Time  Arrival_Time Duration Total_Stops Additional_Info  Price  \n",
       "0    22:20  01:10 22 Mar   2h 50m    non-stop         No info   3897  \n",
       "1    05:50         13:15   7h 25m     2 stops         No info   7662  \n",
       "2    09:25  04:25 10 Jun      19h     2 stops         No info  13882  \n",
       "3    18:05         23:30   5h 25m      1 stop         No info   6218  \n",
       "4    16:50         21:35   4h 45m      1 stop         No info  13302  "
      ]
     },
     "execution_count": 4,
     "metadata": {},
     "output_type": "execute_result"
    }
   ],
   "source": [
    "train_dt.head()"
   ]
  },
  {
   "cell_type": "code",
   "execution_count": 5,
   "id": "5d816742",
   "metadata": {
    "colab": {
     "base_uri": "https://localhost:8080/"
    },
    "executionInfo": {
     "elapsed": 7,
     "status": "ok",
     "timestamp": 1631029031965,
     "user": {
      "displayName": "HANUMAN AGRAWAL",
      "photoUrl": "",
      "userId": "09126690663497139280"
     },
     "user_tz": -330
    },
    "id": "5d816742",
    "outputId": "75ceff6f-c33f-4f55-e3ba-dc0ca980b614"
   },
   "outputs": [
    {
     "name": "stdout",
     "output_type": "stream",
     "text": [
      "<class 'pandas.core.frame.DataFrame'>\n",
      "RangeIndex: 10683 entries, 0 to 10682\n",
      "Data columns (total 11 columns):\n",
      " #   Column           Non-Null Count  Dtype \n",
      "---  ------           --------------  ----- \n",
      " 0   Airline          10683 non-null  object\n",
      " 1   Date_of_Journey  10683 non-null  object\n",
      " 2   Source           10683 non-null  object\n",
      " 3   Destination      10683 non-null  object\n",
      " 4   Route            10682 non-null  object\n",
      " 5   Dep_Time         10683 non-null  object\n",
      " 6   Arrival_Time     10683 non-null  object\n",
      " 7   Duration         10683 non-null  object\n",
      " 8   Total_Stops      10682 non-null  object\n",
      " 9   Additional_Info  10683 non-null  object\n",
      " 10  Price            10683 non-null  int64 \n",
      "dtypes: int64(1), object(10)\n",
      "memory usage: 918.2+ KB\n"
     ]
    }
   ],
   "source": [
    "train_dt.info()"
   ]
  },
  {
   "cell_type": "code",
   "execution_count": 6,
   "id": "50d58dec",
   "metadata": {
    "colab": {
     "base_uri": "https://localhost:8080/",
     "height": 297
    },
    "executionInfo": {
     "elapsed": 17,
     "status": "ok",
     "timestamp": 1631029032942,
     "user": {
      "displayName": "HANUMAN AGRAWAL",
      "photoUrl": "",
      "userId": "09126690663497139280"
     },
     "user_tz": -330
    },
    "id": "50d58dec",
    "outputId": "45bb2c84-84c9-4bec-e91d-2ad272042817"
   },
   "outputs": [
    {
     "data": {
      "text/html": [
       "<div>\n",
       "<style scoped>\n",
       "    .dataframe tbody tr th:only-of-type {\n",
       "        vertical-align: middle;\n",
       "    }\n",
       "\n",
       "    .dataframe tbody tr th {\n",
       "        vertical-align: top;\n",
       "    }\n",
       "\n",
       "    .dataframe thead th {\n",
       "        text-align: right;\n",
       "    }\n",
       "</style>\n",
       "<table border=\"1\" class=\"dataframe\">\n",
       "  <thead>\n",
       "    <tr style=\"text-align: right;\">\n",
       "      <th></th>\n",
       "      <th>Price</th>\n",
       "    </tr>\n",
       "  </thead>\n",
       "  <tbody>\n",
       "    <tr>\n",
       "      <th>count</th>\n",
       "      <td>10683.000000</td>\n",
       "    </tr>\n",
       "    <tr>\n",
       "      <th>mean</th>\n",
       "      <td>9087.064121</td>\n",
       "    </tr>\n",
       "    <tr>\n",
       "      <th>std</th>\n",
       "      <td>4611.359167</td>\n",
       "    </tr>\n",
       "    <tr>\n",
       "      <th>min</th>\n",
       "      <td>1759.000000</td>\n",
       "    </tr>\n",
       "    <tr>\n",
       "      <th>25%</th>\n",
       "      <td>5277.000000</td>\n",
       "    </tr>\n",
       "    <tr>\n",
       "      <th>50%</th>\n",
       "      <td>8372.000000</td>\n",
       "    </tr>\n",
       "    <tr>\n",
       "      <th>75%</th>\n",
       "      <td>12373.000000</td>\n",
       "    </tr>\n",
       "    <tr>\n",
       "      <th>max</th>\n",
       "      <td>79512.000000</td>\n",
       "    </tr>\n",
       "  </tbody>\n",
       "</table>\n",
       "</div>"
      ],
      "text/plain": [
       "              Price\n",
       "count  10683.000000\n",
       "mean    9087.064121\n",
       "std     4611.359167\n",
       "min     1759.000000\n",
       "25%     5277.000000\n",
       "50%     8372.000000\n",
       "75%    12373.000000\n",
       "max    79512.000000"
      ]
     },
     "execution_count": 6,
     "metadata": {},
     "output_type": "execute_result"
    }
   ],
   "source": [
    "train_dt.describe()"
   ]
  },
  {
   "cell_type": "code",
   "execution_count": 7,
   "id": "6e5b7d53",
   "metadata": {
    "colab": {
     "base_uri": "https://localhost:8080/"
    },
    "executionInfo": {
     "elapsed": 12,
     "status": "ok",
     "timestamp": 1631029032943,
     "user": {
      "displayName": "HANUMAN AGRAWAL",
      "photoUrl": "",
      "userId": "09126690663497139280"
     },
     "user_tz": -330
    },
    "id": "6e5b7d53",
    "outputId": "1a725e37-a558-4c29-d259-2a995a8d86cf"
   },
   "outputs": [
    {
     "data": {
      "text/plain": [
       "Index(['Airline', 'Date_of_Journey', 'Source', 'Destination', 'Route',\n",
       "       'Dep_Time', 'Arrival_Time', 'Duration', 'Total_Stops',\n",
       "       'Additional_Info', 'Price'],\n",
       "      dtype='object')"
      ]
     },
     "execution_count": 7,
     "metadata": {},
     "output_type": "execute_result"
    }
   ],
   "source": [
    "train_dt.columns"
   ]
  },
  {
   "cell_type": "code",
   "execution_count": 8,
   "id": "2add0f3c",
   "metadata": {
    "colab": {
     "base_uri": "https://localhost:8080/"
    },
    "executionInfo": {
     "elapsed": 9,
     "status": "ok",
     "timestamp": 1631029033756,
     "user": {
      "displayName": "HANUMAN AGRAWAL",
      "photoUrl": "",
      "userId": "09126690663497139280"
     },
     "user_tz": -330
    },
    "id": "2add0f3c",
    "outputId": "8ca51992-40f7-4cda-aff5-b3c5bfe6e381"
   },
   "outputs": [
    {
     "data": {
      "text/plain": [
       "Airline            0\n",
       "Date_of_Journey    0\n",
       "Source             0\n",
       "Destination        0\n",
       "Route              1\n",
       "Dep_Time           0\n",
       "Arrival_Time       0\n",
       "Duration           0\n",
       "Total_Stops        1\n",
       "Additional_Info    0\n",
       "Price              0\n",
       "dtype: int64"
      ]
     },
     "execution_count": 8,
     "metadata": {},
     "output_type": "execute_result"
    }
   ],
   "source": [
    "train_dt.isnull().sum()"
   ]
  },
  {
   "cell_type": "code",
   "execution_count": 9,
   "id": "0b3e4b8e",
   "metadata": {
    "executionInfo": {
     "elapsed": 5,
     "status": "ok",
     "timestamp": 1631029033757,
     "user": {
      "displayName": "HANUMAN AGRAWAL",
      "photoUrl": "",
      "userId": "09126690663497139280"
     },
     "user_tz": -330
    },
    "id": "0b3e4b8e"
   },
   "outputs": [],
   "source": [
    "train_dt.dropna(inplace=True)"
   ]
  },
  {
   "cell_type": "code",
   "execution_count": 10,
   "id": "be439f56",
   "metadata": {
    "colab": {
     "base_uri": "https://localhost:8080/"
    },
    "executionInfo": {
     "elapsed": 11,
     "status": "ok",
     "timestamp": 1631029034746,
     "user": {
      "displayName": "HANUMAN AGRAWAL",
      "photoUrl": "",
      "userId": "09126690663497139280"
     },
     "user_tz": -330
    },
    "id": "be439f56",
    "outputId": "85a95bd4-6daf-43ef-d1ec-8a4cbce69b70"
   },
   "outputs": [
    {
     "data": {
      "text/plain": [
       "2h 50m     550\n",
       "1h 30m     386\n",
       "2h 55m     337\n",
       "2h 45m     337\n",
       "2h 35m     329\n",
       "          ... \n",
       "47h          1\n",
       "13h 35m      1\n",
       "27h 30m      1\n",
       "29h 30m      1\n",
       "4h 10m       1\n",
       "Name: Duration, Length: 368, dtype: int64"
      ]
     },
     "execution_count": 10,
     "metadata": {},
     "output_type": "execute_result"
    }
   ],
   "source": [
    "train_dt['Duration'].value_counts()"
   ]
  },
  {
   "cell_type": "code",
   "execution_count": 11,
   "id": "46edead8",
   "metadata": {
    "colab": {
     "base_uri": "https://localhost:8080/"
    },
    "executionInfo": {
     "elapsed": 7,
     "status": "ok",
     "timestamp": 1631029034747,
     "user": {
      "displayName": "HANUMAN AGRAWAL",
      "photoUrl": "",
      "userId": "09126690663497139280"
     },
     "user_tz": -330
    },
    "id": "46edead8",
    "outputId": "b2a5540b-166a-4123-e64f-ca8cabc40812"
   },
   "outputs": [
    {
     "data": {
      "text/plain": [
       "(10682, 11)"
      ]
     },
     "execution_count": 11,
     "metadata": {},
     "output_type": "execute_result"
    }
   ],
   "source": [
    "train_dt.shape"
   ]
  },
  {
   "cell_type": "markdown",
   "id": "317ffb0b",
   "metadata": {
    "id": "317ffb0b"
   },
   "source": [
    "# EDA and Feature Engineering"
   ]
  },
  {
   "cell_type": "markdown",
   "id": "3c61d1f7",
   "metadata": {
    "id": "3c61d1f7"
   },
   "source": [
    "#### Let's convert Date_of_Journey to its appropriate format as datetime with regard to day and month"
   ]
  },
  {
   "cell_type": "code",
   "execution_count": 12,
   "id": "c2f1cd72",
   "metadata": {
    "colab": {
     "base_uri": "https://localhost:8080/",
     "height": 142
    },
    "executionInfo": {
     "elapsed": 7,
     "status": "ok",
     "timestamp": 1631029036635,
     "user": {
      "displayName": "HANUMAN AGRAWAL",
      "photoUrl": "",
      "userId": "09126690663497139280"
     },
     "user_tz": -330
    },
    "id": "c2f1cd72",
    "outputId": "b4947fc6-cb10-40a8-a661-373a622072ff"
   },
   "outputs": [
    {
     "data": {
      "text/html": [
       "<div>\n",
       "<style scoped>\n",
       "    .dataframe tbody tr th:only-of-type {\n",
       "        vertical-align: middle;\n",
       "    }\n",
       "\n",
       "    .dataframe tbody tr th {\n",
       "        vertical-align: top;\n",
       "    }\n",
       "\n",
       "    .dataframe thead th {\n",
       "        text-align: right;\n",
       "    }\n",
       "</style>\n",
       "<table border=\"1\" class=\"dataframe\">\n",
       "  <thead>\n",
       "    <tr style=\"text-align: right;\">\n",
       "      <th></th>\n",
       "      <th>Airline</th>\n",
       "      <th>Date_of_Journey</th>\n",
       "      <th>Source</th>\n",
       "      <th>Destination</th>\n",
       "      <th>Route</th>\n",
       "      <th>Dep_Time</th>\n",
       "      <th>Arrival_Time</th>\n",
       "      <th>Duration</th>\n",
       "      <th>Total_Stops</th>\n",
       "      <th>Additional_Info</th>\n",
       "      <th>Price</th>\n",
       "    </tr>\n",
       "  </thead>\n",
       "  <tbody>\n",
       "    <tr>\n",
       "      <th>0</th>\n",
       "      <td>IndiGo</td>\n",
       "      <td>24/03/2019</td>\n",
       "      <td>Banglore</td>\n",
       "      <td>New Delhi</td>\n",
       "      <td>BLR → DEL</td>\n",
       "      <td>22:20</td>\n",
       "      <td>01:10 22 Mar</td>\n",
       "      <td>2h 50m</td>\n",
       "      <td>non-stop</td>\n",
       "      <td>No info</td>\n",
       "      <td>3897</td>\n",
       "    </tr>\n",
       "    <tr>\n",
       "      <th>1</th>\n",
       "      <td>Air India</td>\n",
       "      <td>1/05/2019</td>\n",
       "      <td>Kolkata</td>\n",
       "      <td>Banglore</td>\n",
       "      <td>CCU → IXR → BBI → BLR</td>\n",
       "      <td>05:50</td>\n",
       "      <td>13:15</td>\n",
       "      <td>7h 25m</td>\n",
       "      <td>2 stops</td>\n",
       "      <td>No info</td>\n",
       "      <td>7662</td>\n",
       "    </tr>\n",
       "    <tr>\n",
       "      <th>2</th>\n",
       "      <td>Jet Airways</td>\n",
       "      <td>9/06/2019</td>\n",
       "      <td>Delhi</td>\n",
       "      <td>Cochin</td>\n",
       "      <td>DEL → LKO → BOM → COK</td>\n",
       "      <td>09:25</td>\n",
       "      <td>04:25 10 Jun</td>\n",
       "      <td>19h</td>\n",
       "      <td>2 stops</td>\n",
       "      <td>No info</td>\n",
       "      <td>13882</td>\n",
       "    </tr>\n",
       "  </tbody>\n",
       "</table>\n",
       "</div>"
      ],
      "text/plain": [
       "       Airline Date_of_Journey    Source Destination                  Route  \\\n",
       "0       IndiGo      24/03/2019  Banglore   New Delhi              BLR → DEL   \n",
       "1    Air India       1/05/2019   Kolkata    Banglore  CCU → IXR → BBI → BLR   \n",
       "2  Jet Airways       9/06/2019     Delhi      Cochin  DEL → LKO → BOM → COK   \n",
       "\n",
       "  Dep_Time  Arrival_Time Duration Total_Stops Additional_Info  Price  \n",
       "0    22:20  01:10 22 Mar   2h 50m    non-stop         No info   3897  \n",
       "1    05:50         13:15   7h 25m     2 stops         No info   7662  \n",
       "2    09:25  04:25 10 Jun      19h     2 stops         No info  13882  "
      ]
     },
     "execution_count": 12,
     "metadata": {},
     "output_type": "execute_result"
    }
   ],
   "source": [
    "train_dt.head(3)"
   ]
  },
  {
   "cell_type": "markdown",
   "id": "5bfa3ad6",
   "metadata": {
    "id": "5bfa3ad6"
   },
   "source": [
    "### Date_of_journey"
   ]
  },
  {
   "cell_type": "code",
   "execution_count": 13,
   "id": "27ce297b",
   "metadata": {
    "executionInfo": {
     "elapsed": 9,
     "status": "ok",
     "timestamp": 1631029037395,
     "user": {
      "displayName": "HANUMAN AGRAWAL",
      "photoUrl": "",
      "userId": "09126690663497139280"
     },
     "user_tz": -330
    },
    "id": "27ce297b"
   },
   "outputs": [],
   "source": [
    "train_dt['Date_of_Journey'] = pd.to_datetime(train_dt.Date_of_Journey)\n",
    "train_dt['Day_of_Journey'] = (train_dt['Date_of_Journey']).dt.day\n",
    "train_dt['Month_of_Journey'] = (train_dt['Date_of_Journey']).dt.month"
   ]
  },
  {
   "cell_type": "code",
   "execution_count": 14,
   "id": "ddaa7d8d",
   "metadata": {
    "colab": {
     "base_uri": "https://localhost:8080/"
    },
    "executionInfo": {
     "elapsed": 8,
     "status": "ok",
     "timestamp": 1631029037395,
     "user": {
      "displayName": "HANUMAN AGRAWAL",
      "photoUrl": "",
      "userId": "09126690663497139280"
     },
     "user_tz": -330
    },
    "id": "ddaa7d8d",
    "outputId": "417eb4ee-2209-46f2-9d98-e4d19340805c"
   },
   "outputs": [
    {
     "name": "stdout",
     "output_type": "stream",
     "text": [
      "<class 'pandas.core.frame.DataFrame'>\n",
      "Int64Index: 10682 entries, 0 to 10682\n",
      "Data columns (total 13 columns):\n",
      " #   Column            Non-Null Count  Dtype         \n",
      "---  ------            --------------  -----         \n",
      " 0   Airline           10682 non-null  object        \n",
      " 1   Date_of_Journey   10682 non-null  datetime64[ns]\n",
      " 2   Source            10682 non-null  object        \n",
      " 3   Destination       10682 non-null  object        \n",
      " 4   Route             10682 non-null  object        \n",
      " 5   Dep_Time          10682 non-null  object        \n",
      " 6   Arrival_Time      10682 non-null  object        \n",
      " 7   Duration          10682 non-null  object        \n",
      " 8   Total_Stops       10682 non-null  object        \n",
      " 9   Additional_Info   10682 non-null  object        \n",
      " 10  Price             10682 non-null  int64         \n",
      " 11  Day_of_Journey    10682 non-null  int64         \n",
      " 12  Month_of_Journey  10682 non-null  int64         \n",
      "dtypes: datetime64[ns](1), int64(3), object(9)\n",
      "memory usage: 1.1+ MB\n"
     ]
    }
   ],
   "source": [
    "train_dt.info()"
   ]
  },
  {
   "cell_type": "code",
   "execution_count": 15,
   "id": "4d1d8b49",
   "metadata": {
    "colab": {
     "base_uri": "https://localhost:8080/",
     "height": 204
    },
    "executionInfo": {
     "elapsed": 13,
     "status": "ok",
     "timestamp": 1631029038223,
     "user": {
      "displayName": "HANUMAN AGRAWAL",
      "photoUrl": "",
      "userId": "09126690663497139280"
     },
     "user_tz": -330
    },
    "id": "4d1d8b49",
    "outputId": "2f9d387c-b616-4b61-afbe-c50181bcc7ba"
   },
   "outputs": [
    {
     "data": {
      "text/html": [
       "<div>\n",
       "<style scoped>\n",
       "    .dataframe tbody tr th:only-of-type {\n",
       "        vertical-align: middle;\n",
       "    }\n",
       "\n",
       "    .dataframe tbody tr th {\n",
       "        vertical-align: top;\n",
       "    }\n",
       "\n",
       "    .dataframe thead th {\n",
       "        text-align: right;\n",
       "    }\n",
       "</style>\n",
       "<table border=\"1\" class=\"dataframe\">\n",
       "  <thead>\n",
       "    <tr style=\"text-align: right;\">\n",
       "      <th></th>\n",
       "      <th>Airline</th>\n",
       "      <th>Date_of_Journey</th>\n",
       "      <th>Source</th>\n",
       "      <th>Destination</th>\n",
       "      <th>Route</th>\n",
       "      <th>Dep_Time</th>\n",
       "      <th>Arrival_Time</th>\n",
       "      <th>Duration</th>\n",
       "      <th>Total_Stops</th>\n",
       "      <th>Additional_Info</th>\n",
       "      <th>Price</th>\n",
       "      <th>Day_of_Journey</th>\n",
       "      <th>Month_of_Journey</th>\n",
       "    </tr>\n",
       "  </thead>\n",
       "  <tbody>\n",
       "    <tr>\n",
       "      <th>0</th>\n",
       "      <td>IndiGo</td>\n",
       "      <td>2019-03-24</td>\n",
       "      <td>Banglore</td>\n",
       "      <td>New Delhi</td>\n",
       "      <td>BLR → DEL</td>\n",
       "      <td>22:20</td>\n",
       "      <td>01:10 22 Mar</td>\n",
       "      <td>2h 50m</td>\n",
       "      <td>non-stop</td>\n",
       "      <td>No info</td>\n",
       "      <td>3897</td>\n",
       "      <td>24</td>\n",
       "      <td>3</td>\n",
       "    </tr>\n",
       "    <tr>\n",
       "      <th>1</th>\n",
       "      <td>Air India</td>\n",
       "      <td>2019-01-05</td>\n",
       "      <td>Kolkata</td>\n",
       "      <td>Banglore</td>\n",
       "      <td>CCU → IXR → BBI → BLR</td>\n",
       "      <td>05:50</td>\n",
       "      <td>13:15</td>\n",
       "      <td>7h 25m</td>\n",
       "      <td>2 stops</td>\n",
       "      <td>No info</td>\n",
       "      <td>7662</td>\n",
       "      <td>5</td>\n",
       "      <td>1</td>\n",
       "    </tr>\n",
       "    <tr>\n",
       "      <th>2</th>\n",
       "      <td>Jet Airways</td>\n",
       "      <td>2019-09-06</td>\n",
       "      <td>Delhi</td>\n",
       "      <td>Cochin</td>\n",
       "      <td>DEL → LKO → BOM → COK</td>\n",
       "      <td>09:25</td>\n",
       "      <td>04:25 10 Jun</td>\n",
       "      <td>19h</td>\n",
       "      <td>2 stops</td>\n",
       "      <td>No info</td>\n",
       "      <td>13882</td>\n",
       "      <td>6</td>\n",
       "      <td>9</td>\n",
       "    </tr>\n",
       "    <tr>\n",
       "      <th>3</th>\n",
       "      <td>IndiGo</td>\n",
       "      <td>2019-12-05</td>\n",
       "      <td>Kolkata</td>\n",
       "      <td>Banglore</td>\n",
       "      <td>CCU → NAG → BLR</td>\n",
       "      <td>18:05</td>\n",
       "      <td>23:30</td>\n",
       "      <td>5h 25m</td>\n",
       "      <td>1 stop</td>\n",
       "      <td>No info</td>\n",
       "      <td>6218</td>\n",
       "      <td>5</td>\n",
       "      <td>12</td>\n",
       "    </tr>\n",
       "    <tr>\n",
       "      <th>4</th>\n",
       "      <td>IndiGo</td>\n",
       "      <td>2019-01-03</td>\n",
       "      <td>Banglore</td>\n",
       "      <td>New Delhi</td>\n",
       "      <td>BLR → NAG → DEL</td>\n",
       "      <td>16:50</td>\n",
       "      <td>21:35</td>\n",
       "      <td>4h 45m</td>\n",
       "      <td>1 stop</td>\n",
       "      <td>No info</td>\n",
       "      <td>13302</td>\n",
       "      <td>3</td>\n",
       "      <td>1</td>\n",
       "    </tr>\n",
       "  </tbody>\n",
       "</table>\n",
       "</div>"
      ],
      "text/plain": [
       "       Airline Date_of_Journey    Source Destination                  Route  \\\n",
       "0       IndiGo      2019-03-24  Banglore   New Delhi              BLR → DEL   \n",
       "1    Air India      2019-01-05   Kolkata    Banglore  CCU → IXR → BBI → BLR   \n",
       "2  Jet Airways      2019-09-06     Delhi      Cochin  DEL → LKO → BOM → COK   \n",
       "3       IndiGo      2019-12-05   Kolkata    Banglore        CCU → NAG → BLR   \n",
       "4       IndiGo      2019-01-03  Banglore   New Delhi        BLR → NAG → DEL   \n",
       "\n",
       "  Dep_Time  Arrival_Time Duration Total_Stops Additional_Info  Price  \\\n",
       "0    22:20  01:10 22 Mar   2h 50m    non-stop         No info   3897   \n",
       "1    05:50         13:15   7h 25m     2 stops         No info   7662   \n",
       "2    09:25  04:25 10 Jun      19h     2 stops         No info  13882   \n",
       "3    18:05         23:30   5h 25m      1 stop         No info   6218   \n",
       "4    16:50         21:35   4h 45m      1 stop         No info  13302   \n",
       "\n",
       "   Day_of_Journey  Month_of_Journey  \n",
       "0              24                 3  \n",
       "1               5                 1  \n",
       "2               6                 9  \n",
       "3               5                12  \n",
       "4               3                 1  "
      ]
     },
     "execution_count": 15,
     "metadata": {},
     "output_type": "execute_result"
    }
   ],
   "source": [
    "train_dt.head()"
   ]
  },
  {
   "cell_type": "code",
   "execution_count": 16,
   "id": "da62c5b1",
   "metadata": {
    "executionInfo": {
     "elapsed": 10,
     "status": "ok",
     "timestamp": 1631029038224,
     "user": {
      "displayName": "HANUMAN AGRAWAL",
      "photoUrl": "",
      "userId": "09126690663497139280"
     },
     "user_tz": -330
    },
    "id": "da62c5b1"
   },
   "outputs": [],
   "source": [
    "train_dt.drop(['Date_of_Journey'],axis=1,inplace = True)"
   ]
  },
  {
   "cell_type": "markdown",
   "id": "7738a4d4",
   "metadata": {
    "id": "7738a4d4"
   },
   "source": [
    "### Dep_time"
   ]
  },
  {
   "cell_type": "code",
   "execution_count": 17,
   "id": "9873d185",
   "metadata": {
    "executionInfo": {
     "elapsed": 9,
     "status": "ok",
     "timestamp": 1631029038224,
     "user": {
      "displayName": "HANUMAN AGRAWAL",
      "photoUrl": "",
      "userId": "09126690663497139280"
     },
     "user_tz": -330
    },
    "id": "9873d185"
   },
   "outputs": [],
   "source": [
    "train_dt['Dep_hr'] = pd.to_datetime(train_dt['Dep_Time']).dt.hour\n",
    "train_dt['Dep_min'] = pd.to_datetime(train_dt['Dep_Time']).dt.minute"
   ]
  },
  {
   "cell_type": "code",
   "execution_count": 18,
   "id": "58d9c6e1",
   "metadata": {
    "executionInfo": {
     "elapsed": 7,
     "status": "ok",
     "timestamp": 1631029039159,
     "user": {
      "displayName": "HANUMAN AGRAWAL",
      "photoUrl": "",
      "userId": "09126690663497139280"
     },
     "user_tz": -330
    },
    "id": "58d9c6e1"
   },
   "outputs": [],
   "source": [
    "train_dt.drop(['Dep_Time'],axis=1,inplace=True)"
   ]
  },
  {
   "cell_type": "code",
   "execution_count": null,
   "id": "4016ee3a",
   "metadata": {
    "executionInfo": {
     "elapsed": 6,
     "status": "ok",
     "timestamp": 1631029039160,
     "user": {
      "displayName": "HANUMAN AGRAWAL",
      "photoUrl": "",
      "userId": "09126690663497139280"
     },
     "user_tz": -330
    },
    "id": "4016ee3a"
   },
   "outputs": [],
   "source": []
  },
  {
   "cell_type": "markdown",
   "id": "3deecbb5",
   "metadata": {
    "id": "3deecbb5"
   },
   "source": [
    "### Arrival_time"
   ]
  },
  {
   "cell_type": "code",
   "execution_count": 19,
   "id": "7de1b02e",
   "metadata": {
    "executionInfo": {
     "elapsed": 3,
     "status": "ok",
     "timestamp": 1631029040338,
     "user": {
      "displayName": "HANUMAN AGRAWAL",
      "photoUrl": "",
      "userId": "09126690663497139280"
     },
     "user_tz": -330
    },
    "id": "7de1b02e"
   },
   "outputs": [],
   "source": [
    "train_dt['Arrival_hr'] = pd.to_datetime(train_dt['Arrival_Time']).dt.hour\n",
    "train_dt['Arrival_min'] = pd.to_datetime(train_dt['Arrival_Time']).dt.minute"
   ]
  },
  {
   "cell_type": "code",
   "execution_count": 20,
   "id": "6f9703df",
   "metadata": {
    "executionInfo": {
     "elapsed": 8,
     "status": "ok",
     "timestamp": 1631029041137,
     "user": {
      "displayName": "HANUMAN AGRAWAL",
      "photoUrl": "",
      "userId": "09126690663497139280"
     },
     "user_tz": -330
    },
    "id": "6f9703df"
   },
   "outputs": [],
   "source": [
    "train_dt.drop(['Arrival_Time'],axis=1,inplace=True)"
   ]
  },
  {
   "cell_type": "code",
   "execution_count": null,
   "id": "8b22b39f",
   "metadata": {
    "executionInfo": {
     "elapsed": 7,
     "status": "ok",
     "timestamp": 1631029041138,
     "user": {
      "displayName": "HANUMAN AGRAWAL",
      "photoUrl": "",
      "userId": "09126690663497139280"
     },
     "user_tz": -330
    },
    "id": "8b22b39f"
   },
   "outputs": [],
   "source": []
  },
  {
   "cell_type": "markdown",
   "id": "75f6dd92",
   "metadata": {
    "id": "75f6dd92"
   },
   "source": [
    "### Duration Time"
   ]
  },
  {
   "cell_type": "code",
   "execution_count": 21,
   "id": "11525da1",
   "metadata": {
    "executionInfo": {
     "elapsed": 6,
     "status": "ok",
     "timestamp": 1631029041138,
     "user": {
      "displayName": "HANUMAN AGRAWAL",
      "photoUrl": "",
      "userId": "09126690663497139280"
     },
     "user_tz": -330
    },
    "id": "11525da1"
   },
   "outputs": [],
   "source": [
    "duration = train_dt.Duration.str.split(\" \",expand=True)"
   ]
  },
  {
   "cell_type": "code",
   "execution_count": 22,
   "id": "e5696b0f",
   "metadata": {
    "colab": {
     "base_uri": "https://localhost:8080/"
    },
    "executionInfo": {
     "elapsed": 6,
     "status": "ok",
     "timestamp": 1631029041986,
     "user": {
      "displayName": "HANUMAN AGRAWAL",
      "photoUrl": "",
      "userId": "09126690663497139280"
     },
     "user_tz": -330
    },
    "id": "e5696b0f",
    "outputId": "cb562e63-d1d5-40e5-914a-6653e30b6f51"
   },
   "outputs": [
    {
     "data": {
      "text/plain": [
       "0       0\n",
       "1    1032\n",
       "dtype: int64"
      ]
     },
     "execution_count": 22,
     "metadata": {},
     "output_type": "execute_result"
    }
   ],
   "source": [
    "duration.isnull().sum()"
   ]
  },
  {
   "cell_type": "code",
   "execution_count": 23,
   "id": "688625c3",
   "metadata": {
    "executionInfo": {
     "elapsed": 3,
     "status": "ok",
     "timestamp": 1631029042891,
     "user": {
      "displayName": "HANUMAN AGRAWAL",
      "photoUrl": "",
      "userId": "09126690663497139280"
     },
     "user_tz": -330
    },
    "id": "688625c3"
   },
   "outputs": [],
   "source": [
    "duration[1].fillna('00m',inplace=True)"
   ]
  },
  {
   "cell_type": "code",
   "execution_count": 24,
   "id": "6ff3f202",
   "metadata": {
    "executionInfo": {
     "elapsed": 3,
     "status": "ok",
     "timestamp": 1631029042891,
     "user": {
      "displayName": "HANUMAN AGRAWAL",
      "photoUrl": "",
      "userId": "09126690663497139280"
     },
     "user_tz": -330
    },
    "id": "6ff3f202"
   },
   "outputs": [],
   "source": [
    "train_dt['duration_hr'] = duration[0].apply(lambda x: x[:-1])\n",
    "train_dt['duration_min'] = duration[1].apply(lambda x: x[:-1])"
   ]
  },
  {
   "cell_type": "code",
   "execution_count": 25,
   "id": "23537ab0",
   "metadata": {
    "executionInfo": {
     "elapsed": 3,
     "status": "ok",
     "timestamp": 1631029042892,
     "user": {
      "displayName": "HANUMAN AGRAWAL",
      "photoUrl": "",
      "userId": "09126690663497139280"
     },
     "user_tz": -330
    },
    "id": "23537ab0"
   },
   "outputs": [],
   "source": [
    "train_dt.drop(['Duration'],axis=1,inplace=True)"
   ]
  },
  {
   "cell_type": "code",
   "execution_count": 26,
   "id": "1423e7a7",
   "metadata": {
    "colab": {
     "base_uri": "https://localhost:8080/",
     "height": 391
    },
    "executionInfo": {
     "elapsed": 6,
     "status": "ok",
     "timestamp": 1631029043988,
     "user": {
      "displayName": "HANUMAN AGRAWAL",
      "photoUrl": "",
      "userId": "09126690663497139280"
     },
     "user_tz": -330
    },
    "id": "1423e7a7",
    "outputId": "b12fd70b-5861-4d3c-a1e7-730d9613a4d4"
   },
   "outputs": [
    {
     "data": {
      "text/html": [
       "<div>\n",
       "<style scoped>\n",
       "    .dataframe tbody tr th:only-of-type {\n",
       "        vertical-align: middle;\n",
       "    }\n",
       "\n",
       "    .dataframe tbody tr th {\n",
       "        vertical-align: top;\n",
       "    }\n",
       "\n",
       "    .dataframe thead th {\n",
       "        text-align: right;\n",
       "    }\n",
       "</style>\n",
       "<table border=\"1\" class=\"dataframe\">\n",
       "  <thead>\n",
       "    <tr style=\"text-align: right;\">\n",
       "      <th></th>\n",
       "      <th>Airline</th>\n",
       "      <th>Source</th>\n",
       "      <th>Destination</th>\n",
       "      <th>Route</th>\n",
       "      <th>Total_Stops</th>\n",
       "      <th>Additional_Info</th>\n",
       "      <th>Price</th>\n",
       "      <th>Day_of_Journey</th>\n",
       "      <th>Month_of_Journey</th>\n",
       "      <th>Dep_hr</th>\n",
       "      <th>Dep_min</th>\n",
       "      <th>Arrival_hr</th>\n",
       "      <th>Arrival_min</th>\n",
       "      <th>duration_hr</th>\n",
       "      <th>duration_min</th>\n",
       "    </tr>\n",
       "  </thead>\n",
       "  <tbody>\n",
       "    <tr>\n",
       "      <th>0</th>\n",
       "      <td>IndiGo</td>\n",
       "      <td>Banglore</td>\n",
       "      <td>New Delhi</td>\n",
       "      <td>BLR → DEL</td>\n",
       "      <td>non-stop</td>\n",
       "      <td>No info</td>\n",
       "      <td>3897</td>\n",
       "      <td>24</td>\n",
       "      <td>3</td>\n",
       "      <td>22</td>\n",
       "      <td>20</td>\n",
       "      <td>1</td>\n",
       "      <td>10</td>\n",
       "      <td>2</td>\n",
       "      <td>50</td>\n",
       "    </tr>\n",
       "    <tr>\n",
       "      <th>1</th>\n",
       "      <td>Air India</td>\n",
       "      <td>Kolkata</td>\n",
       "      <td>Banglore</td>\n",
       "      <td>CCU → IXR → BBI → BLR</td>\n",
       "      <td>2 stops</td>\n",
       "      <td>No info</td>\n",
       "      <td>7662</td>\n",
       "      <td>5</td>\n",
       "      <td>1</td>\n",
       "      <td>5</td>\n",
       "      <td>50</td>\n",
       "      <td>13</td>\n",
       "      <td>15</td>\n",
       "      <td>7</td>\n",
       "      <td>25</td>\n",
       "    </tr>\n",
       "    <tr>\n",
       "      <th>2</th>\n",
       "      <td>Jet Airways</td>\n",
       "      <td>Delhi</td>\n",
       "      <td>Cochin</td>\n",
       "      <td>DEL → LKO → BOM → COK</td>\n",
       "      <td>2 stops</td>\n",
       "      <td>No info</td>\n",
       "      <td>13882</td>\n",
       "      <td>6</td>\n",
       "      <td>9</td>\n",
       "      <td>9</td>\n",
       "      <td>25</td>\n",
       "      <td>4</td>\n",
       "      <td>25</td>\n",
       "      <td>19</td>\n",
       "      <td>00</td>\n",
       "    </tr>\n",
       "    <tr>\n",
       "      <th>3</th>\n",
       "      <td>IndiGo</td>\n",
       "      <td>Kolkata</td>\n",
       "      <td>Banglore</td>\n",
       "      <td>CCU → NAG → BLR</td>\n",
       "      <td>1 stop</td>\n",
       "      <td>No info</td>\n",
       "      <td>6218</td>\n",
       "      <td>5</td>\n",
       "      <td>12</td>\n",
       "      <td>18</td>\n",
       "      <td>5</td>\n",
       "      <td>23</td>\n",
       "      <td>30</td>\n",
       "      <td>5</td>\n",
       "      <td>25</td>\n",
       "    </tr>\n",
       "    <tr>\n",
       "      <th>4</th>\n",
       "      <td>IndiGo</td>\n",
       "      <td>Banglore</td>\n",
       "      <td>New Delhi</td>\n",
       "      <td>BLR → NAG → DEL</td>\n",
       "      <td>1 stop</td>\n",
       "      <td>No info</td>\n",
       "      <td>13302</td>\n",
       "      <td>3</td>\n",
       "      <td>1</td>\n",
       "      <td>16</td>\n",
       "      <td>50</td>\n",
       "      <td>21</td>\n",
       "      <td>35</td>\n",
       "      <td>4</td>\n",
       "      <td>45</td>\n",
       "    </tr>\n",
       "  </tbody>\n",
       "</table>\n",
       "</div>"
      ],
      "text/plain": [
       "       Airline    Source Destination                  Route Total_Stops  \\\n",
       "0       IndiGo  Banglore   New Delhi              BLR → DEL    non-stop   \n",
       "1    Air India   Kolkata    Banglore  CCU → IXR → BBI → BLR     2 stops   \n",
       "2  Jet Airways     Delhi      Cochin  DEL → LKO → BOM → COK     2 stops   \n",
       "3       IndiGo   Kolkata    Banglore        CCU → NAG → BLR      1 stop   \n",
       "4       IndiGo  Banglore   New Delhi        BLR → NAG → DEL      1 stop   \n",
       "\n",
       "  Additional_Info  Price  Day_of_Journey  Month_of_Journey  Dep_hr  Dep_min  \\\n",
       "0         No info   3897              24                 3      22       20   \n",
       "1         No info   7662               5                 1       5       50   \n",
       "2         No info  13882               6                 9       9       25   \n",
       "3         No info   6218               5                12      18        5   \n",
       "4         No info  13302               3                 1      16       50   \n",
       "\n",
       "   Arrival_hr  Arrival_min duration_hr duration_min  \n",
       "0           1           10           2           50  \n",
       "1          13           15           7           25  \n",
       "2           4           25          19           00  \n",
       "3          23           30           5           25  \n",
       "4          21           35           4           45  "
      ]
     },
     "execution_count": 26,
     "metadata": {},
     "output_type": "execute_result"
    }
   ],
   "source": [
    "train_dt.head()"
   ]
  },
  {
   "cell_type": "markdown",
   "id": "dff5f411",
   "metadata": {
    "id": "dff5f411"
   },
   "source": [
    "# handling categorical data\n",
    "\n",
    "1. Nominal data --> data are not in any order --> OneHotEncoder is used in this case\n",
    "2. Ordinal data --> data are in order --> LabelEncoder is used in this case"
   ]
  },
  {
   "cell_type": "code",
   "execution_count": 27,
   "id": "5b055779",
   "metadata": {
    "colab": {
     "base_uri": "https://localhost:8080/"
    },
    "executionInfo": {
     "elapsed": 11,
     "status": "ok",
     "timestamp": 1631029045094,
     "user": {
      "displayName": "HANUMAN AGRAWAL",
      "photoUrl": "",
      "userId": "09126690663497139280"
     },
     "user_tz": -330
    },
    "id": "5b055779",
    "outputId": "6b32f586-b1f0-4d10-a0c0-3e23357bde4c"
   },
   "outputs": [
    {
     "data": {
      "text/plain": [
       "Jet Airways                          3849\n",
       "IndiGo                               2053\n",
       "Air India                            1751\n",
       "Multiple carriers                    1196\n",
       "SpiceJet                              818\n",
       "Vistara                               479\n",
       "Air Asia                              319\n",
       "GoAir                                 194\n",
       "Multiple carriers Premium economy      13\n",
       "Jet Airways Business                    6\n",
       "Vistara Premium economy                 3\n",
       "Trujet                                  1\n",
       "Name: Airline, dtype: int64"
      ]
     },
     "execution_count": 27,
     "metadata": {},
     "output_type": "execute_result"
    }
   ],
   "source": [
    "train_dt['Airline'].value_counts()"
   ]
  },
  {
   "cell_type": "code",
   "execution_count": 28,
   "id": "8ad1c9ac",
   "metadata": {
    "colab": {
     "base_uri": "https://localhost:8080/",
     "height": 861
    },
    "executionInfo": {
     "elapsed": 9,
     "status": "ok",
     "timestamp": 1631029045095,
     "user": {
      "displayName": "HANUMAN AGRAWAL",
      "photoUrl": "",
      "userId": "09126690663497139280"
     },
     "user_tz": -330
    },
    "id": "8ad1c9ac",
    "outputId": "c2b72878-65eb-46ef-9dd0-570d851377ae"
   },
   "outputs": [
    {
     "name": "stderr",
     "output_type": "stream",
     "text": [
      "/home/hanu/anaconda3/lib/python3.8/site-packages/seaborn/_decorators.py:36: FutureWarning: Pass the following variables as keyword args: x, y. From version 0.12, the only valid positional argument will be `data`, and passing other arguments without an explicit keyword will result in an error or misinterpretation.\n",
      "  warnings.warn(\n"
     ]
    },
    {
     "data": {
      "text/plain": [
       "(array([ 0,  1,  2,  3,  4,  5,  6,  7,  8,  9, 10, 11]),\n",
       " [Text(0, 0, 'Jet Airways Business'),\n",
       "  Text(1, 0, 'Jet Airways'),\n",
       "  Text(2, 0, 'Multiple carriers Premium economy'),\n",
       "  Text(3, 0, 'Multiple carriers'),\n",
       "  Text(4, 0, 'Air India'),\n",
       "  Text(5, 0, 'Vistara Premium economy'),\n",
       "  Text(6, 0, 'Vistara'),\n",
       "  Text(7, 0, 'GoAir'),\n",
       "  Text(8, 0, 'IndiGo'),\n",
       "  Text(9, 0, 'Air Asia'),\n",
       "  Text(10, 0, 'SpiceJet'),\n",
       "  Text(11, 0, 'Trujet')])"
      ]
     },
     "execution_count": 28,
     "metadata": {},
     "output_type": "execute_result"
    },
    {
     "data": {
      "image/png": "[encoded data removed]",
      "text/plain": [
       "<Figure size 1080x720 with 1 Axes>"
      ]
     },
     "metadata": {
      "needs_background": "light"
     },
     "output_type": "display_data"
    }
   ],
   "source": [
    "airprices = train_dt.groupby('Airline')['Price'].mean().sort_values(ascending=False)\n",
    "plt.figure(figsize=(15,10))\n",
    "sns.barplot(airprices.index,airprices.values)\n",
    "plt.xticks(rotation=270)"
   ]
  },
  {
   "cell_type": "code",
   "execution_count": 29,
   "id": "8f1d8529",
   "metadata": {
    "colab": {
     "base_uri": "https://localhost:8080/",
     "height": 606
    },
    "executionInfo": {
     "elapsed": 15,
     "status": "ok",
     "timestamp": 1631029046230,
     "user": {
      "displayName": "HANUMAN AGRAWAL",
      "photoUrl": "",
      "userId": "09126690663497139280"
     },
     "user_tz": -330
    },
    "id": "8f1d8529",
    "outputId": "37c09445-0b40-446c-d5d8-1edbeec8c1c2"
   },
   "outputs": [
    {
     "data": {
      "image/png": "[encoded data removed]",
      "text/plain": [
       "<Figure size 1296x720 with 1 Axes>"
      ]
     },
     "metadata": {
      "needs_background": "light"
     },
     "output_type": "display_data"
    }
   ],
   "source": [
    "plt.figure(figsize=(18,10))\n",
    "sns.boxplot(y=\"Price\",x=\"Airline\",data=train_dt.sort_values('Price',ascending=False))\n",
    "plt.show()"
   ]
  },
  {
   "cell_type": "code",
   "execution_count": 30,
   "id": "df979078",
   "metadata": {
    "colab": {
     "base_uri": "https://localhost:8080/",
     "height": 238
    },
    "executionInfo": {
     "elapsed": 10,
     "status": "ok",
     "timestamp": 1631029046231,
     "user": {
      "displayName": "HANUMAN AGRAWAL",
      "photoUrl": "",
      "userId": "09126690663497139280"
     },
     "user_tz": -330
    },
    "id": "df979078",
    "outputId": "f18f04ed-0d9f-414b-9b17-427666e99a5f"
   },
   "outputs": [
    {
     "data": {
      "text/html": [
       "<div>\n",
       "<style scoped>\n",
       "    .dataframe tbody tr th:only-of-type {\n",
       "        vertical-align: middle;\n",
       "    }\n",
       "\n",
       "    .dataframe tbody tr th {\n",
       "        vertical-align: top;\n",
       "    }\n",
       "\n",
       "    .dataframe thead th {\n",
       "        text-align: right;\n",
       "    }\n",
       "</style>\n",
       "<table border=\"1\" class=\"dataframe\">\n",
       "  <thead>\n",
       "    <tr style=\"text-align: right;\">\n",
       "      <th></th>\n",
       "      <th>Airline_Air India</th>\n",
       "      <th>Airline_GoAir</th>\n",
       "      <th>Airline_IndiGo</th>\n",
       "      <th>Airline_Jet Airways</th>\n",
       "      <th>Airline_Jet Airways Business</th>\n",
       "      <th>Airline_Multiple carriers</th>\n",
       "      <th>Airline_Multiple carriers Premium economy</th>\n",
       "      <th>Airline_SpiceJet</th>\n",
       "      <th>Airline_Trujet</th>\n",
       "      <th>Airline_Vistara</th>\n",
       "      <th>Airline_Vistara Premium economy</th>\n",
       "    </tr>\n",
       "  </thead>\n",
       "  <tbody>\n",
       "    <tr>\n",
       "      <th>0</th>\n",
       "      <td>0</td>\n",
       "      <td>0</td>\n",
       "      <td>1</td>\n",
       "      <td>0</td>\n",
       "      <td>0</td>\n",
       "      <td>0</td>\n",
       "      <td>0</td>\n",
       "      <td>0</td>\n",
       "      <td>0</td>\n",
       "      <td>0</td>\n",
       "      <td>0</td>\n",
       "    </tr>\n",
       "    <tr>\n",
       "      <th>1</th>\n",
       "      <td>1</td>\n",
       "      <td>0</td>\n",
       "      <td>0</td>\n",
       "      <td>0</td>\n",
       "      <td>0</td>\n",
       "      <td>0</td>\n",
       "      <td>0</td>\n",
       "      <td>0</td>\n",
       "      <td>0</td>\n",
       "      <td>0</td>\n",
       "      <td>0</td>\n",
       "    </tr>\n",
       "    <tr>\n",
       "      <th>2</th>\n",
       "      <td>0</td>\n",
       "      <td>0</td>\n",
       "      <td>0</td>\n",
       "      <td>1</td>\n",
       "      <td>0</td>\n",
       "      <td>0</td>\n",
       "      <td>0</td>\n",
       "      <td>0</td>\n",
       "      <td>0</td>\n",
       "      <td>0</td>\n",
       "      <td>0</td>\n",
       "    </tr>\n",
       "    <tr>\n",
       "      <th>3</th>\n",
       "      <td>0</td>\n",
       "      <td>0</td>\n",
       "      <td>1</td>\n",
       "      <td>0</td>\n",
       "      <td>0</td>\n",
       "      <td>0</td>\n",
       "      <td>0</td>\n",
       "      <td>0</td>\n",
       "      <td>0</td>\n",
       "      <td>0</td>\n",
       "      <td>0</td>\n",
       "    </tr>\n",
       "    <tr>\n",
       "      <th>4</th>\n",
       "      <td>0</td>\n",
       "      <td>0</td>\n",
       "      <td>1</td>\n",
       "      <td>0</td>\n",
       "      <td>0</td>\n",
       "      <td>0</td>\n",
       "      <td>0</td>\n",
       "      <td>0</td>\n",
       "      <td>0</td>\n",
       "      <td>0</td>\n",
       "      <td>0</td>\n",
       "    </tr>\n",
       "  </tbody>\n",
       "</table>\n",
       "</div>"
      ],
      "text/plain": [
       "   Airline_Air India  Airline_GoAir  Airline_IndiGo  Airline_Jet Airways  \\\n",
       "0                  0              0               1                    0   \n",
       "1                  1              0               0                    0   \n",
       "2                  0              0               0                    1   \n",
       "3                  0              0               1                    0   \n",
       "4                  0              0               1                    0   \n",
       "\n",
       "   Airline_Jet Airways Business  Airline_Multiple carriers  \\\n",
       "0                             0                          0   \n",
       "1                             0                          0   \n",
       "2                             0                          0   \n",
       "3                             0                          0   \n",
       "4                             0                          0   \n",
       "\n",
       "   Airline_Multiple carriers Premium economy  Airline_SpiceJet  \\\n",
       "0                                          0                 0   \n",
       "1                                          0                 0   \n",
       "2                                          0                 0   \n",
       "3                                          0                 0   \n",
       "4                                          0                 0   \n",
       "\n",
       "   Airline_Trujet  Airline_Vistara  Airline_Vistara Premium economy  \n",
       "0               0                0                                0  \n",
       "1               0                0                                0  \n",
       "2               0                0                                0  \n",
       "3               0                0                                0  \n",
       "4               0                0                                0  "
      ]
     },
     "execution_count": 30,
     "metadata": {},
     "output_type": "execute_result"
    }
   ],
   "source": [
    "# As Airline is Nominal categorical data we will perform OneHotEncoding\n",
    "\n",
    "Airline = train_dt[['Airline']]\n",
    "\n",
    "Airline = pd.get_dummies(Airline,drop_first=True)\n",
    "\n",
    "Airline.head()"
   ]
  },
  {
   "cell_type": "markdown",
   "id": "a049dac3",
   "metadata": {
    "id": "a049dac3"
   },
   "source": [
    "# Price based on number of stops"
   ]
  },
  {
   "cell_type": "code",
   "execution_count": 31,
   "id": "e0cf0c69",
   "metadata": {
    "colab": {
     "base_uri": "https://localhost:8080/"
    },
    "executionInfo": {
     "elapsed": 10,
     "status": "ok",
     "timestamp": 1631029047021,
     "user": {
      "displayName": "HANUMAN AGRAWAL",
      "photoUrl": "",
      "userId": "09126690663497139280"
     },
     "user_tz": -330
    },
    "id": "e0cf0c69",
    "outputId": "bdaba707-f91d-415f-f05b-922855fcbc36"
   },
   "outputs": [
    {
     "data": {
      "text/plain": [
       "Airline                            Total_Stops\n",
       "Air Asia                           1 stop          7078.325581\n",
       "                                   2 stops         6341.888889\n",
       "                                   non-stop        4492.331492\n",
       "Air India                          1 stop          9041.509259\n",
       "                                   2 stops        12092.779101\n",
       "                                   3 stops        12208.054054\n",
       "                                   4 stops        17686.000000\n",
       "                                   non-stop        5605.326139\n",
       "GoAir                              1 stop          6884.676471\n",
       "                                   non-stop        4726.173913\n",
       "IndiGo                             1 stop          7104.717528\n",
       "                                   2 stops         7507.526316\n",
       "                                   non-stop        4731.174053\n",
       "Jet Airways                        1 stop         12512.741223\n",
       "                                   2 stops        13387.247467\n",
       "                                   non-stop        6175.078652\n",
       "Jet Airways Business               1 stop         62844.250000\n",
       "                                   2 stops        49387.500000\n",
       "Multiple carriers                  1 stop         10711.316157\n",
       "                                   2 stops        14809.395349\n",
       "                                   3 stops        17292.750000\n",
       "Multiple carriers Premium economy  1 stop         11418.846154\n",
       "SpiceJet                           1 stop          6750.560811\n",
       "                                   non-stop        3805.423881\n",
       "Trujet                             1 stop          4140.000000\n",
       "Vistara                            1 stop          9641.148837\n",
       "                                   non-stop        6293.954545\n",
       "Vistara Premium economy            non-stop        8962.333333\n",
       "Name: Price, dtype: float64"
      ]
     },
     "execution_count": 31,
     "metadata": {},
     "output_type": "execute_result"
    }
   ],
   "source": [
    "train_dt.groupby(['Airline','Total_Stops'])['Price'].mean()"
   ]
  },
  {
   "cell_type": "code",
   "execution_count": 32,
   "id": "9e79128a",
   "metadata": {
    "colab": {
     "base_uri": "https://localhost:8080/",
     "height": 803
    },
    "executionInfo": {
     "elapsed": 1664,
     "status": "error",
     "timestamp": 1631029048681,
     "user": {
      "displayName": "HANUMAN AGRAWAL",
      "photoUrl": "",
      "userId": "09126690663497139280"
     },
     "user_tz": -330
    },
    "id": "9e79128a",
    "outputId": "68fcb20b-b398-4179-9a67-d6be79890d64"
   },
   "outputs": [
    {
     "ename": "NameError",
     "evalue": "name 'set_xticklabels' is not defined",
     "output_type": "error",
     "traceback": [
      "\u001b[0;31m---------------------------------------------------------------------------\u001b[0m",
      "\u001b[0;31mNameError\u001b[0m                                 Traceback (most recent call last)",
      "\u001b[0;32m<ipython-input-32-e8c4d0a6814b>\u001b[0m in \u001b[0;36m<module>\u001b[0;34m\u001b[0m\n\u001b[1;32m      1\u001b[0m \u001b[0mplt\u001b[0m\u001b[0;34m.\u001b[0m\u001b[0mfigure\u001b[0m\u001b[0;34m(\u001b[0m\u001b[0mfigsize\u001b[0m\u001b[0;34m=\u001b[0m\u001b[0;34m(\u001b[0m\u001b[0;36m18\u001b[0m\u001b[0;34m,\u001b[0m\u001b[0;36m10\u001b[0m\u001b[0;34m)\u001b[0m\u001b[0;34m)\u001b[0m\u001b[0;34m\u001b[0m\u001b[0;34m\u001b[0m\u001b[0m\n\u001b[1;32m      2\u001b[0m \u001b[0max\u001b[0m \u001b[0;34m=\u001b[0m \u001b[0msns\u001b[0m\u001b[0;34m.\u001b[0m\u001b[0mbarplot\u001b[0m\u001b[0;34m(\u001b[0m\u001b[0mx\u001b[0m\u001b[0;34m=\u001b[0m\u001b[0mtrain_dt\u001b[0m\u001b[0;34m[\u001b[0m\u001b[0;34m'Airline'\u001b[0m\u001b[0;34m]\u001b[0m\u001b[0;34m,\u001b[0m\u001b[0my\u001b[0m\u001b[0;34m=\u001b[0m\u001b[0mtrain_dt\u001b[0m\u001b[0;34m[\u001b[0m\u001b[0;34m'Price'\u001b[0m\u001b[0;34m]\u001b[0m\u001b[0;34m,\u001b[0m\u001b[0mhue\u001b[0m\u001b[0;34m=\u001b[0m\u001b[0mtrain_dt\u001b[0m\u001b[0;34m[\u001b[0m\u001b[0;34m'Total_Stops'\u001b[0m\u001b[0;34m]\u001b[0m\u001b[0;34m,\u001b[0m\u001b[0mpalette\u001b[0m\u001b[0;34m=\u001b[0m\u001b[0;34m\"Set1\"\u001b[0m\u001b[0;34m)\u001b[0m\u001b[0;34m\u001b[0m\u001b[0;34m\u001b[0m\u001b[0m\n\u001b[0;32m----> 3\u001b[0;31m \u001b[0max\u001b[0m \u001b[0;34m=\u001b[0m \u001b[0mset_xticklabels\u001b[0m\u001b[0;34m(\u001b[0m\u001b[0max\u001b[0m\u001b[0;34m.\u001b[0m\u001b[0mget_xticklabels\u001b[0m\u001b[0;34m(\u001b[0m\u001b[0;34m)\u001b[0m\u001b[0;34m,\u001b[0m\u001b[0mrotation\u001b[0m\u001b[0;34m=\u001b[0m\u001b[0;36m90\u001b[0m\u001b[0;34m)\u001b[0m\u001b[0;34m\u001b[0m\u001b[0;34m\u001b[0m\u001b[0m\n\u001b[0m\u001b[1;32m      4\u001b[0m \u001b[0mplt\u001b[0m\u001b[0;34m.\u001b[0m\u001b[0mshow\u001b[0m\u001b[0;34m(\u001b[0m\u001b[0;34m)\u001b[0m\u001b[0;34m\u001b[0m\u001b[0;34m\u001b[0m\u001b[0m\n",
      "\u001b[0;31mNameError\u001b[0m: name 'set_xticklabels' is not defined"
     ]
    },
    {
     "data": {
      "image/png": "[encoded data removed]",
      "text/plain": [
       "<Figure size 1296x720 with 1 Axes>"
      ]
     },
     "metadata": {
      "needs_background": "light"
     },
     "output_type": "display_data"
    }
   ],
   "source": [
    "plt.figure(figsize=(18,10))\n",
    "ax = sns.barplot(x=train_dt['Airline'],y=train_dt['Price'],hue=train_dt['Total_Stops'],palette=\"Set1\")\n",
    "ax = set_xticklabels(ax.get_xticklabels(),rotation=90)\n",
    "plt.show()"
   ]
  },
  {
   "cell_type": "code",
   "execution_count": null,
   "id": "d1bd4d7d",
   "metadata": {
    "executionInfo": {
     "elapsed": 11,
     "status": "aborted",
     "timestamp": 1631029048677,
     "user": {
      "displayName": "HANUMAN AGRAWAL",
      "photoUrl": "",
      "userId": "09126690663497139280"
     },
     "user_tz": -330
    },
    "id": "d1bd4d7d"
   },
   "outputs": [],
   "source": []
  },
  {
   "cell_type": "code",
   "execution_count": null,
   "id": "bb06ddda",
   "metadata": {
    "executionInfo": {
     "elapsed": 12,
     "status": "aborted",
     "timestamp": 1631029048678,
     "user": {
      "displayName": "HANUMAN AGRAWAL",
      "photoUrl": "",
      "userId": "09126690663497139280"
     },
     "user_tz": -330
    },
    "id": "bb06ddda"
   },
   "outputs": [],
   "source": []
  },
  {
   "cell_type": "code",
   "execution_count": null,
   "id": "03b166ab",
   "metadata": {
    "executionInfo": {
     "elapsed": 13,
     "status": "aborted",
     "timestamp": 1631029048679,
     "user": {
      "displayName": "HANUMAN AGRAWAL",
      "photoUrl": "",
      "userId": "09126690663497139280"
     },
     "user_tz": -330
    },
    "id": "03b166ab"
   },
   "outputs": [],
   "source": [
    "\n"
   ]
  },
  {
   "cell_type": "code",
   "execution_count": null,
   "id": "20982819",
   "metadata": {
    "executionInfo": {
     "elapsed": 15,
     "status": "aborted",
     "timestamp": 1631029048681,
     "user": {
      "displayName": "HANUMAN AGRAWAL",
      "photoUrl": "",
      "userId": "09126690663497139280"
     },
     "user_tz": -330
    },
    "id": "20982819"
   },
   "outputs": [],
   "source": [
    "train_dt['Source'].value_counts()"
   ]
  },
  {
   "cell_type": "code",
   "execution_count": 33,
   "id": "3d0849f9",
   "metadata": {
    "colab": {
     "base_uri": "https://localhost:8080/",
     "height": 606
    },
    "executionInfo": {
     "elapsed": 1229,
     "status": "ok",
     "timestamp": 1631029049896,
     "user": {
      "displayName": "HANUMAN AGRAWAL",
      "photoUrl": "",
      "userId": "09126690663497139280"
     },
     "user_tz": -330
    },
    "id": "3d0849f9",
    "outputId": "afbbc633-f25f-4962-9f4a-ac62027dc5ff"
   },
   "outputs": [
    {
     "data": {
      "image/png": "[encoded data removed]",
      "text/plain": [
       "<Figure size 1080x720 with 1 Axes>"
      ]
     },
     "metadata": {
      "needs_background": "light"
     },
     "output_type": "display_data"
    }
   ],
   "source": [
    "plt.figure(figsize=(15,10))\n",
    "sns.barplot(y='Price',x='Source',data=train_dt.sort_values('Price',ascending=False))\n",
    "plt.show()"
   ]
  },
  {
   "cell_type": "code",
   "execution_count": 34,
   "id": "072c46d6",
   "metadata": {
    "colab": {
     "base_uri": "https://localhost:8080/",
     "height": 606
    },
    "executionInfo": {
     "elapsed": 14,
     "status": "ok",
     "timestamp": 1631029049899,
     "user": {
      "displayName": "HANUMAN AGRAWAL",
      "photoUrl": "",
      "userId": "09126690663497139280"
     },
     "user_tz": -330
    },
    "id": "072c46d6",
    "outputId": "142b6e97-24dc-4769-e5f0-59f97fbb5dc7"
   },
   "outputs": [
    {
     "data": {
      "image/png": "[encoded data removed]",
      "text/plain": [
       "<Figure size 1080x720 with 1 Axes>"
      ]
     },
     "metadata": {
      "needs_background": "light"
     },
     "output_type": "display_data"
    }
   ],
   "source": [
    "plt.figure(figsize=(15,10))\n",
    "sns.boxplot(y='Price',x='Source',data=train_dt.sort_values('Price',ascending=False))\n",
    "plt.show()"
   ]
  },
  {
   "cell_type": "code",
   "execution_count": 35,
   "id": "5259aef9",
   "metadata": {
    "executionInfo": {
     "elapsed": 12,
     "status": "ok",
     "timestamp": 1631029049899,
     "user": {
      "displayName": "HANUMAN AGRAWAL",
      "photoUrl": "",
      "userId": "09126690663497139280"
     },
     "user_tz": -330
    },
    "id": "5259aef9"
   },
   "outputs": [],
   "source": [
    "Source = train_dt[['Source']]\n",
    "\n",
    "Source = pd.get_dummies(Source,drop_first=True)"
   ]
  },
  {
   "cell_type": "code",
   "execution_count": 36,
   "id": "654eb7da",
   "metadata": {
    "colab": {
     "base_uri": "https://localhost:8080/",
     "height": 204
    },
    "executionInfo": {
     "elapsed": 13,
     "status": "ok",
     "timestamp": 1631029049900,
     "user": {
      "displayName": "HANUMAN AGRAWAL",
      "photoUrl": "",
      "userId": "09126690663497139280"
     },
     "user_tz": -330
    },
    "id": "654eb7da",
    "outputId": "316a7bf4-02c1-4014-cb46-caf9c5252284"
   },
   "outputs": [
    {
     "data": {
      "text/html": [
       "<div>\n",
       "<style scoped>\n",
       "    .dataframe tbody tr th:only-of-type {\n",
       "        vertical-align: middle;\n",
       "    }\n",
       "\n",
       "    .dataframe tbody tr th {\n",
       "        vertical-align: top;\n",
       "    }\n",
       "\n",
       "    .dataframe thead th {\n",
       "        text-align: right;\n",
       "    }\n",
       "</style>\n",
       "<table border=\"1\" class=\"dataframe\">\n",
       "  <thead>\n",
       "    <tr style=\"text-align: right;\">\n",
       "      <th></th>\n",
       "      <th>Source_Chennai</th>\n",
       "      <th>Source_Delhi</th>\n",
       "      <th>Source_Kolkata</th>\n",
       "      <th>Source_Mumbai</th>\n",
       "    </tr>\n",
       "  </thead>\n",
       "  <tbody>\n",
       "    <tr>\n",
       "      <th>0</th>\n",
       "      <td>0</td>\n",
       "      <td>0</td>\n",
       "      <td>0</td>\n",
       "      <td>0</td>\n",
       "    </tr>\n",
       "    <tr>\n",
       "      <th>1</th>\n",
       "      <td>0</td>\n",
       "      <td>0</td>\n",
       "      <td>1</td>\n",
       "      <td>0</td>\n",
       "    </tr>\n",
       "    <tr>\n",
       "      <th>2</th>\n",
       "      <td>0</td>\n",
       "      <td>1</td>\n",
       "      <td>0</td>\n",
       "      <td>0</td>\n",
       "    </tr>\n",
       "    <tr>\n",
       "      <th>3</th>\n",
       "      <td>0</td>\n",
       "      <td>0</td>\n",
       "      <td>1</td>\n",
       "      <td>0</td>\n",
       "    </tr>\n",
       "    <tr>\n",
       "      <th>4</th>\n",
       "      <td>0</td>\n",
       "      <td>0</td>\n",
       "      <td>0</td>\n",
       "      <td>0</td>\n",
       "    </tr>\n",
       "  </tbody>\n",
       "</table>\n",
       "</div>"
      ],
      "text/plain": [
       "   Source_Chennai  Source_Delhi  Source_Kolkata  Source_Mumbai\n",
       "0               0             0               0              0\n",
       "1               0             0               1              0\n",
       "2               0             1               0              0\n",
       "3               0             0               1              0\n",
       "4               0             0               0              0"
      ]
     },
     "execution_count": 36,
     "metadata": {},
     "output_type": "execute_result"
    }
   ],
   "source": [
    "Source.head()"
   ]
  },
  {
   "cell_type": "code",
   "execution_count": null,
   "id": "dae10b6a",
   "metadata": {
    "executionInfo": {
     "elapsed": 11,
     "status": "ok",
     "timestamp": 1631029049900,
     "user": {
      "displayName": "HANUMAN AGRAWAL",
      "photoUrl": "",
      "userId": "09126690663497139280"
     },
     "user_tz": -330
    },
    "id": "dae10b6a"
   },
   "outputs": [],
   "source": []
  },
  {
   "cell_type": "code",
   "execution_count": 37,
   "id": "bb33d374",
   "metadata": {
    "colab": {
     "base_uri": "https://localhost:8080/"
    },
    "executionInfo": {
     "elapsed": 11,
     "status": "ok",
     "timestamp": 1631029051023,
     "user": {
      "displayName": "HANUMAN AGRAWAL",
      "photoUrl": "",
      "userId": "09126690663497139280"
     },
     "user_tz": -330
    },
    "id": "bb33d374",
    "outputId": "bbaf28ca-baf3-4204-dd45-df496b6ab615"
   },
   "outputs": [
    {
     "data": {
      "text/plain": [
       "Cochin       4536\n",
       "Banglore     2871\n",
       "Delhi        1265\n",
       "New Delhi     932\n",
       "Hyderabad     697\n",
       "Kolkata       381\n",
       "Name: Destination, dtype: int64"
      ]
     },
     "execution_count": 37,
     "metadata": {},
     "output_type": "execute_result"
    }
   ],
   "source": [
    "train_dt['Destination'].value_counts()"
   ]
  },
  {
   "cell_type": "code",
   "execution_count": 38,
   "id": "6d80c844",
   "metadata": {
    "colab": {
     "base_uri": "https://localhost:8080/",
     "height": 606
    },
    "executionInfo": {
     "elapsed": 7,
     "status": "ok",
     "timestamp": 1631029051024,
     "user": {
      "displayName": "HANUMAN AGRAWAL",
      "photoUrl": "",
      "userId": "09126690663497139280"
     },
     "user_tz": -330
    },
    "id": "6d80c844",
    "outputId": "c9d6a950-baca-46e7-b1e3-aea5d32aac85"
   },
   "outputs": [
    {
     "data": {
      "image/png": "[encoded data removed]",
      "text/plain": [
       "<Figure size 1080x720 with 1 Axes>"
      ]
     },
     "metadata": {
      "needs_background": "light"
     },
     "output_type": "display_data"
    }
   ],
   "source": [
    "plt.figure(figsize=(15,10))\n",
    "sns.barplot(y='Price',x='Destination',data=train_dt.sort_values('Price',ascending=False))\n",
    "plt.show()"
   ]
  },
  {
   "cell_type": "code",
   "execution_count": 39,
   "id": "e43f4dd8",
   "metadata": {
    "executionInfo": {
     "elapsed": 18,
     "status": "ok",
     "timestamp": 1631029051951,
     "user": {
      "displayName": "HANUMAN AGRAWAL",
      "photoUrl": "",
      "userId": "09126690663497139280"
     },
     "user_tz": -330
    },
    "id": "e43f4dd8"
   },
   "outputs": [],
   "source": [
    "for i in train_dt:\n",
    "    train_dt.replace('New Delhi','Delhi',inplace=True)"
   ]
  },
  {
   "cell_type": "code",
   "execution_count": 40,
   "id": "a19b413b",
   "metadata": {
    "colab": {
     "base_uri": "https://localhost:8080/"
    },
    "executionInfo": {
     "elapsed": 17,
     "status": "ok",
     "timestamp": 1631029051952,
     "user": {
      "displayName": "HANUMAN AGRAWAL",
      "photoUrl": "",
      "userId": "09126690663497139280"
     },
     "user_tz": -330
    },
    "id": "a19b413b",
    "outputId": "0c4c9016-2d15-418e-bb5b-f686f38c05df"
   },
   "outputs": [
    {
     "data": {
      "text/plain": [
       "array(['Delhi', 'Banglore', 'Cochin', 'Kolkata', 'Hyderabad'],\n",
       "      dtype=object)"
      ]
     },
     "execution_count": 40,
     "metadata": {},
     "output_type": "execute_result"
    }
   ],
   "source": [
    "train_dt['Destination'].unique()"
   ]
  },
  {
   "cell_type": "code",
   "execution_count": 41,
   "id": "0df37ef0",
   "metadata": {
    "colab": {
     "base_uri": "https://localhost:8080/",
     "height": 606
    },
    "executionInfo": {
     "elapsed": 13,
     "status": "ok",
     "timestamp": 1631029051953,
     "user": {
      "displayName": "HANUMAN AGRAWAL",
      "photoUrl": "",
      "userId": "09126690663497139280"
     },
     "user_tz": -330
    },
    "id": "0df37ef0",
    "outputId": "9bfcefe8-1ead-463e-91a1-73169bbb11bd"
   },
   "outputs": [
    {
     "data": {
      "image/png": "[encoded data removed]",
      "text/plain": [
       "<Figure size 1080x720 with 1 Axes>"
      ]
     },
     "metadata": {
      "needs_background": "light"
     },
     "output_type": "display_data"
    }
   ],
   "source": [
    "plt.figure(figsize=(15,10))\n",
    "sns.barplot(y='Price',x='Destination',data=train_dt.sort_values('Price',ascending=False))\n",
    "plt.show()"
   ]
  },
  {
   "cell_type": "code",
   "execution_count": 42,
   "id": "a04b83ac",
   "metadata": {
    "colab": {
     "base_uri": "https://localhost:8080/",
     "height": 204
    },
    "executionInfo": {
     "elapsed": 13,
     "status": "ok",
     "timestamp": 1631029051954,
     "user": {
      "displayName": "HANUMAN AGRAWAL",
      "photoUrl": "",
      "userId": "09126690663497139280"
     },
     "user_tz": -330
    },
    "id": "a04b83ac",
    "outputId": "aa99fd88-e286-4e0f-aa97-0e7bfff50fc0"
   },
   "outputs": [
    {
     "data": {
      "text/html": [
       "<div>\n",
       "<style scoped>\n",
       "    .dataframe tbody tr th:only-of-type {\n",
       "        vertical-align: middle;\n",
       "    }\n",
       "\n",
       "    .dataframe tbody tr th {\n",
       "        vertical-align: top;\n",
       "    }\n",
       "\n",
       "    .dataframe thead th {\n",
       "        text-align: right;\n",
       "    }\n",
       "</style>\n",
       "<table border=\"1\" class=\"dataframe\">\n",
       "  <thead>\n",
       "    <tr style=\"text-align: right;\">\n",
       "      <th></th>\n",
       "      <th>Destination_Cochin</th>\n",
       "      <th>Destination_Delhi</th>\n",
       "      <th>Destination_Hyderabad</th>\n",
       "      <th>Destination_Kolkata</th>\n",
       "    </tr>\n",
       "  </thead>\n",
       "  <tbody>\n",
       "    <tr>\n",
       "      <th>0</th>\n",
       "      <td>0</td>\n",
       "      <td>1</td>\n",
       "      <td>0</td>\n",
       "      <td>0</td>\n",
       "    </tr>\n",
       "    <tr>\n",
       "      <th>1</th>\n",
       "      <td>0</td>\n",
       "      <td>0</td>\n",
       "      <td>0</td>\n",
       "      <td>0</td>\n",
       "    </tr>\n",
       "    <tr>\n",
       "      <th>2</th>\n",
       "      <td>1</td>\n",
       "      <td>0</td>\n",
       "      <td>0</td>\n",
       "      <td>0</td>\n",
       "    </tr>\n",
       "    <tr>\n",
       "      <th>3</th>\n",
       "      <td>0</td>\n",
       "      <td>0</td>\n",
       "      <td>0</td>\n",
       "      <td>0</td>\n",
       "    </tr>\n",
       "    <tr>\n",
       "      <th>4</th>\n",
       "      <td>0</td>\n",
       "      <td>1</td>\n",
       "      <td>0</td>\n",
       "      <td>0</td>\n",
       "    </tr>\n",
       "  </tbody>\n",
       "</table>\n",
       "</div>"
      ],
      "text/plain": [
       "   Destination_Cochin  Destination_Delhi  Destination_Hyderabad  \\\n",
       "0                   0                  1                      0   \n",
       "1                   0                  0                      0   \n",
       "2                   1                  0                      0   \n",
       "3                   0                  0                      0   \n",
       "4                   0                  1                      0   \n",
       "\n",
       "   Destination_Kolkata  \n",
       "0                    0  \n",
       "1                    0  \n",
       "2                    0  \n",
       "3                    0  \n",
       "4                    0  "
      ]
     },
     "execution_count": 42,
     "metadata": {},
     "output_type": "execute_result"
    }
   ],
   "source": [
    "Destination = train_dt[['Destination']]\n",
    "Destination = pd.get_dummies(Destination, drop_first=True)\n",
    "Destination.head()"
   ]
  },
  {
   "cell_type": "code",
   "execution_count": 43,
   "id": "c93a1494",
   "metadata": {
    "colab": {
     "base_uri": "https://localhost:8080/",
     "height": 722
    },
    "executionInfo": {
     "elapsed": 1323,
     "status": "ok",
     "timestamp": 1631029053266,
     "user": {
      "displayName": "HANUMAN AGRAWAL",
      "photoUrl": "",
      "userId": "09126690663497139280"
     },
     "user_tz": -330
    },
    "id": "c93a1494",
    "outputId": "cfc571d2-d17a-40f2-8171-4c5b578c6841"
   },
   "outputs": [
    {
     "data": {
      "text/plain": [
       "<AxesSubplot:>"
      ]
     },
     "execution_count": 43,
     "metadata": {},
     "output_type": "execute_result"
    },
    {
     "data": {
      "image/png": "[encoded data removed]",
      "text/plain": [
       "<Figure size 1656x864 with 2 Axes>"
      ]
     },
     "metadata": {
      "needs_background": "light"
     },
     "output_type": "display_data"
    }
   ],
   "source": [
    "plt.figure(figsize=(23,12))\n",
    "sns.heatmap(train_dt.corr(),annot=True)"
   ]
  },
  {
   "cell_type": "code",
   "execution_count": 44,
   "id": "f0e9b5aa",
   "metadata": {
    "executionInfo": {
     "elapsed": 14,
     "status": "ok",
     "timestamp": 1631029053267,
     "user": {
      "displayName": "HANUMAN AGRAWAL",
      "photoUrl": "",
      "userId": "09126690663497139280"
     },
     "user_tz": -330
    },
    "id": "f0e9b5aa"
   },
   "outputs": [],
   "source": [
    "train_dt.drop(['Airline','Source','Destination'],inplace=True,axis=1)"
   ]
  },
  {
   "cell_type": "code",
   "execution_count": 45,
   "id": "9dc0f7fa",
   "metadata": {
    "colab": {
     "base_uri": "https://localhost:8080/",
     "height": 204
    },
    "executionInfo": {
     "elapsed": 14,
     "status": "ok",
     "timestamp": 1631029053268,
     "user": {
      "displayName": "HANUMAN AGRAWAL",
      "photoUrl": "",
      "userId": "09126690663497139280"
     },
     "user_tz": -330
    },
    "id": "9dc0f7fa",
    "outputId": "8225c9c9-2298-40c2-e21d-31d6e8d1a36c"
   },
   "outputs": [
    {
     "data": {
      "text/html": [
       "<div>\n",
       "<style scoped>\n",
       "    .dataframe tbody tr th:only-of-type {\n",
       "        vertical-align: middle;\n",
       "    }\n",
       "\n",
       "    .dataframe tbody tr th {\n",
       "        vertical-align: top;\n",
       "    }\n",
       "\n",
       "    .dataframe thead th {\n",
       "        text-align: right;\n",
       "    }\n",
       "</style>\n",
       "<table border=\"1\" class=\"dataframe\">\n",
       "  <thead>\n",
       "    <tr style=\"text-align: right;\">\n",
       "      <th></th>\n",
       "      <th>Route</th>\n",
       "      <th>Total_Stops</th>\n",
       "      <th>Additional_Info</th>\n",
       "      <th>Price</th>\n",
       "      <th>Day_of_Journey</th>\n",
       "      <th>Month_of_Journey</th>\n",
       "      <th>Dep_hr</th>\n",
       "      <th>Dep_min</th>\n",
       "      <th>Arrival_hr</th>\n",
       "      <th>Arrival_min</th>\n",
       "      <th>duration_hr</th>\n",
       "      <th>duration_min</th>\n",
       "    </tr>\n",
       "  </thead>\n",
       "  <tbody>\n",
       "    <tr>\n",
       "      <th>0</th>\n",
       "      <td>BLR → DEL</td>\n",
       "      <td>non-stop</td>\n",
       "      <td>No info</td>\n",
       "      <td>3897</td>\n",
       "      <td>24</td>\n",
       "      <td>3</td>\n",
       "      <td>22</td>\n",
       "      <td>20</td>\n",
       "      <td>1</td>\n",
       "      <td>10</td>\n",
       "      <td>2</td>\n",
       "      <td>50</td>\n",
       "    </tr>\n",
       "    <tr>\n",
       "      <th>1</th>\n",
       "      <td>CCU → IXR → BBI → BLR</td>\n",
       "      <td>2 stops</td>\n",
       "      <td>No info</td>\n",
       "      <td>7662</td>\n",
       "      <td>5</td>\n",
       "      <td>1</td>\n",
       "      <td>5</td>\n",
       "      <td>50</td>\n",
       "      <td>13</td>\n",
       "      <td>15</td>\n",
       "      <td>7</td>\n",
       "      <td>25</td>\n",
       "    </tr>\n",
       "    <tr>\n",
       "      <th>2</th>\n",
       "      <td>DEL → LKO → BOM → COK</td>\n",
       "      <td>2 stops</td>\n",
       "      <td>No info</td>\n",
       "      <td>13882</td>\n",
       "      <td>6</td>\n",
       "      <td>9</td>\n",
       "      <td>9</td>\n",
       "      <td>25</td>\n",
       "      <td>4</td>\n",
       "      <td>25</td>\n",
       "      <td>19</td>\n",
       "      <td>00</td>\n",
       "    </tr>\n",
       "    <tr>\n",
       "      <th>3</th>\n",
       "      <td>CCU → NAG → BLR</td>\n",
       "      <td>1 stop</td>\n",
       "      <td>No info</td>\n",
       "      <td>6218</td>\n",
       "      <td>5</td>\n",
       "      <td>12</td>\n",
       "      <td>18</td>\n",
       "      <td>5</td>\n",
       "      <td>23</td>\n",
       "      <td>30</td>\n",
       "      <td>5</td>\n",
       "      <td>25</td>\n",
       "    </tr>\n",
       "    <tr>\n",
       "      <th>4</th>\n",
       "      <td>BLR → NAG → DEL</td>\n",
       "      <td>1 stop</td>\n",
       "      <td>No info</td>\n",
       "      <td>13302</td>\n",
       "      <td>3</td>\n",
       "      <td>1</td>\n",
       "      <td>16</td>\n",
       "      <td>50</td>\n",
       "      <td>21</td>\n",
       "      <td>35</td>\n",
       "      <td>4</td>\n",
       "      <td>45</td>\n",
       "    </tr>\n",
       "  </tbody>\n",
       "</table>\n",
       "</div>"
      ],
      "text/plain": [
       "                   Route Total_Stops Additional_Info  Price  Day_of_Journey  \\\n",
       "0              BLR → DEL    non-stop         No info   3897              24   \n",
       "1  CCU → IXR → BBI → BLR     2 stops         No info   7662               5   \n",
       "2  DEL → LKO → BOM → COK     2 stops         No info  13882               6   \n",
       "3        CCU → NAG → BLR      1 stop         No info   6218               5   \n",
       "4        BLR → NAG → DEL      1 stop         No info  13302               3   \n",
       "\n",
       "   Month_of_Journey  Dep_hr  Dep_min  Arrival_hr  Arrival_min duration_hr  \\\n",
       "0                 3      22       20           1           10           2   \n",
       "1                 1       5       50          13           15           7   \n",
       "2                 9       9       25           4           25          19   \n",
       "3                12      18        5          23           30           5   \n",
       "4                 1      16       50          21           35           4   \n",
       "\n",
       "  duration_min  \n",
       "0           50  \n",
       "1           25  \n",
       "2           00  \n",
       "3           25  \n",
       "4           45  "
      ]
     },
     "execution_count": 45,
     "metadata": {},
     "output_type": "execute_result"
    }
   ],
   "source": [
    "train_dt.head()"
   ]
  },
  {
   "cell_type": "code",
   "execution_count": 46,
   "id": "428b1afa",
   "metadata": {
    "executionInfo": {
     "elapsed": 17,
     "status": "ok",
     "timestamp": 1631029054201,
     "user": {
      "displayName": "HANUMAN AGRAWAL",
      "photoUrl": "",
      "userId": "09126690663497139280"
     },
     "user_tz": -330
    },
    "id": "428b1afa"
   },
   "outputs": [],
   "source": [
    "train_dt.drop(['Route','Additional_Info'],axis=1,inplace=True)"
   ]
  },
  {
   "cell_type": "code",
   "execution_count": 47,
   "id": "5ce73377",
   "metadata": {
    "colab": {
     "base_uri": "https://localhost:8080/"
    },
    "executionInfo": {
     "elapsed": 17,
     "status": "ok",
     "timestamp": 1631029054202,
     "user": {
      "displayName": "HANUMAN AGRAWAL",
      "photoUrl": "",
      "userId": "09126690663497139280"
     },
     "user_tz": -330
    },
    "id": "5ce73377",
    "outputId": "d38ec700-3fdf-489c-c380-8e863a5c2aad"
   },
   "outputs": [
    {
     "data": {
      "text/plain": [
       "1 stop      5625\n",
       "non-stop    3491\n",
       "2 stops     1520\n",
       "3 stops       45\n",
       "4 stops        1\n",
       "Name: Total_Stops, dtype: int64"
      ]
     },
     "execution_count": 47,
     "metadata": {},
     "output_type": "execute_result"
    }
   ],
   "source": [
    "train_dt.Total_Stops.value_counts()"
   ]
  },
  {
   "cell_type": "code",
   "execution_count": 48,
   "id": "d6ec936f",
   "metadata": {
    "executionInfo": {
     "elapsed": 11,
     "status": "ok",
     "timestamp": 1631029054203,
     "user": {
      "displayName": "HANUMAN AGRAWAL",
      "photoUrl": "",
      "userId": "09126690663497139280"
     },
     "user_tz": -330
    },
    "id": "d6ec936f"
   },
   "outputs": [],
   "source": [
    "train_dt.replace({\"non-stop\":0,\"1 stop\":1,\"2 stops\":2,\"3 stops\":3,\"4 stops\":4},inplace=True)"
   ]
  },
  {
   "cell_type": "code",
   "execution_count": 49,
   "id": "1014ab9e",
   "metadata": {
    "colab": {
     "base_uri": "https://localhost:8080/",
     "height": 204
    },
    "executionInfo": {
     "elapsed": 12,
     "status": "ok",
     "timestamp": 1631029054205,
     "user": {
      "displayName": "HANUMAN AGRAWAL",
      "photoUrl": "",
      "userId": "09126690663497139280"
     },
     "user_tz": -330
    },
    "id": "1014ab9e",
    "outputId": "f106a17a-272e-4226-9a3a-20a7af33a1ee"
   },
   "outputs": [
    {
     "data": {
      "text/html": [
       "<div>\n",
       "<style scoped>\n",
       "    .dataframe tbody tr th:only-of-type {\n",
       "        vertical-align: middle;\n",
       "    }\n",
       "\n",
       "    .dataframe tbody tr th {\n",
       "        vertical-align: top;\n",
       "    }\n",
       "\n",
       "    .dataframe thead th {\n",
       "        text-align: right;\n",
       "    }\n",
       "</style>\n",
       "<table border=\"1\" class=\"dataframe\">\n",
       "  <thead>\n",
       "    <tr style=\"text-align: right;\">\n",
       "      <th></th>\n",
       "      <th>Total_Stops</th>\n",
       "      <th>Price</th>\n",
       "      <th>Day_of_Journey</th>\n",
       "      <th>Month_of_Journey</th>\n",
       "      <th>Dep_hr</th>\n",
       "      <th>Dep_min</th>\n",
       "      <th>Arrival_hr</th>\n",
       "      <th>Arrival_min</th>\n",
       "      <th>duration_hr</th>\n",
       "      <th>duration_min</th>\n",
       "    </tr>\n",
       "  </thead>\n",
       "  <tbody>\n",
       "    <tr>\n",
       "      <th>0</th>\n",
       "      <td>0</td>\n",
       "      <td>3897</td>\n",
       "      <td>24</td>\n",
       "      <td>3</td>\n",
       "      <td>22</td>\n",
       "      <td>20</td>\n",
       "      <td>1</td>\n",
       "      <td>10</td>\n",
       "      <td>2</td>\n",
       "      <td>50</td>\n",
       "    </tr>\n",
       "    <tr>\n",
       "      <th>1</th>\n",
       "      <td>2</td>\n",
       "      <td>7662</td>\n",
       "      <td>5</td>\n",
       "      <td>1</td>\n",
       "      <td>5</td>\n",
       "      <td>50</td>\n",
       "      <td>13</td>\n",
       "      <td>15</td>\n",
       "      <td>7</td>\n",
       "      <td>25</td>\n",
       "    </tr>\n",
       "    <tr>\n",
       "      <th>2</th>\n",
       "      <td>2</td>\n",
       "      <td>13882</td>\n",
       "      <td>6</td>\n",
       "      <td>9</td>\n",
       "      <td>9</td>\n",
       "      <td>25</td>\n",
       "      <td>4</td>\n",
       "      <td>25</td>\n",
       "      <td>19</td>\n",
       "      <td>00</td>\n",
       "    </tr>\n",
       "    <tr>\n",
       "      <th>3</th>\n",
       "      <td>1</td>\n",
       "      <td>6218</td>\n",
       "      <td>5</td>\n",
       "      <td>12</td>\n",
       "      <td>18</td>\n",
       "      <td>5</td>\n",
       "      <td>23</td>\n",
       "      <td>30</td>\n",
       "      <td>5</td>\n",
       "      <td>25</td>\n",
       "    </tr>\n",
       "    <tr>\n",
       "      <th>4</th>\n",
       "      <td>1</td>\n",
       "      <td>13302</td>\n",
       "      <td>3</td>\n",
       "      <td>1</td>\n",
       "      <td>16</td>\n",
       "      <td>50</td>\n",
       "      <td>21</td>\n",
       "      <td>35</td>\n",
       "      <td>4</td>\n",
       "      <td>45</td>\n",
       "    </tr>\n",
       "  </tbody>\n",
       "</table>\n",
       "</div>"
      ],
      "text/plain": [
       "   Total_Stops  Price  Day_of_Journey  Month_of_Journey  Dep_hr  Dep_min  \\\n",
       "0            0   3897              24                 3      22       20   \n",
       "1            2   7662               5                 1       5       50   \n",
       "2            2  13882               6                 9       9       25   \n",
       "3            1   6218               5                12      18        5   \n",
       "4            1  13302               3                 1      16       50   \n",
       "\n",
       "   Arrival_hr  Arrival_min duration_hr duration_min  \n",
       "0           1           10           2           50  \n",
       "1          13           15           7           25  \n",
       "2           4           25          19           00  \n",
       "3          23           30           5           25  \n",
       "4          21           35           4           45  "
      ]
     },
     "execution_count": 49,
     "metadata": {},
     "output_type": "execute_result"
    }
   ],
   "source": [
    "train_dt.head()"
   ]
  },
  {
   "cell_type": "code",
   "execution_count": 50,
   "id": "30c3ff9c",
   "metadata": {
    "executionInfo": {
     "elapsed": 10,
     "status": "ok",
     "timestamp": 1631029055109,
     "user": {
      "displayName": "HANUMAN AGRAWAL",
      "photoUrl": "",
      "userId": "09126690663497139280"
     },
     "user_tz": -330
    },
    "id": "30c3ff9c"
   },
   "outputs": [],
   "source": [
    "train_data = pd.concat([train_dt,Airline,Source,Destination],axis=1)"
   ]
  },
  {
   "cell_type": "code",
   "execution_count": 51,
   "id": "08f32690",
   "metadata": {
    "colab": {
     "base_uri": "https://localhost:8080/",
     "height": 258
    },
    "executionInfo": {
     "elapsed": 1089,
     "status": "ok",
     "timestamp": 1631029056188,
     "user": {
      "displayName": "HANUMAN AGRAWAL",
      "photoUrl": "",
      "userId": "09126690663497139280"
     },
     "user_tz": -330
    },
    "id": "08f32690",
    "outputId": "13e548ef-8fa0-47a4-e2b2-52a687572068"
   },
   "outputs": [
    {
     "data": {
      "text/html": [
       "<div>\n",
       "<style scoped>\n",
       "    .dataframe tbody tr th:only-of-type {\n",
       "        vertical-align: middle;\n",
       "    }\n",
       "\n",
       "    .dataframe tbody tr th {\n",
       "        vertical-align: top;\n",
       "    }\n",
       "\n",
       "    .dataframe thead th {\n",
       "        text-align: right;\n",
       "    }\n",
       "</style>\n",
       "<table border=\"1\" class=\"dataframe\">\n",
       "  <thead>\n",
       "    <tr style=\"text-align: right;\">\n",
       "      <th></th>\n",
       "      <th>Total_Stops</th>\n",
       "      <th>Price</th>\n",
       "      <th>Day_of_Journey</th>\n",
       "      <th>Month_of_Journey</th>\n",
       "      <th>Dep_hr</th>\n",
       "      <th>Dep_min</th>\n",
       "      <th>Arrival_hr</th>\n",
       "      <th>Arrival_min</th>\n",
       "      <th>duration_hr</th>\n",
       "      <th>duration_min</th>\n",
       "      <th>...</th>\n",
       "      <th>Airline_Vistara</th>\n",
       "      <th>Airline_Vistara Premium economy</th>\n",
       "      <th>Source_Chennai</th>\n",
       "      <th>Source_Delhi</th>\n",
       "      <th>Source_Kolkata</th>\n",
       "      <th>Source_Mumbai</th>\n",
       "      <th>Destination_Cochin</th>\n",
       "      <th>Destination_Delhi</th>\n",
       "      <th>Destination_Hyderabad</th>\n",
       "      <th>Destination_Kolkata</th>\n",
       "    </tr>\n",
       "  </thead>\n",
       "  <tbody>\n",
       "    <tr>\n",
       "      <th>0</th>\n",
       "      <td>0</td>\n",
       "      <td>3897</td>\n",
       "      <td>24</td>\n",
       "      <td>3</td>\n",
       "      <td>22</td>\n",
       "      <td>20</td>\n",
       "      <td>1</td>\n",
       "      <td>10</td>\n",
       "      <td>2</td>\n",
       "      <td>50</td>\n",
       "      <td>...</td>\n",
       "      <td>0</td>\n",
       "      <td>0</td>\n",
       "      <td>0</td>\n",
       "      <td>0</td>\n",
       "      <td>0</td>\n",
       "      <td>0</td>\n",
       "      <td>0</td>\n",
       "      <td>1</td>\n",
       "      <td>0</td>\n",
       "      <td>0</td>\n",
       "    </tr>\n",
       "    <tr>\n",
       "      <th>1</th>\n",
       "      <td>2</td>\n",
       "      <td>7662</td>\n",
       "      <td>5</td>\n",
       "      <td>1</td>\n",
       "      <td>5</td>\n",
       "      <td>50</td>\n",
       "      <td>13</td>\n",
       "      <td>15</td>\n",
       "      <td>7</td>\n",
       "      <td>25</td>\n",
       "      <td>...</td>\n",
       "      <td>0</td>\n",
       "      <td>0</td>\n",
       "      <td>0</td>\n",
       "      <td>0</td>\n",
       "      <td>1</td>\n",
       "      <td>0</td>\n",
       "      <td>0</td>\n",
       "      <td>0</td>\n",
       "      <td>0</td>\n",
       "      <td>0</td>\n",
       "    </tr>\n",
       "    <tr>\n",
       "      <th>2</th>\n",
       "      <td>2</td>\n",
       "      <td>13882</td>\n",
       "      <td>6</td>\n",
       "      <td>9</td>\n",
       "      <td>9</td>\n",
       "      <td>25</td>\n",
       "      <td>4</td>\n",
       "      <td>25</td>\n",
       "      <td>19</td>\n",
       "      <td>00</td>\n",
       "      <td>...</td>\n",
       "      <td>0</td>\n",
       "      <td>0</td>\n",
       "      <td>0</td>\n",
       "      <td>1</td>\n",
       "      <td>0</td>\n",
       "      <td>0</td>\n",
       "      <td>1</td>\n",
       "      <td>0</td>\n",
       "      <td>0</td>\n",
       "      <td>0</td>\n",
       "    </tr>\n",
       "    <tr>\n",
       "      <th>3</th>\n",
       "      <td>1</td>\n",
       "      <td>6218</td>\n",
       "      <td>5</td>\n",
       "      <td>12</td>\n",
       "      <td>18</td>\n",
       "      <td>5</td>\n",
       "      <td>23</td>\n",
       "      <td>30</td>\n",
       "      <td>5</td>\n",
       "      <td>25</td>\n",
       "      <td>...</td>\n",
       "      <td>0</td>\n",
       "      <td>0</td>\n",
       "      <td>0</td>\n",
       "      <td>0</td>\n",
       "      <td>1</td>\n",
       "      <td>0</td>\n",
       "      <td>0</td>\n",
       "      <td>0</td>\n",
       "      <td>0</td>\n",
       "      <td>0</td>\n",
       "    </tr>\n",
       "    <tr>\n",
       "      <th>4</th>\n",
       "      <td>1</td>\n",
       "      <td>13302</td>\n",
       "      <td>3</td>\n",
       "      <td>1</td>\n",
       "      <td>16</td>\n",
       "      <td>50</td>\n",
       "      <td>21</td>\n",
       "      <td>35</td>\n",
       "      <td>4</td>\n",
       "      <td>45</td>\n",
       "      <td>...</td>\n",
       "      <td>0</td>\n",
       "      <td>0</td>\n",
       "      <td>0</td>\n",
       "      <td>0</td>\n",
       "      <td>0</td>\n",
       "      <td>0</td>\n",
       "      <td>0</td>\n",
       "      <td>1</td>\n",
       "      <td>0</td>\n",
       "      <td>0</td>\n",
       "    </tr>\n",
       "  </tbody>\n",
       "</table>\n",
       "<p>5 rows × 29 columns</p>\n",
       "</div>"
      ],
      "text/plain": [
       "   Total_Stops  Price  Day_of_Journey  Month_of_Journey  Dep_hr  Dep_min  \\\n",
       "0            0   3897              24                 3      22       20   \n",
       "1            2   7662               5                 1       5       50   \n",
       "2            2  13882               6                 9       9       25   \n",
       "3            1   6218               5                12      18        5   \n",
       "4            1  13302               3                 1      16       50   \n",
       "\n",
       "   Arrival_hr  Arrival_min duration_hr duration_min  ...  Airline_Vistara  \\\n",
       "0           1           10           2           50  ...                0   \n",
       "1          13           15           7           25  ...                0   \n",
       "2           4           25          19           00  ...                0   \n",
       "3          23           30           5           25  ...                0   \n",
       "4          21           35           4           45  ...                0   \n",
       "\n",
       "   Airline_Vistara Premium economy  Source_Chennai  Source_Delhi  \\\n",
       "0                                0               0             0   \n",
       "1                                0               0             0   \n",
       "2                                0               0             1   \n",
       "3                                0               0             0   \n",
       "4                                0               0             0   \n",
       "\n",
       "   Source_Kolkata  Source_Mumbai  Destination_Cochin  Destination_Delhi  \\\n",
       "0               0              0                   0                  1   \n",
       "1               1              0                   0                  0   \n",
       "2               0              0                   1                  0   \n",
       "3               1              0                   0                  0   \n",
       "4               0              0                   0                  1   \n",
       "\n",
       "   Destination_Hyderabad  Destination_Kolkata  \n",
       "0                      0                    0  \n",
       "1                      0                    0  \n",
       "2                      0                    0  \n",
       "3                      0                    0  \n",
       "4                      0                    0  \n",
       "\n",
       "[5 rows x 29 columns]"
      ]
     },
     "execution_count": 51,
     "metadata": {},
     "output_type": "execute_result"
    }
   ],
   "source": [
    "train_data.head()"
   ]
  },
  {
   "cell_type": "code",
   "execution_count": 51,
   "id": "a6344fe8",
   "metadata": {
    "colab": {
     "base_uri": "https://localhost:8080/"
    },
    "executionInfo": {
     "elapsed": 23,
     "status": "ok",
     "timestamp": 1631029056955,
     "user": {
      "displayName": "HANUMAN AGRAWAL",
      "photoUrl": "",
      "userId": "09126690663497139280"
     },
     "user_tz": -330
    },
    "id": "a6344fe8",
    "outputId": "b77e8467-b346-4498-d071-1191529b7edc"
   },
   "outputs": [
    {
     "data": {
      "text/plain": [
       "(10682, 29)"
      ]
     },
     "execution_count": 51,
     "metadata": {},
     "output_type": "execute_result"
    }
   ],
   "source": [
    "train_data.shape"
   ]
  },
  {
   "cell_type": "code",
   "execution_count": 53,
   "id": "26956c01",
   "metadata": {},
   "outputs": [],
   "source": [
    "train_data.to_csv('deploy_df.csv')"
   ]
  },
  {
   "cell_type": "code",
   "execution_count": 54,
   "id": "913d0b5f",
   "metadata": {
    "colab": {
     "base_uri": "https://localhost:8080/",
     "height": 163
    },
    "executionInfo": {
     "elapsed": 14,
     "status": "error",
     "timestamp": 1631029056958,
     "user": {
      "displayName": "HANUMAN AGRAWAL",
      "photoUrl": "",
      "userId": "09126690663497139280"
     },
     "user_tz": -330
    },
    "id": "913d0b5f",
    "outputId": "4b5d5eb3-1b5e-4d1f-c54b-36ab57a022b4"
   },
   "outputs": [
    {
     "ename": "NameError",
     "evalue": "name 'test_dt_data' is not defined",
     "output_type": "error",
     "traceback": [
      "\u001b[0;31m---------------------------------------------------------------------------\u001b[0m",
      "\u001b[0;31mNameError\u001b[0m                                 Traceback (most recent call last)",
      "\u001b[0;32m<ipython-input-54-13f08e58f8f5>\u001b[0m in \u001b[0;36m<module>\u001b[0;34m\u001b[0m\n\u001b[0;32m----> 1\u001b[0;31m \u001b[0mtest_dt_data\u001b[0m\u001b[0;34m.\u001b[0m\u001b[0mcolumns\u001b[0m\u001b[0;34m\u001b[0m\u001b[0;34m\u001b[0m\u001b[0m\n\u001b[0m",
      "\u001b[0;31mNameError\u001b[0m: name 'test_dt_data' is not defined"
     ]
    }
   ],
   "source": [
    "test_dt_data.columns"
   ]
  },
  {
   "cell_type": "markdown",
   "id": "3ef72b9b",
   "metadata": {
    "id": "3ef72b9b"
   },
   "source": [
    "# test data"
   ]
  },
  {
   "cell_type": "code",
   "execution_count": 61,
   "id": "015de9c2",
   "metadata": {
    "executionInfo": {
     "elapsed": 1178,
     "status": "ok",
     "timestamp": 1631029058124,
     "user": {
      "displayName": "HANUMAN AGRAWAL",
      "photoUrl": "",
      "userId": "09126690663497139280"
     },
     "user_tz": -330
    },
    "id": "015de9c2"
   },
   "outputs": [],
   "source": [
    "test_dt = pd.read_excel(\"Test_set.xlsx\")"
   ]
  },
  {
   "cell_type": "code",
   "execution_count": 62,
   "id": "38c35eab",
   "metadata": {
    "colab": {
     "base_uri": "https://localhost:8080/",
     "height": 204
    },
    "executionInfo": {
     "elapsed": 11,
     "status": "ok",
     "timestamp": 1631029058125,
     "user": {
      "displayName": "HANUMAN AGRAWAL",
      "photoUrl": "",
      "userId": "09126690663497139280"
     },
     "user_tz": -330
    },
    "id": "38c35eab",
    "outputId": "8f1c7561-3d13-4abb-c88c-e8fffdaf2de4"
   },
   "outputs": [
    {
     "data": {
      "text/html": [
       "<div>\n",
       "<style scoped>\n",
       "    .dataframe tbody tr th:only-of-type {\n",
       "        vertical-align: middle;\n",
       "    }\n",
       "\n",
       "    .dataframe tbody tr th {\n",
       "        vertical-align: top;\n",
       "    }\n",
       "\n",
       "    .dataframe thead th {\n",
       "        text-align: right;\n",
       "    }\n",
       "</style>\n",
       "<table border=\"1\" class=\"dataframe\">\n",
       "  <thead>\n",
       "    <tr style=\"text-align: right;\">\n",
       "      <th></th>\n",
       "      <th>Airline</th>\n",
       "      <th>Date_of_Journey</th>\n",
       "      <th>Source</th>\n",
       "      <th>Destination</th>\n",
       "      <th>Route</th>\n",
       "      <th>Dep_Time</th>\n",
       "      <th>Arrival_Time</th>\n",
       "      <th>Duration</th>\n",
       "      <th>Total_Stops</th>\n",
       "      <th>Additional_Info</th>\n",
       "    </tr>\n",
       "  </thead>\n",
       "  <tbody>\n",
       "    <tr>\n",
       "      <th>0</th>\n",
       "      <td>Jet Airways</td>\n",
       "      <td>6/06/2019</td>\n",
       "      <td>Delhi</td>\n",
       "      <td>Cochin</td>\n",
       "      <td>DEL → BOM → COK</td>\n",
       "      <td>17:30</td>\n",
       "      <td>04:25 07 Jun</td>\n",
       "      <td>10h 55m</td>\n",
       "      <td>1 stop</td>\n",
       "      <td>No info</td>\n",
       "    </tr>\n",
       "    <tr>\n",
       "      <th>1</th>\n",
       "      <td>IndiGo</td>\n",
       "      <td>12/05/2019</td>\n",
       "      <td>Kolkata</td>\n",
       "      <td>Banglore</td>\n",
       "      <td>CCU → MAA → BLR</td>\n",
       "      <td>06:20</td>\n",
       "      <td>10:20</td>\n",
       "      <td>4h</td>\n",
       "      <td>1 stop</td>\n",
       "      <td>No info</td>\n",
       "    </tr>\n",
       "    <tr>\n",
       "      <th>2</th>\n",
       "      <td>Jet Airways</td>\n",
       "      <td>21/05/2019</td>\n",
       "      <td>Delhi</td>\n",
       "      <td>Cochin</td>\n",
       "      <td>DEL → BOM → COK</td>\n",
       "      <td>19:15</td>\n",
       "      <td>19:00 22 May</td>\n",
       "      <td>23h 45m</td>\n",
       "      <td>1 stop</td>\n",
       "      <td>In-flight meal not included</td>\n",
       "    </tr>\n",
       "    <tr>\n",
       "      <th>3</th>\n",
       "      <td>Multiple carriers</td>\n",
       "      <td>21/05/2019</td>\n",
       "      <td>Delhi</td>\n",
       "      <td>Cochin</td>\n",
       "      <td>DEL → BOM → COK</td>\n",
       "      <td>08:00</td>\n",
       "      <td>21:00</td>\n",
       "      <td>13h</td>\n",
       "      <td>1 stop</td>\n",
       "      <td>No info</td>\n",
       "    </tr>\n",
       "    <tr>\n",
       "      <th>4</th>\n",
       "      <td>Air Asia</td>\n",
       "      <td>24/06/2019</td>\n",
       "      <td>Banglore</td>\n",
       "      <td>Delhi</td>\n",
       "      <td>BLR → DEL</td>\n",
       "      <td>23:55</td>\n",
       "      <td>02:45 25 Jun</td>\n",
       "      <td>2h 50m</td>\n",
       "      <td>non-stop</td>\n",
       "      <td>No info</td>\n",
       "    </tr>\n",
       "  </tbody>\n",
       "</table>\n",
       "</div>"
      ],
      "text/plain": [
       "             Airline Date_of_Journey    Source Destination            Route  \\\n",
       "0        Jet Airways       6/06/2019     Delhi      Cochin  DEL → BOM → COK   \n",
       "1             IndiGo      12/05/2019   Kolkata    Banglore  CCU → MAA → BLR   \n",
       "2        Jet Airways      21/05/2019     Delhi      Cochin  DEL → BOM → COK   \n",
       "3  Multiple carriers      21/05/2019     Delhi      Cochin  DEL → BOM → COK   \n",
       "4           Air Asia      24/06/2019  Banglore       Delhi        BLR → DEL   \n",
       "\n",
       "  Dep_Time  Arrival_Time Duration Total_Stops              Additional_Info  \n",
       "0    17:30  04:25 07 Jun  10h 55m      1 stop                      No info  \n",
       "1    06:20         10:20       4h      1 stop                      No info  \n",
       "2    19:15  19:00 22 May  23h 45m      1 stop  In-flight meal not included  \n",
       "3    08:00         21:00      13h      1 stop                      No info  \n",
       "4    23:55  02:45 25 Jun   2h 50m    non-stop                      No info  "
      ]
     },
     "execution_count": 62,
     "metadata": {},
     "output_type": "execute_result"
    }
   ],
   "source": [
    "test_dt.head()"
   ]
  },
  {
   "cell_type": "code",
   "execution_count": 63,
   "id": "8e9f15c6",
   "metadata": {
    "executionInfo": {
     "elapsed": 9,
     "status": "ok",
     "timestamp": 1631029058126,
     "user": {
      "displayName": "HANUMAN AGRAWAL",
      "photoUrl": "",
      "userId": "09126690663497139280"
     },
     "user_tz": -330
    },
    "id": "8e9f15c6"
   },
   "outputs": [],
   "source": [
    "test_dt['Date_of_Journey'] = pd.to_datetime(test_dt.Date_of_Journey)\n",
    "test_dt['Day_of_Journey'] = (test_dt['Date_of_Journey']).dt.day\n",
    "test_dt['Month_of_Journey'] = (test_dt['Date_of_Journey']).dt.month"
   ]
  },
  {
   "cell_type": "code",
   "execution_count": 64,
   "id": "78edd6ad",
   "metadata": {
    "executionInfo": {
     "elapsed": 10,
     "status": "ok",
     "timestamp": 1631029058127,
     "user": {
      "displayName": "HANUMAN AGRAWAL",
      "photoUrl": "",
      "userId": "09126690663497139280"
     },
     "user_tz": -330
    },
    "id": "78edd6ad"
   },
   "outputs": [],
   "source": [
    "test_dt.drop(['Date_of_Journey'],axis=1,inplace = True)"
   ]
  },
  {
   "cell_type": "code",
   "execution_count": 65,
   "id": "4d51e09a",
   "metadata": {
    "executionInfo": {
     "elapsed": 5,
     "status": "ok",
     "timestamp": 1631029059119,
     "user": {
      "displayName": "HANUMAN AGRAWAL",
      "photoUrl": "",
      "userId": "09126690663497139280"
     },
     "user_tz": -330
    },
    "id": "4d51e09a"
   },
   "outputs": [],
   "source": [
    "test_dt['Dep_hr'] = pd.to_datetime(test_dt['Dep_Time']).dt.hour\n",
    "test_dt['Dep_min'] = pd.to_datetime(test_dt['Dep_Time']).dt.minute\n",
    "test_dt.drop(['Dep_Time'],axis=1,inplace=True)"
   ]
  },
  {
   "cell_type": "code",
   "execution_count": 66,
   "id": "f1317124",
   "metadata": {
    "executionInfo": {
     "elapsed": 11,
     "status": "ok",
     "timestamp": 1631029059897,
     "user": {
      "displayName": "HANUMAN AGRAWAL",
      "photoUrl": "",
      "userId": "09126690663497139280"
     },
     "user_tz": -330
    },
    "id": "f1317124"
   },
   "outputs": [],
   "source": [
    "duration = test_dt.Duration.str.split(\" \",expand=True)\n",
    "duration.isnull().sum()\n",
    "duration[1].fillna('00m',inplace=True)\n",
    "test_dt['duration_hr'] = duration[0].apply(lambda x: x[:-1])\n",
    "test_dt['duration_min'] = duration[1].apply(lambda x: x[:-1])\n",
    "test_dt.drop(['Duration'],axis=1,inplace=True)"
   ]
  },
  {
   "cell_type": "code",
   "execution_count": 67,
   "id": "ecbffac6",
   "metadata": {
    "colab": {
     "base_uri": "https://localhost:8080/",
     "height": 238
    },
    "executionInfo": {
     "elapsed": 11,
     "status": "ok",
     "timestamp": 1631029059898,
     "user": {
      "displayName": "HANUMAN AGRAWAL",
      "photoUrl": "",
      "userId": "09126690663497139280"
     },
     "user_tz": -330
    },
    "id": "ecbffac6",
    "outputId": "acc883b6-8e0e-427f-ad93-c88d3c4173dc"
   },
   "outputs": [
    {
     "data": {
      "text/html": [
       "<div>\n",
       "<style scoped>\n",
       "    .dataframe tbody tr th:only-of-type {\n",
       "        vertical-align: middle;\n",
       "    }\n",
       "\n",
       "    .dataframe tbody tr th {\n",
       "        vertical-align: top;\n",
       "    }\n",
       "\n",
       "    .dataframe thead th {\n",
       "        text-align: right;\n",
       "    }\n",
       "</style>\n",
       "<table border=\"1\" class=\"dataframe\">\n",
       "  <thead>\n",
       "    <tr style=\"text-align: right;\">\n",
       "      <th></th>\n",
       "      <th>Airline_Air India</th>\n",
       "      <th>Airline_GoAir</th>\n",
       "      <th>Airline_IndiGo</th>\n",
       "      <th>Airline_Jet Airways</th>\n",
       "      <th>Airline_Jet Airways Business</th>\n",
       "      <th>Airline_Multiple carriers</th>\n",
       "      <th>Airline_Multiple carriers Premium economy</th>\n",
       "      <th>Airline_SpiceJet</th>\n",
       "      <th>Airline_Vistara</th>\n",
       "      <th>Airline_Vistara Premium economy</th>\n",
       "    </tr>\n",
       "  </thead>\n",
       "  <tbody>\n",
       "    <tr>\n",
       "      <th>0</th>\n",
       "      <td>0</td>\n",
       "      <td>0</td>\n",
       "      <td>0</td>\n",
       "      <td>1</td>\n",
       "      <td>0</td>\n",
       "      <td>0</td>\n",
       "      <td>0</td>\n",
       "      <td>0</td>\n",
       "      <td>0</td>\n",
       "      <td>0</td>\n",
       "    </tr>\n",
       "    <tr>\n",
       "      <th>1</th>\n",
       "      <td>0</td>\n",
       "      <td>0</td>\n",
       "      <td>1</td>\n",
       "      <td>0</td>\n",
       "      <td>0</td>\n",
       "      <td>0</td>\n",
       "      <td>0</td>\n",
       "      <td>0</td>\n",
       "      <td>0</td>\n",
       "      <td>0</td>\n",
       "    </tr>\n",
       "    <tr>\n",
       "      <th>2</th>\n",
       "      <td>0</td>\n",
       "      <td>0</td>\n",
       "      <td>0</td>\n",
       "      <td>1</td>\n",
       "      <td>0</td>\n",
       "      <td>0</td>\n",
       "      <td>0</td>\n",
       "      <td>0</td>\n",
       "      <td>0</td>\n",
       "      <td>0</td>\n",
       "    </tr>\n",
       "    <tr>\n",
       "      <th>3</th>\n",
       "      <td>0</td>\n",
       "      <td>0</td>\n",
       "      <td>0</td>\n",
       "      <td>0</td>\n",
       "      <td>0</td>\n",
       "      <td>1</td>\n",
       "      <td>0</td>\n",
       "      <td>0</td>\n",
       "      <td>0</td>\n",
       "      <td>0</td>\n",
       "    </tr>\n",
       "    <tr>\n",
       "      <th>4</th>\n",
       "      <td>0</td>\n",
       "      <td>0</td>\n",
       "      <td>0</td>\n",
       "      <td>0</td>\n",
       "      <td>0</td>\n",
       "      <td>0</td>\n",
       "      <td>0</td>\n",
       "      <td>0</td>\n",
       "      <td>0</td>\n",
       "      <td>0</td>\n",
       "    </tr>\n",
       "  </tbody>\n",
       "</table>\n",
       "</div>"
      ],
      "text/plain": [
       "   Airline_Air India  Airline_GoAir  Airline_IndiGo  Airline_Jet Airways  \\\n",
       "0                  0              0               0                    1   \n",
       "1                  0              0               1                    0   \n",
       "2                  0              0               0                    1   \n",
       "3                  0              0               0                    0   \n",
       "4                  0              0               0                    0   \n",
       "\n",
       "   Airline_Jet Airways Business  Airline_Multiple carriers  \\\n",
       "0                             0                          0   \n",
       "1                             0                          0   \n",
       "2                             0                          0   \n",
       "3                             0                          1   \n",
       "4                             0                          0   \n",
       "\n",
       "   Airline_Multiple carriers Premium economy  Airline_SpiceJet  \\\n",
       "0                                          0                 0   \n",
       "1                                          0                 0   \n",
       "2                                          0                 0   \n",
       "3                                          0                 0   \n",
       "4                                          0                 0   \n",
       "\n",
       "   Airline_Vistara  Airline_Vistara Premium economy  \n",
       "0                0                                0  \n",
       "1                0                                0  \n",
       "2                0                                0  \n",
       "3                0                                0  \n",
       "4                0                                0  "
      ]
     },
     "execution_count": 67,
     "metadata": {},
     "output_type": "execute_result"
    }
   ],
   "source": [
    "Airline = test_dt[['Airline']]\n",
    "\n",
    "Airline = pd.get_dummies(Airline,drop_first=True)\n",
    "\n",
    "Airline.head()"
   ]
  },
  {
   "cell_type": "code",
   "execution_count": 68,
   "id": "6ceb1482",
   "metadata": {
    "executionInfo": {
     "elapsed": 8,
     "status": "ok",
     "timestamp": 1631029059898,
     "user": {
      "displayName": "HANUMAN AGRAWAL",
      "photoUrl": "",
      "userId": "09126690663497139280"
     },
     "user_tz": -330
    },
    "id": "6ceb1482"
   },
   "outputs": [],
   "source": [
    "Source = test_dt[['Source']]\n",
    "\n",
    "Source = pd.get_dummies(Source,drop_first=True)"
   ]
  },
  {
   "cell_type": "code",
   "execution_count": 69,
   "id": "e6147e7f",
   "metadata": {
    "colab": {
     "base_uri": "https://localhost:8080/",
     "height": 204
    },
    "executionInfo": {
     "elapsed": 8,
     "status": "ok",
     "timestamp": 1631029060673,
     "user": {
      "displayName": "HANUMAN AGRAWAL",
      "photoUrl": "",
      "userId": "09126690663497139280"
     },
     "user_tz": -330
    },
    "id": "e6147e7f",
    "outputId": "1e03c181-613e-45c3-dbca-17129486f134"
   },
   "outputs": [
    {
     "data": {
      "text/html": [
       "<div>\n",
       "<style scoped>\n",
       "    .dataframe tbody tr th:only-of-type {\n",
       "        vertical-align: middle;\n",
       "    }\n",
       "\n",
       "    .dataframe tbody tr th {\n",
       "        vertical-align: top;\n",
       "    }\n",
       "\n",
       "    .dataframe thead th {\n",
       "        text-align: right;\n",
       "    }\n",
       "</style>\n",
       "<table border=\"1\" class=\"dataframe\">\n",
       "  <thead>\n",
       "    <tr style=\"text-align: right;\">\n",
       "      <th></th>\n",
       "      <th>Destination_Cochin</th>\n",
       "      <th>Destination_Delhi</th>\n",
       "      <th>Destination_Hyderabad</th>\n",
       "      <th>Destination_Kolkata</th>\n",
       "    </tr>\n",
       "  </thead>\n",
       "  <tbody>\n",
       "    <tr>\n",
       "      <th>0</th>\n",
       "      <td>1</td>\n",
       "      <td>0</td>\n",
       "      <td>0</td>\n",
       "      <td>0</td>\n",
       "    </tr>\n",
       "    <tr>\n",
       "      <th>1</th>\n",
       "      <td>0</td>\n",
       "      <td>0</td>\n",
       "      <td>0</td>\n",
       "      <td>0</td>\n",
       "    </tr>\n",
       "    <tr>\n",
       "      <th>2</th>\n",
       "      <td>1</td>\n",
       "      <td>0</td>\n",
       "      <td>0</td>\n",
       "      <td>0</td>\n",
       "    </tr>\n",
       "    <tr>\n",
       "      <th>3</th>\n",
       "      <td>1</td>\n",
       "      <td>0</td>\n",
       "      <td>0</td>\n",
       "      <td>0</td>\n",
       "    </tr>\n",
       "    <tr>\n",
       "      <th>4</th>\n",
       "      <td>0</td>\n",
       "      <td>1</td>\n",
       "      <td>0</td>\n",
       "      <td>0</td>\n",
       "    </tr>\n",
       "  </tbody>\n",
       "</table>\n",
       "</div>"
      ],
      "text/plain": [
       "   Destination_Cochin  Destination_Delhi  Destination_Hyderabad  \\\n",
       "0                   1                  0                      0   \n",
       "1                   0                  0                      0   \n",
       "2                   1                  0                      0   \n",
       "3                   1                  0                      0   \n",
       "4                   0                  1                      0   \n",
       "\n",
       "   Destination_Kolkata  \n",
       "0                    0  \n",
       "1                    0  \n",
       "2                    0  \n",
       "3                    0  \n",
       "4                    0  "
      ]
     },
     "execution_count": 69,
     "metadata": {},
     "output_type": "execute_result"
    }
   ],
   "source": [
    "for i in test_dt:\n",
    "    test_dt.replace('New Delhi','Delhi',inplace=True)\n",
    "test_dt['Destination'].unique()\n",
    "Destination = test_dt[['Destination']]\n",
    "Destination = pd.get_dummies(Destination, drop_first=True)\n",
    "Destination.head()"
   ]
  },
  {
   "cell_type": "code",
   "execution_count": 70,
   "id": "8364ad6b",
   "metadata": {
    "executionInfo": {
     "elapsed": 7,
     "status": "ok",
     "timestamp": 1631029060674,
     "user": {
      "displayName": "HANUMAN AGRAWAL",
      "photoUrl": "",
      "userId": "09126690663497139280"
     },
     "user_tz": -330
    },
    "id": "8364ad6b"
   },
   "outputs": [],
   "source": [
    "test_dt.drop(['Airline','Source','Destination'],inplace=True,axis=1)"
   ]
  },
  {
   "cell_type": "code",
   "execution_count": 71,
   "id": "53c7bf88",
   "metadata": {
    "executionInfo": {
     "elapsed": 7,
     "status": "ok",
     "timestamp": 1631029060675,
     "user": {
      "displayName": "HANUMAN AGRAWAL",
      "photoUrl": "",
      "userId": "09126690663497139280"
     },
     "user_tz": -330
    },
    "id": "53c7bf88"
   },
   "outputs": [],
   "source": [
    "test_dt.drop(['Route','Additional_Info'],axis=1,inplace=True)"
   ]
  },
  {
   "cell_type": "code",
   "execution_count": 72,
   "id": "012d91bf",
   "metadata": {
    "executionInfo": {
     "elapsed": 3,
     "status": "ok",
     "timestamp": 1631029061227,
     "user": {
      "displayName": "HANUMAN AGRAWAL",
      "photoUrl": "",
      "userId": "09126690663497139280"
     },
     "user_tz": -330
    },
    "id": "012d91bf"
   },
   "outputs": [],
   "source": [
    "test_dt.replace({\"non-stop\":0,\"1 stop\":1,\"2 stops\":2,\"3 stops\":3,\"4 stops\":4},inplace=True)"
   ]
  },
  {
   "cell_type": "code",
   "execution_count": 73,
   "id": "075c3390",
   "metadata": {
    "executionInfo": {
     "elapsed": 7,
     "status": "ok",
     "timestamp": 1631029062048,
     "user": {
      "displayName": "HANUMAN AGRAWAL",
      "photoUrl": "",
      "userId": "09126690663497139280"
     },
     "user_tz": -330
    },
    "id": "075c3390"
   },
   "outputs": [],
   "source": [
    "test_dt_data = pd.concat([test_dt,Airline,Source,Destination],axis=1)"
   ]
  },
  {
   "cell_type": "code",
   "execution_count": 74,
   "id": "afbbb44d",
   "metadata": {
    "executionInfo": {
     "elapsed": 7,
     "status": "ok",
     "timestamp": 1631029062049,
     "user": {
      "displayName": "HANUMAN AGRAWAL",
      "photoUrl": "",
      "userId": "09126690663497139280"
     },
     "user_tz": -330
    },
    "id": "afbbb44d"
   },
   "outputs": [],
   "source": [
    "test_dt_data['Arrival_hr'] = pd.to_datetime(test_dt_data['Arrival_Time']).dt.hour\n",
    "test_dt_data['Arrival_min'] = pd.to_datetime(test_dt_data['Arrival_Time']).dt.minute\n",
    "test_dt_data.drop(['Arrival_Time'],axis=1,inplace=True)"
   ]
  },
  {
   "cell_type": "code",
   "execution_count": 75,
   "id": "20a002e1",
   "metadata": {
    "colab": {
     "base_uri": "https://localhost:8080/"
    },
    "executionInfo": {
     "elapsed": 13,
     "status": "ok",
     "timestamp": 1631029062637,
     "user": {
      "displayName": "HANUMAN AGRAWAL",
      "photoUrl": "",
      "userId": "09126690663497139280"
     },
     "user_tz": -330
    },
    "id": "20a002e1",
    "outputId": "91ca69b3-5838-4133-e45d-70bf11a841cd"
   },
   "outputs": [
    {
     "data": {
      "text/plain": [
       "(2671, 27)"
      ]
     },
     "execution_count": 75,
     "metadata": {},
     "output_type": "execute_result"
    }
   ],
   "source": [
    "test_dt_data.shape"
   ]
  },
  {
   "cell_type": "code",
   "execution_count": 76,
   "id": "83fdfd44",
   "metadata": {
    "colab": {
     "base_uri": "https://localhost:8080/",
     "height": 258
    },
    "executionInfo": {
     "elapsed": 8,
     "status": "ok",
     "timestamp": 1631029062637,
     "user": {
      "displayName": "HANUMAN AGRAWAL",
      "photoUrl": "",
      "userId": "09126690663497139280"
     },
     "user_tz": -330
    },
    "id": "83fdfd44",
    "outputId": "2dfd991d-29c1-4fab-cf0f-b68051de727b"
   },
   "outputs": [
    {
     "data": {
      "text/html": [
       "<div>\n",
       "<style scoped>\n",
       "    .dataframe tbody tr th:only-of-type {\n",
       "        vertical-align: middle;\n",
       "    }\n",
       "\n",
       "    .dataframe tbody tr th {\n",
       "        vertical-align: top;\n",
       "    }\n",
       "\n",
       "    .dataframe thead th {\n",
       "        text-align: right;\n",
       "    }\n",
       "</style>\n",
       "<table border=\"1\" class=\"dataframe\">\n",
       "  <thead>\n",
       "    <tr style=\"text-align: right;\">\n",
       "      <th></th>\n",
       "      <th>Total_Stops</th>\n",
       "      <th>Day_of_Journey</th>\n",
       "      <th>Month_of_Journey</th>\n",
       "      <th>Dep_hr</th>\n",
       "      <th>Dep_min</th>\n",
       "      <th>duration_hr</th>\n",
       "      <th>duration_min</th>\n",
       "      <th>Airline_Air India</th>\n",
       "      <th>Airline_GoAir</th>\n",
       "      <th>Airline_IndiGo</th>\n",
       "      <th>...</th>\n",
       "      <th>Source_Chennai</th>\n",
       "      <th>Source_Delhi</th>\n",
       "      <th>Source_Kolkata</th>\n",
       "      <th>Source_Mumbai</th>\n",
       "      <th>Destination_Cochin</th>\n",
       "      <th>Destination_Delhi</th>\n",
       "      <th>Destination_Hyderabad</th>\n",
       "      <th>Destination_Kolkata</th>\n",
       "      <th>Arrival_hr</th>\n",
       "      <th>Arrival_min</th>\n",
       "    </tr>\n",
       "  </thead>\n",
       "  <tbody>\n",
       "    <tr>\n",
       "      <th>0</th>\n",
       "      <td>1</td>\n",
       "      <td>6</td>\n",
       "      <td>6</td>\n",
       "      <td>17</td>\n",
       "      <td>30</td>\n",
       "      <td>10</td>\n",
       "      <td>55</td>\n",
       "      <td>0</td>\n",
       "      <td>0</td>\n",
       "      <td>0</td>\n",
       "      <td>...</td>\n",
       "      <td>0</td>\n",
       "      <td>1</td>\n",
       "      <td>0</td>\n",
       "      <td>0</td>\n",
       "      <td>1</td>\n",
       "      <td>0</td>\n",
       "      <td>0</td>\n",
       "      <td>0</td>\n",
       "      <td>4</td>\n",
       "      <td>25</td>\n",
       "    </tr>\n",
       "    <tr>\n",
       "      <th>1</th>\n",
       "      <td>1</td>\n",
       "      <td>5</td>\n",
       "      <td>12</td>\n",
       "      <td>6</td>\n",
       "      <td>20</td>\n",
       "      <td>4</td>\n",
       "      <td>00</td>\n",
       "      <td>0</td>\n",
       "      <td>0</td>\n",
       "      <td>1</td>\n",
       "      <td>...</td>\n",
       "      <td>0</td>\n",
       "      <td>0</td>\n",
       "      <td>1</td>\n",
       "      <td>0</td>\n",
       "      <td>0</td>\n",
       "      <td>0</td>\n",
       "      <td>0</td>\n",
       "      <td>0</td>\n",
       "      <td>10</td>\n",
       "      <td>20</td>\n",
       "    </tr>\n",
       "    <tr>\n",
       "      <th>2</th>\n",
       "      <td>1</td>\n",
       "      <td>21</td>\n",
       "      <td>5</td>\n",
       "      <td>19</td>\n",
       "      <td>15</td>\n",
       "      <td>23</td>\n",
       "      <td>45</td>\n",
       "      <td>0</td>\n",
       "      <td>0</td>\n",
       "      <td>0</td>\n",
       "      <td>...</td>\n",
       "      <td>0</td>\n",
       "      <td>1</td>\n",
       "      <td>0</td>\n",
       "      <td>0</td>\n",
       "      <td>1</td>\n",
       "      <td>0</td>\n",
       "      <td>0</td>\n",
       "      <td>0</td>\n",
       "      <td>19</td>\n",
       "      <td>0</td>\n",
       "    </tr>\n",
       "    <tr>\n",
       "      <th>3</th>\n",
       "      <td>1</td>\n",
       "      <td>21</td>\n",
       "      <td>5</td>\n",
       "      <td>8</td>\n",
       "      <td>0</td>\n",
       "      <td>13</td>\n",
       "      <td>00</td>\n",
       "      <td>0</td>\n",
       "      <td>0</td>\n",
       "      <td>0</td>\n",
       "      <td>...</td>\n",
       "      <td>0</td>\n",
       "      <td>1</td>\n",
       "      <td>0</td>\n",
       "      <td>0</td>\n",
       "      <td>1</td>\n",
       "      <td>0</td>\n",
       "      <td>0</td>\n",
       "      <td>0</td>\n",
       "      <td>21</td>\n",
       "      <td>0</td>\n",
       "    </tr>\n",
       "    <tr>\n",
       "      <th>4</th>\n",
       "      <td>0</td>\n",
       "      <td>24</td>\n",
       "      <td>6</td>\n",
       "      <td>23</td>\n",
       "      <td>55</td>\n",
       "      <td>2</td>\n",
       "      <td>50</td>\n",
       "      <td>0</td>\n",
       "      <td>0</td>\n",
       "      <td>0</td>\n",
       "      <td>...</td>\n",
       "      <td>0</td>\n",
       "      <td>0</td>\n",
       "      <td>0</td>\n",
       "      <td>0</td>\n",
       "      <td>0</td>\n",
       "      <td>1</td>\n",
       "      <td>0</td>\n",
       "      <td>0</td>\n",
       "      <td>2</td>\n",
       "      <td>45</td>\n",
       "    </tr>\n",
       "  </tbody>\n",
       "</table>\n",
       "<p>5 rows × 27 columns</p>\n",
       "</div>"
      ],
      "text/plain": [
       "   Total_Stops  Day_of_Journey  Month_of_Journey  Dep_hr  Dep_min duration_hr  \\\n",
       "0            1               6                 6      17       30          10   \n",
       "1            1               5                12       6       20           4   \n",
       "2            1              21                 5      19       15          23   \n",
       "3            1              21                 5       8        0          13   \n",
       "4            0              24                 6      23       55           2   \n",
       "\n",
       "  duration_min  Airline_Air India  Airline_GoAir  Airline_IndiGo  ...  \\\n",
       "0           55                  0              0               0  ...   \n",
       "1           00                  0              0               1  ...   \n",
       "2           45                  0              0               0  ...   \n",
       "3           00                  0              0               0  ...   \n",
       "4           50                  0              0               0  ...   \n",
       "\n",
       "   Source_Chennai  Source_Delhi  Source_Kolkata  Source_Mumbai  \\\n",
       "0               0             1               0              0   \n",
       "1               0             0               1              0   \n",
       "2               0             1               0              0   \n",
       "3               0             1               0              0   \n",
       "4               0             0               0              0   \n",
       "\n",
       "   Destination_Cochin  Destination_Delhi  Destination_Hyderabad  \\\n",
       "0                   1                  0                      0   \n",
       "1                   0                  0                      0   \n",
       "2                   1                  0                      0   \n",
       "3                   1                  0                      0   \n",
       "4                   0                  1                      0   \n",
       "\n",
       "   Destination_Kolkata  Arrival_hr  Arrival_min  \n",
       "0                    0           4           25  \n",
       "1                    0          10           20  \n",
       "2                    0          19            0  \n",
       "3                    0          21            0  \n",
       "4                    0           2           45  \n",
       "\n",
       "[5 rows x 27 columns]"
      ]
     },
     "execution_count": 76,
     "metadata": {},
     "output_type": "execute_result"
    }
   ],
   "source": [
    "test_dt_data.head()"
   ]
  },
  {
   "cell_type": "markdown",
   "id": "8e68e63d",
   "metadata": {
    "id": "8e68e63d"
   },
   "source": [
    "# feature selection"
   ]
  },
  {
   "cell_type": "code",
   "execution_count": 77,
   "id": "b5099466",
   "metadata": {
    "colab": {
     "base_uri": "https://localhost:8080/"
    },
    "executionInfo": {
     "elapsed": 6,
     "status": "ok",
     "timestamp": 1631029063200,
     "user": {
      "displayName": "HANUMAN AGRAWAL",
      "photoUrl": "",
      "userId": "09126690663497139280"
     },
     "user_tz": -330
    },
    "id": "b5099466",
    "outputId": "02dbc5a2-bd97-4868-d44b-15a627cf6597"
   },
   "outputs": [
    {
     "data": {
      "text/plain": [
       "Index(['Total_Stops', 'Price', 'Day_of_Journey', 'Month_of_Journey', 'Dep_hr',\n",
       "       'Dep_min', 'Arrival_hr', 'Arrival_min', 'duration_hr', 'duration_min',\n",
       "       'Airline_Air India', 'Airline_GoAir', 'Airline_IndiGo',\n",
       "       'Airline_Jet Airways', 'Airline_Jet Airways Business',\n",
       "       'Airline_Multiple carriers',\n",
       "       'Airline_Multiple carriers Premium economy', 'Airline_SpiceJet',\n",
       "       'Airline_Trujet', 'Airline_Vistara', 'Airline_Vistara Premium economy',\n",
       "       'Source_Chennai', 'Source_Delhi', 'Source_Kolkata', 'Source_Mumbai',\n",
       "       'Destination_Cochin', 'Destination_Delhi', 'Destination_Hyderabad',\n",
       "       'Destination_Kolkata'],\n",
       "      dtype='object')"
      ]
     },
     "execution_count": 77,
     "metadata": {},
     "output_type": "execute_result"
    }
   ],
   "source": [
    "train_data.columns"
   ]
  },
  {
   "cell_type": "code",
   "execution_count": 78,
   "id": "54d45cd3",
   "metadata": {
    "executionInfo": {
     "elapsed": 4,
     "status": "ok",
     "timestamp": 1631029064008,
     "user": {
      "displayName": "HANUMAN AGRAWAL",
      "photoUrl": "",
      "userId": "09126690663497139280"
     },
     "user_tz": -330
    },
    "id": "54d45cd3"
   },
   "outputs": [],
   "source": [
    "x = train_data.drop(['Price'],axis=1)\n",
    "y = train_data['Price']"
   ]
  },
  {
   "cell_type": "code",
   "execution_count": 79,
   "id": "e3890303",
   "metadata": {
    "colab": {
     "base_uri": "https://localhost:8080/",
     "height": 258
    },
    "executionInfo": {
     "elapsed": 16,
     "status": "ok",
     "timestamp": 1631029064830,
     "user": {
      "displayName": "HANUMAN AGRAWAL",
      "photoUrl": "",
      "userId": "09126690663497139280"
     },
     "user_tz": -330
    },
    "id": "e3890303",
    "outputId": "bd864692-fcf6-444b-8fd9-7f25578b68ee"
   },
   "outputs": [
    {
     "data": {
      "text/html": [
       "<div>\n",
       "<style scoped>\n",
       "    .dataframe tbody tr th:only-of-type {\n",
       "        vertical-align: middle;\n",
       "    }\n",
       "\n",
       "    .dataframe tbody tr th {\n",
       "        vertical-align: top;\n",
       "    }\n",
       "\n",
       "    .dataframe thead th {\n",
       "        text-align: right;\n",
       "    }\n",
       "</style>\n",
       "<table border=\"1\" class=\"dataframe\">\n",
       "  <thead>\n",
       "    <tr style=\"text-align: right;\">\n",
       "      <th></th>\n",
       "      <th>Total_Stops</th>\n",
       "      <th>Day_of_Journey</th>\n",
       "      <th>Month_of_Journey</th>\n",
       "      <th>Dep_hr</th>\n",
       "      <th>Dep_min</th>\n",
       "      <th>Arrival_hr</th>\n",
       "      <th>Arrival_min</th>\n",
       "      <th>duration_hr</th>\n",
       "      <th>duration_min</th>\n",
       "      <th>Airline_Air India</th>\n",
       "      <th>...</th>\n",
       "      <th>Airline_Vistara</th>\n",
       "      <th>Airline_Vistara Premium economy</th>\n",
       "      <th>Source_Chennai</th>\n",
       "      <th>Source_Delhi</th>\n",
       "      <th>Source_Kolkata</th>\n",
       "      <th>Source_Mumbai</th>\n",
       "      <th>Destination_Cochin</th>\n",
       "      <th>Destination_Delhi</th>\n",
       "      <th>Destination_Hyderabad</th>\n",
       "      <th>Destination_Kolkata</th>\n",
       "    </tr>\n",
       "  </thead>\n",
       "  <tbody>\n",
       "    <tr>\n",
       "      <th>0</th>\n",
       "      <td>0</td>\n",
       "      <td>24</td>\n",
       "      <td>3</td>\n",
       "      <td>22</td>\n",
       "      <td>20</td>\n",
       "      <td>1</td>\n",
       "      <td>10</td>\n",
       "      <td>2</td>\n",
       "      <td>50</td>\n",
       "      <td>0</td>\n",
       "      <td>...</td>\n",
       "      <td>0</td>\n",
       "      <td>0</td>\n",
       "      <td>0</td>\n",
       "      <td>0</td>\n",
       "      <td>0</td>\n",
       "      <td>0</td>\n",
       "      <td>0</td>\n",
       "      <td>1</td>\n",
       "      <td>0</td>\n",
       "      <td>0</td>\n",
       "    </tr>\n",
       "    <tr>\n",
       "      <th>1</th>\n",
       "      <td>2</td>\n",
       "      <td>5</td>\n",
       "      <td>1</td>\n",
       "      <td>5</td>\n",
       "      <td>50</td>\n",
       "      <td>13</td>\n",
       "      <td>15</td>\n",
       "      <td>7</td>\n",
       "      <td>25</td>\n",
       "      <td>1</td>\n",
       "      <td>...</td>\n",
       "      <td>0</td>\n",
       "      <td>0</td>\n",
       "      <td>0</td>\n",
       "      <td>0</td>\n",
       "      <td>1</td>\n",
       "      <td>0</td>\n",
       "      <td>0</td>\n",
       "      <td>0</td>\n",
       "      <td>0</td>\n",
       "      <td>0</td>\n",
       "    </tr>\n",
       "    <tr>\n",
       "      <th>2</th>\n",
       "      <td>2</td>\n",
       "      <td>6</td>\n",
       "      <td>9</td>\n",
       "      <td>9</td>\n",
       "      <td>25</td>\n",
       "      <td>4</td>\n",
       "      <td>25</td>\n",
       "      <td>19</td>\n",
       "      <td>00</td>\n",
       "      <td>0</td>\n",
       "      <td>...</td>\n",
       "      <td>0</td>\n",
       "      <td>0</td>\n",
       "      <td>0</td>\n",
       "      <td>1</td>\n",
       "      <td>0</td>\n",
       "      <td>0</td>\n",
       "      <td>1</td>\n",
       "      <td>0</td>\n",
       "      <td>0</td>\n",
       "      <td>0</td>\n",
       "    </tr>\n",
       "    <tr>\n",
       "      <th>3</th>\n",
       "      <td>1</td>\n",
       "      <td>5</td>\n",
       "      <td>12</td>\n",
       "      <td>18</td>\n",
       "      <td>5</td>\n",
       "      <td>23</td>\n",
       "      <td>30</td>\n",
       "      <td>5</td>\n",
       "      <td>25</td>\n",
       "      <td>0</td>\n",
       "      <td>...</td>\n",
       "      <td>0</td>\n",
       "      <td>0</td>\n",
       "      <td>0</td>\n",
       "      <td>0</td>\n",
       "      <td>1</td>\n",
       "      <td>0</td>\n",
       "      <td>0</td>\n",
       "      <td>0</td>\n",
       "      <td>0</td>\n",
       "      <td>0</td>\n",
       "    </tr>\n",
       "    <tr>\n",
       "      <th>4</th>\n",
       "      <td>1</td>\n",
       "      <td>3</td>\n",
       "      <td>1</td>\n",
       "      <td>16</td>\n",
       "      <td>50</td>\n",
       "      <td>21</td>\n",
       "      <td>35</td>\n",
       "      <td>4</td>\n",
       "      <td>45</td>\n",
       "      <td>0</td>\n",
       "      <td>...</td>\n",
       "      <td>0</td>\n",
       "      <td>0</td>\n",
       "      <td>0</td>\n",
       "      <td>0</td>\n",
       "      <td>0</td>\n",
       "      <td>0</td>\n",
       "      <td>0</td>\n",
       "      <td>1</td>\n",
       "      <td>0</td>\n",
       "      <td>0</td>\n",
       "    </tr>\n",
       "  </tbody>\n",
       "</table>\n",
       "<p>5 rows × 28 columns</p>\n",
       "</div>"
      ],
      "text/plain": [
       "   Total_Stops  Day_of_Journey  Month_of_Journey  Dep_hr  Dep_min  Arrival_hr  \\\n",
       "0            0              24                 3      22       20           1   \n",
       "1            2               5                 1       5       50          13   \n",
       "2            2               6                 9       9       25           4   \n",
       "3            1               5                12      18        5          23   \n",
       "4            1               3                 1      16       50          21   \n",
       "\n",
       "   Arrival_min duration_hr duration_min  Airline_Air India  ...  \\\n",
       "0           10           2           50                  0  ...   \n",
       "1           15           7           25                  1  ...   \n",
       "2           25          19           00                  0  ...   \n",
       "3           30           5           25                  0  ...   \n",
       "4           35           4           45                  0  ...   \n",
       "\n",
       "   Airline_Vistara  Airline_Vistara Premium economy  Source_Chennai  \\\n",
       "0                0                                0               0   \n",
       "1                0                                0               0   \n",
       "2                0                                0               0   \n",
       "3                0                                0               0   \n",
       "4                0                                0               0   \n",
       "\n",
       "   Source_Delhi  Source_Kolkata  Source_Mumbai  Destination_Cochin  \\\n",
       "0             0               0              0                   0   \n",
       "1             0               1              0                   0   \n",
       "2             1               0              0                   1   \n",
       "3             0               1              0                   0   \n",
       "4             0               0              0                   0   \n",
       "\n",
       "   Destination_Delhi  Destination_Hyderabad  Destination_Kolkata  \n",
       "0                  1                      0                    0  \n",
       "1                  0                      0                    0  \n",
       "2                  0                      0                    0  \n",
       "3                  0                      0                    0  \n",
       "4                  1                      0                    0  \n",
       "\n",
       "[5 rows x 28 columns]"
      ]
     },
     "execution_count": 79,
     "metadata": {},
     "output_type": "execute_result"
    }
   ],
   "source": [
    "x.head()"
   ]
  },
  {
   "cell_type": "code",
   "execution_count": 80,
   "id": "3ff36b73",
   "metadata": {
    "colab": {
     "base_uri": "https://localhost:8080/",
     "height": 1000
    },
    "executionInfo": {
     "elapsed": 6637,
     "status": "ok",
     "timestamp": 1631029071456,
     "user": {
      "displayName": "HANUMAN AGRAWAL",
      "photoUrl": "",
      "userId": "09126690663497139280"
     },
     "user_tz": -330
    },
    "id": "3ff36b73",
    "outputId": "dda90655-4407-4fcb-e716-ab5ad24e50c9"
   },
   "outputs": [
    {
     "data": {
      "image/png": "[encoded data removed]",
      "text/plain": [
       "<Figure size 1440x1440 with 2 Axes>"
      ]
     },
     "metadata": {
      "needs_background": "light"
     },
     "output_type": "display_data"
    }
   ],
   "source": [
    "plt.figure(figsize=(20,20))\n",
    "sns.heatmap(train_data.corr(),annot=True,cmap='RdYlGn')\n",
    "plt.show()"
   ]
  },
  {
   "cell_type": "code",
   "execution_count": 81,
   "id": "757921dd",
   "metadata": {
    "executionInfo": {
     "elapsed": 35,
     "status": "ok",
     "timestamp": 1631029071458,
     "user": {
      "displayName": "HANUMAN AGRAWAL",
      "photoUrl": "",
      "userId": "09126690663497139280"
     },
     "user_tz": -330
    },
    "id": "757921dd"
   },
   "outputs": [],
   "source": [
    "# def correlation(dataset,threshold):\n",
    "#     col_corr = set()\n",
    "#     corr_matrix = dataset.corr()\n",
    "#     for i in range(len(corr_matrix.columns)):\n",
    "#         for j in range(i):\n",
    "#             if abs(corr_matrix.iloc[i,j]) > threshold:\n",
    "#                 colname = corr_matrix.columns[i]\n",
    "#                 col_corr.add(colname)\n",
    "#     return col_corr"
   ]
  },
  {
   "cell_type": "code",
   "execution_count": 82,
   "id": "c537da05",
   "metadata": {
    "executionInfo": {
     "elapsed": 32,
     "status": "ok",
     "timestamp": 1631029071459,
     "user": {
      "displayName": "HANUMAN AGRAWAL",
      "photoUrl": "",
      "userId": "09126690663497139280"
     },
     "user_tz": -330
    },
    "id": "c537da05"
   },
   "outputs": [],
   "source": [
    "# corr_feature = correlation(x,0.7)\n",
    "# len(set(corr_feature))"
   ]
  },
  {
   "cell_type": "code",
   "execution_count": 83,
   "id": "5e92a7f1",
   "metadata": {
    "executionInfo": {
     "elapsed": 35,
     "status": "ok",
     "timestamp": 1631029071463,
     "user": {
      "displayName": "HANUMAN AGRAWAL",
      "photoUrl": "",
      "userId": "09126690663497139280"
     },
     "user_tz": -330
    },
    "id": "5e92a7f1"
   },
   "outputs": [],
   "source": [
    "# corr_feature"
   ]
  },
  {
   "cell_type": "code",
   "execution_count": 84,
   "id": "370dfdf2",
   "metadata": {
    "executionInfo": {
     "elapsed": 33,
     "status": "ok",
     "timestamp": 1631029071465,
     "user": {
      "displayName": "HANUMAN AGRAWAL",
      "photoUrl": "",
      "userId": "09126690663497139280"
     },
     "user_tz": -330
    },
    "id": "370dfdf2"
   },
   "outputs": [],
   "source": [
    "# train_data.shape,test_dt_data.shape"
   ]
  },
  {
   "cell_type": "code",
   "execution_count": 85,
   "id": "882452cb",
   "metadata": {
    "executionInfo": {
     "elapsed": 34,
     "status": "ok",
     "timestamp": 1631029071467,
     "user": {
      "displayName": "HANUMAN AGRAWAL",
      "photoUrl": "",
      "userId": "09126690663497139280"
     },
     "user_tz": -330
    },
    "id": "882452cb"
   },
   "outputs": [],
   "source": [
    "# train_data.drop(['Airline_Trujet'],axis=1,inplace=True)"
   ]
  },
  {
   "cell_type": "code",
   "execution_count": 86,
   "id": "e3eeeba9",
   "metadata": {
    "executionInfo": {
     "elapsed": 33,
     "status": "ok",
     "timestamp": 1631029071470,
     "user": {
      "displayName": "HANUMAN AGRAWAL",
      "photoUrl": "",
      "userId": "09126690663497139280"
     },
     "user_tz": -330
    },
    "id": "e3eeeba9"
   },
   "outputs": [],
   "source": [
    "from sklearn.model_selection import train_test_split\n",
    "x_train,x_test,y_train,y_test = train_test_split(x,y,test_size=0.2,random_state=20)"
   ]
  },
  {
   "cell_type": "code",
   "execution_count": 87,
   "id": "e304461b",
   "metadata": {
    "executionInfo": {
     "elapsed": 33,
     "status": "ok",
     "timestamp": 1631029071471,
     "user": {
      "displayName": "HANUMAN AGRAWAL",
      "photoUrl": "",
      "userId": "09126690663497139280"
     },
     "user_tz": -330
    },
    "id": "e304461b"
   },
   "outputs": [],
   "source": [
    "from sklearn.metrics import r2_score,mean_absolute_error,mean_squared_error\n",
    "def predict(ml_model):\n",
    "    print('Model is: {}'.format(ml_model))\n",
    "    model = ml_model.fit(x_train,y_train)\n",
    "    print(\"Training score: {}\".format(model.score(x_train,y_train)))\n",
    "    predictions = model.predict(x_test)\n",
    "    print(\"Prediction are: {}\".format(predictions))\n",
    "    print()\n",
    "    r2_score1 = r2_score(y_test,predictions)\n",
    "    print(\"r2score is: {}\".format(r2_score1))\n",
    "    print('MSE:{}'.format(np.sqrt(mean_absolute_error(y_test,predictions))))\n",
    "    print('RMSE:{}'.format(np.sqrt(mean_squared_error(y_test,predictions))))\n",
    "    sns.displot(y_test-predictions)"
   ]
  },
  {
   "cell_type": "code",
   "execution_count": 88,
   "id": "c7f23121",
   "metadata": {
    "executionInfo": {
     "elapsed": 5,
     "status": "ok",
     "timestamp": 1631029072205,
     "user": {
      "displayName": "HANUMAN AGRAWAL",
      "photoUrl": "",
      "userId": "09126690663497139280"
     },
     "user_tz": -330
    },
    "id": "c7f23121"
   },
   "outputs": [],
   "source": [
    "from sklearn.linear_model import LogisticRegression\n",
    "from sklearn.neighbors import KNeighborsRegressor\n",
    "from sklearn.tree import DecisionTreeRegressor\n",
    "from sklearn.ensemble import GradientBoostingRegressor,RandomForestRegressor"
   ]
  },
  {
   "cell_type": "code",
   "execution_count": 89,
   "id": "49e1d9d5",
   "metadata": {
    "colab": {
     "base_uri": "https://localhost:8080/",
     "height": 692
    },
    "executionInfo": {
     "elapsed": 113116,
     "status": "ok",
     "timestamp": 1631029188040,
     "user": {
      "displayName": "HANUMAN AGRAWAL",
      "photoUrl": "",
      "userId": "09126690663497139280"
     },
     "user_tz": -330
    },
    "id": "49e1d9d5",
    "outputId": "b7e5f49b-2d19-480b-9bf5-15bf3eecf048"
   },
   "outputs": [
    {
     "name": "stdout",
     "output_type": "stream",
     "text": [
      "Model is: LogisticRegression()\n"
     ]
    },
    {
     "name": "stderr",
     "output_type": "stream",
     "text": [
      "/home/hanu/anaconda3/lib/python3.8/site-packages/sklearn/linear_model/_logistic.py:763: ConvergenceWarning: lbfgs failed to converge (status=1):\n",
      "STOP: TOTAL NO. of ITERATIONS REACHED LIMIT.\n",
      "\n",
      "Increase the number of iterations (max_iter) or scale the data as shown in:\n",
      "    https://scikit-learn.org/stable/modules/preprocessing.html\n",
      "Please also refer to the documentation for alternative solver options:\n",
      "    https://scikit-learn.org/stable/modules/linear_model.html#logistic-regression\n",
      "  n_iter_i = _check_optimize_result(\n"
     ]
    },
    {
     "name": "stdout",
     "output_type": "stream",
     "text": [
      "Training score: 0.22972498537156233\n",
      "Prediction are: [10262 10262 26890 ...  6121  4804 10441]\n",
      "\n",
      "r2score is: 0.16697443326397732\n",
      "MSE:49.83819396720714\n",
      "RMSE:4135.288302170517\n"
     ]
    },
    {
     "data": {
      "image/png": "[encoded data removed]",
      "text/plain": [
       "<Figure size 360x360 with 1 Axes>"
      ]
     },
     "metadata": {
      "needs_background": "light"
     },
     "output_type": "display_data"
    }
   ],
   "source": [
    "predict(LogisticRegression())"
   ]
  },
  {
   "cell_type": "code",
   "execution_count": 83,
   "id": "31f29aeb",
   "metadata": {
    "colab": {
     "base_uri": "https://localhost:8080/",
     "height": 522
    },
    "executionInfo": {
     "elapsed": 2582,
     "status": "ok",
     "timestamp": 1631029250619,
     "user": {
      "displayName": "HANUMAN AGRAWAL",
      "photoUrl": "",
      "userId": "09126690663497139280"
     },
     "user_tz": -330
    },
    "id": "31f29aeb",
    "outputId": "f8062d19-2645-450e-b70f-9f0b722a1c88"
   },
   "outputs": [
    {
     "name": "stdout",
     "output_type": "stream",
     "text": [
      "Model is: KNeighborsRegressor(algorithm='auto', leaf_size=30, metric='minkowski',\n",
      "                    metric_params=None, n_jobs=None, n_neighbors=5, p=2,\n",
      "                    weights='uniform')\n",
      "Training score: 0.7289447328864359\n",
      "Prediction are: [10789.2 12059.8  6194.2 ...  5277.8  4294.8  9694. ]\n",
      "\n",
      "r2score is: 0.5667506004251894\n",
      "MSE:43.910207438216425\n",
      "RMSE:2982.260746898143\n"
     ]
    },
    {
     "data": {
      "image/png": "[encoded data removed]",
      "text/plain": [
       "<Figure size 360x360 with 1 Axes>"
      ]
     },
     "metadata": {
      "needs_background": "light"
     },
     "output_type": "display_data"
    }
   ],
   "source": [
    "predict(KNeighborsRegressor())"
   ]
  },
  {
   "cell_type": "code",
   "execution_count": 84,
   "id": "49f0c429",
   "metadata": {
    "colab": {
     "base_uri": "https://localhost:8080/",
     "height": 573
    },
    "executionInfo": {
     "elapsed": 1768,
     "status": "ok",
     "timestamp": 1631029252371,
     "user": {
      "displayName": "HANUMAN AGRAWAL",
      "photoUrl": "",
      "userId": "09126690663497139280"
     },
     "user_tz": -330
    },
    "id": "49f0c429",
    "outputId": "73c78441-269b-4769-965c-06ecd254fcf1"
   },
   "outputs": [
    {
     "name": "stdout",
     "output_type": "stream",
     "text": [
      "Model is: DecisionTreeRegressor(ccp_alpha=0.0, criterion='mse', max_depth=None,\n",
      "                      max_features=None, max_leaf_nodes=None,\n",
      "                      min_impurity_decrease=0.0, min_impurity_split=None,\n",
      "                      min_samples_leaf=1, min_samples_split=2,\n",
      "                      min_weight_fraction_leaf=0.0, presort='deprecated',\n",
      "                      random_state=None, splitter='best')\n",
      "Training score: 0.9701259562885134\n",
      "Prediction are: [12898. 10577.  5171. ...  4030.  6565. 11447.]\n",
      "\n",
      "r2score is: 0.5966824680124517\n",
      "MSE:38.603435469829776\n",
      "RMSE:2877.3995941141025\n"
     ]
    },
    {
     "data": {
      "image/png": "[encoded data removed]",
      "text/plain": [
       "<Figure size 360x360 with 1 Axes>"
      ]
     },
     "metadata": {
      "needs_background": "light"
     },
     "output_type": "display_data"
    }
   ],
   "source": [
    "predict(DecisionTreeRegressor())"
   ]
  },
  {
   "cell_type": "code",
   "execution_count": 85,
   "id": "89776d5b",
   "metadata": {
    "colab": {
     "base_uri": "https://localhost:8080/",
     "height": 641
    },
    "executionInfo": {
     "elapsed": 1539,
     "status": "ok",
     "timestamp": 1631029253894,
     "user": {
      "displayName": "HANUMAN AGRAWAL",
      "photoUrl": "",
      "userId": "09126690663497139280"
     },
     "user_tz": -330
    },
    "id": "89776d5b",
    "outputId": "b5f96c73-36f7-499c-c90b-ce9ec39ef029"
   },
   "outputs": [
    {
     "name": "stdout",
     "output_type": "stream",
     "text": [
      "Model is: GradientBoostingRegressor(alpha=0.9, ccp_alpha=0.0, criterion='friedman_mse',\n",
      "                          init=None, learning_rate=0.1, loss='ls', max_depth=3,\n",
      "                          max_features=None, max_leaf_nodes=None,\n",
      "                          min_impurity_decrease=0.0, min_impurity_split=None,\n",
      "                          min_samples_leaf=1, min_samples_split=2,\n",
      "                          min_weight_fraction_leaf=0.0, n_estimators=100,\n",
      "                          n_iter_no_change=None, presort='deprecated',\n",
      "                          random_state=None, subsample=1.0, tol=0.0001,\n",
      "                          validation_fraction=0.1, verbose=0, warm_start=False)\n",
      "Training score: 0.7908094392586871\n",
      "Prediction are: [11714.46649074 11311.76233948  6376.87858314 ...  6843.40977342\n",
      "  6944.11214155 11253.32792666]\n",
      "\n",
      "r2score is: 0.7684657432538283\n",
      "MSE:39.40969052888136\n",
      "RMSE:2180.1393600155266\n"
     ]
    },
    {
     "data": {
      "image/png": "[encoded data removed]",
      "text/plain": [
       "<Figure size 360x360 with 1 Axes>"
      ]
     },
     "metadata": {
      "needs_background": "light"
     },
     "output_type": "display_data"
    }
   ],
   "source": [
    "predict(GradientBoostingRegressor())"
   ]
  },
  {
   "cell_type": "code",
   "execution_count": 86,
   "id": "3ec21d34",
   "metadata": {
    "colab": {
     "base_uri": "https://localhost:8080/",
     "height": 607
    },
    "executionInfo": {
     "elapsed": 2375,
     "status": "ok",
     "timestamp": 1631029256252,
     "user": {
      "displayName": "HANUMAN AGRAWAL",
      "photoUrl": "",
      "userId": "09126690663497139280"
     },
     "user_tz": -330
    },
    "id": "3ec21d34",
    "outputId": "1609db59-5062-4d76-800d-00b7147e45be"
   },
   "outputs": [
    {
     "name": "stdout",
     "output_type": "stream",
     "text": [
      "Model is: RandomForestRegressor(bootstrap=True, ccp_alpha=0.0, criterion='mse',\n",
      "                      max_depth=None, max_features='auto', max_leaf_nodes=None,\n",
      "                      max_samples=None, min_impurity_decrease=0.0,\n",
      "                      min_impurity_split=None, min_samples_leaf=1,\n",
      "                      min_samples_split=2, min_weight_fraction_leaf=0.0,\n",
      "                      n_estimators=100, n_jobs=None, oob_score=False,\n",
      "                      random_state=None, verbose=0, warm_start=False)\n",
      "Training score: 0.9541807003488574\n",
      "Prediction are: [12829.15       10881.513       7121.87       ...  4722.85583333\n",
      "  5966.78       10740.96      ]\n",
      "\n",
      "r2score is: 0.7448121998716908\n",
      "MSE:35.38020838202262\n",
      "RMSE:2288.7933425054352\n"
     ]
    },
    {
     "data": {
      "image/png": "[encoded data removed]",
      "text/plain": [
       "<Figure size 360x360 with 1 Axes>"
      ]
     },
     "metadata": {
      "needs_background": "light"
     },
     "output_type": "display_data"
    }
   ],
   "source": [
    "predict(RandomForestRegressor())"
   ]
  },
  {
   "cell_type": "code",
   "execution_count": 87,
   "id": "2d942d26",
   "metadata": {
    "executionInfo": {
     "elapsed": 1236,
     "status": "ok",
     "timestamp": 1631029266882,
     "user": {
      "displayName": "HANUMAN AGRAWAL",
      "photoUrl": "",
      "userId": "09126690663497139280"
     },
     "user_tz": -330
    },
    "id": "2d942d26"
   },
   "outputs": [],
   "source": [
    "from sklearn.model_selection import RandomizedSearchCV"
   ]
  },
  {
   "cell_type": "code",
   "execution_count": 88,
   "id": "f5c91c08",
   "metadata": {
    "executionInfo": {
     "elapsed": 5,
     "status": "ok",
     "timestamp": 1631029267707,
     "user": {
      "displayName": "HANUMAN AGRAWAL",
      "photoUrl": "",
      "userId": "09126690663497139280"
     },
     "user_tz": -330
    },
    "id": "f5c91c08"
   },
   "outputs": [],
   "source": [
    "n_estimators = [int(x) for x in np.linspace(start=80,stop=1500,num=10)]\n",
    "max_features = ['auto','sqrt']\n",
    "max_depth = [int(x) for x in np.linspace(6,45,num=5)]\n",
    "min_sample_split = [2,5,10,15,100]\n",
    "min_sample_leaf= [1,2,5,10]\n",
    "random_grid = {'n_estimators':n_estimators,\n",
    "              'max_features':max_features,\n",
    "              'max_depth':max_depth,\n",
    "              'min_samples_split': min_sample_split,\n",
    "              'min_samples_leaf': min_sample_leaf}"
   ]
  },
  {
   "cell_type": "code",
   "execution_count": 89,
   "id": "77fd0ace",
   "metadata": {
    "colab": {
     "base_uri": "https://localhost:8080/"
    },
    "executionInfo": {
     "elapsed": 195463,
     "status": "ok",
     "timestamp": 1631029467258,
     "user": {
      "displayName": "HANUMAN AGRAWAL",
      "photoUrl": "",
      "userId": "09126690663497139280"
     },
     "user_tz": -330
    },
    "id": "77fd0ace",
    "outputId": "e56b8832-1f58-4890-ed89-2a158f86644d"
   },
   "outputs": [
    {
     "name": "stdout",
     "output_type": "stream",
     "text": [
      "Fitting 3 folds for each of 10 candidates, totalling 30 fits\n",
      "[CV] n_estimators=1500, min_samples_split=100, min_samples_leaf=5, max_features=sqrt, max_depth=15 \n"
     ]
    },
    {
     "name": "stderr",
     "output_type": "stream",
     "text": [
      "[Parallel(n_jobs=1)]: Using backend SequentialBackend with 1 concurrent workers.\n"
     ]
    },
    {
     "name": "stdout",
     "output_type": "stream",
     "text": [
      "[CV]  n_estimators=1500, min_samples_split=100, min_samples_leaf=5, max_features=sqrt, max_depth=15, total=   5.5s\n",
      "[CV] n_estimators=1500, min_samples_split=100, min_samples_leaf=5, max_features=sqrt, max_depth=15 \n"
     ]
    },
    {
     "name": "stderr",
     "output_type": "stream",
     "text": [
      "[Parallel(n_jobs=1)]: Done   1 out of   1 | elapsed:    5.6s remaining:    0.0s\n"
     ]
    },
    {
     "name": "stdout",
     "output_type": "stream",
     "text": [
      "[CV]  n_estimators=1500, min_samples_split=100, min_samples_leaf=5, max_features=sqrt, max_depth=15, total=   5.5s\n",
      "[CV] n_estimators=1500, min_samples_split=100, min_samples_leaf=5, max_features=sqrt, max_depth=15 \n",
      "[CV]  n_estimators=1500, min_samples_split=100, min_samples_leaf=5, max_features=sqrt, max_depth=15, total=   5.5s\n",
      "[CV] n_estimators=1500, min_samples_split=15, min_samples_leaf=1, max_features=sqrt, max_depth=15 \n",
      "[CV]  n_estimators=1500, min_samples_split=15, min_samples_leaf=1, max_features=sqrt, max_depth=15, total=   7.1s\n",
      "[CV] n_estimators=1500, min_samples_split=15, min_samples_leaf=1, max_features=sqrt, max_depth=15 \n",
      "[CV]  n_estimators=1500, min_samples_split=15, min_samples_leaf=1, max_features=sqrt, max_depth=15, total=   7.1s\n",
      "[CV] n_estimators=1500, min_samples_split=15, min_samples_leaf=1, max_features=sqrt, max_depth=15 \n",
      "[CV]  n_estimators=1500, min_samples_split=15, min_samples_leaf=1, max_features=sqrt, max_depth=15, total=   7.2s\n",
      "[CV] n_estimators=711, min_samples_split=10, min_samples_leaf=5, max_features=auto, max_depth=35 \n",
      "[CV]  n_estimators=711, min_samples_split=10, min_samples_leaf=5, max_features=auto, max_depth=35, total=   9.8s\n",
      "[CV] n_estimators=711, min_samples_split=10, min_samples_leaf=5, max_features=auto, max_depth=35 \n",
      "[CV]  n_estimators=711, min_samples_split=10, min_samples_leaf=5, max_features=auto, max_depth=35, total=   9.6s\n",
      "[CV] n_estimators=711, min_samples_split=10, min_samples_leaf=5, max_features=auto, max_depth=35 \n",
      "[CV]  n_estimators=711, min_samples_split=10, min_samples_leaf=5, max_features=auto, max_depth=35, total=   9.9s\n",
      "[CV] n_estimators=237, min_samples_split=2, min_samples_leaf=5, max_features=sqrt, max_depth=45 \n",
      "[CV]  n_estimators=237, min_samples_split=2, min_samples_leaf=5, max_features=sqrt, max_depth=45, total=   1.2s\n",
      "[CV] n_estimators=237, min_samples_split=2, min_samples_leaf=5, max_features=sqrt, max_depth=45 \n",
      "[CV]  n_estimators=237, min_samples_split=2, min_samples_leaf=5, max_features=sqrt, max_depth=45, total=   1.2s\n",
      "[CV] n_estimators=237, min_samples_split=2, min_samples_leaf=5, max_features=sqrt, max_depth=45 \n",
      "[CV]  n_estimators=237, min_samples_split=2, min_samples_leaf=5, max_features=sqrt, max_depth=45, total=   1.2s\n",
      "[CV] n_estimators=1500, min_samples_split=5, min_samples_leaf=1, max_features=sqrt, max_depth=25 \n",
      "[CV]  n_estimators=1500, min_samples_split=5, min_samples_leaf=1, max_features=sqrt, max_depth=25, total=   9.4s\n",
      "[CV] n_estimators=1500, min_samples_split=5, min_samples_leaf=1, max_features=sqrt, max_depth=25 \n",
      "[CV]  n_estimators=1500, min_samples_split=5, min_samples_leaf=1, max_features=sqrt, max_depth=25, total=   9.3s\n",
      "[CV] n_estimators=1500, min_samples_split=5, min_samples_leaf=1, max_features=sqrt, max_depth=25 \n",
      "[CV]  n_estimators=1500, min_samples_split=5, min_samples_leaf=1, max_features=sqrt, max_depth=25, total=   9.4s\n",
      "[CV] n_estimators=711, min_samples_split=5, min_samples_leaf=2, max_features=auto, max_depth=6 \n",
      "[CV]  n_estimators=711, min_samples_split=5, min_samples_leaf=2, max_features=auto, max_depth=6, total=   5.7s\n",
      "[CV] n_estimators=711, min_samples_split=5, min_samples_leaf=2, max_features=auto, max_depth=6 \n",
      "[CV]  n_estimators=711, min_samples_split=5, min_samples_leaf=2, max_features=auto, max_depth=6, total=   5.7s\n",
      "[CV] n_estimators=711, min_samples_split=5, min_samples_leaf=2, max_features=auto, max_depth=6 \n",
      "[CV]  n_estimators=711, min_samples_split=5, min_samples_leaf=2, max_features=auto, max_depth=6, total=   5.6s\n",
      "[CV] n_estimators=868, min_samples_split=2, min_samples_leaf=2, max_features=sqrt, max_depth=25 \n",
      "[CV]  n_estimators=868, min_samples_split=2, min_samples_leaf=2, max_features=sqrt, max_depth=25, total=   5.2s\n",
      "[CV] n_estimators=868, min_samples_split=2, min_samples_leaf=2, max_features=sqrt, max_depth=25 \n",
      "[CV]  n_estimators=868, min_samples_split=2, min_samples_leaf=2, max_features=sqrt, max_depth=25, total=   5.2s\n",
      "[CV] n_estimators=868, min_samples_split=2, min_samples_leaf=2, max_features=sqrt, max_depth=25 \n",
      "[CV]  n_estimators=868, min_samples_split=2, min_samples_leaf=2, max_features=sqrt, max_depth=25, total=   5.3s\n",
      "[CV] n_estimators=395, min_samples_split=10, min_samples_leaf=5, max_features=auto, max_depth=15 \n",
      "[CV]  n_estimators=395, min_samples_split=10, min_samples_leaf=5, max_features=auto, max_depth=15, total=   5.4s\n",
      "[CV] n_estimators=395, min_samples_split=10, min_samples_leaf=5, max_features=auto, max_depth=15 \n",
      "[CV]  n_estimators=395, min_samples_split=10, min_samples_leaf=5, max_features=auto, max_depth=15, total=   5.3s\n",
      "[CV] n_estimators=395, min_samples_split=10, min_samples_leaf=5, max_features=auto, max_depth=15 \n",
      "[CV]  n_estimators=395, min_samples_split=10, min_samples_leaf=5, max_features=auto, max_depth=15, total=   5.3s\n",
      "[CV] n_estimators=80, min_samples_split=2, min_samples_leaf=10, max_features=sqrt, max_depth=45 \n",
      "[CV]  n_estimators=80, min_samples_split=2, min_samples_leaf=10, max_features=sqrt, max_depth=45, total=   0.4s\n",
      "[CV] n_estimators=80, min_samples_split=2, min_samples_leaf=10, max_features=sqrt, max_depth=45 \n",
      "[CV]  n_estimators=80, min_samples_split=2, min_samples_leaf=10, max_features=sqrt, max_depth=45, total=   0.3s\n",
      "[CV] n_estimators=80, min_samples_split=2, min_samples_leaf=10, max_features=sqrt, max_depth=45 \n",
      "[CV]  n_estimators=80, min_samples_split=2, min_samples_leaf=10, max_features=sqrt, max_depth=45, total=   0.4s\n",
      "[CV] n_estimators=1342, min_samples_split=5, min_samples_leaf=1, max_features=auto, max_depth=6 \n",
      "[CV]  n_estimators=1342, min_samples_split=5, min_samples_leaf=1, max_features=auto, max_depth=6, total=  10.6s\n",
      "[CV] n_estimators=1342, min_samples_split=5, min_samples_leaf=1, max_features=auto, max_depth=6 \n",
      "[CV]  n_estimators=1342, min_samples_split=5, min_samples_leaf=1, max_features=auto, max_depth=6, total=  10.6s\n",
      "[CV] n_estimators=1342, min_samples_split=5, min_samples_leaf=1, max_features=auto, max_depth=6 \n",
      "[CV]  n_estimators=1342, min_samples_split=5, min_samples_leaf=1, max_features=auto, max_depth=6, total=  10.7s\n"
     ]
    },
    {
     "name": "stderr",
     "output_type": "stream",
     "text": [
      "[Parallel(n_jobs=1)]: Done  30 out of  30 | elapsed:  3.0min finished\n"
     ]
    },
    {
     "data": {
      "text/plain": [
       "{'max_depth': 25,\n",
       " 'max_features': 'sqrt',\n",
       " 'min_samples_leaf': 1,\n",
       " 'min_samples_split': 5,\n",
       " 'n_estimators': 1500}"
      ]
     },
     "execution_count": 89,
     "metadata": {},
     "output_type": "execute_result"
    }
   ],
   "source": [
    "rf = RandomForestRegressor()\n",
    "rf_random = RandomizedSearchCV(estimator=rf,param_distributions=random_grid,n_iter=10,n_jobs=1,scoring=\"neg_mean_squared_error\",cv=3,verbose=2)\n",
    "\n",
    "rf_random.fit(x_train,y_train)\n",
    "rf_random.best_params_"
   ]
  },
  {
   "cell_type": "code",
   "execution_count": 90,
   "id": "a3c2208f",
   "metadata": {
    "executionInfo": {
     "elapsed": 12959,
     "status": "ok",
     "timestamp": 1631029501168,
     "user": {
      "displayName": "HANUMAN AGRAWAL",
      "photoUrl": "",
      "userId": "09126690663497139280"
     },
     "user_tz": -330
    },
    "id": "a3c2208f"
   },
   "outputs": [],
   "source": [
    "prediction = rf_random.predict(x_test)"
   ]
  },
  {
   "cell_type": "code",
   "execution_count": 91,
   "id": "f12bc36d",
   "metadata": {
    "colab": {
     "base_uri": "https://localhost:8080/"
    },
    "executionInfo": {
     "elapsed": 14,
     "status": "ok",
     "timestamp": 1631029501169,
     "user": {
      "displayName": "HANUMAN AGRAWAL",
      "photoUrl": "",
      "userId": "09126690663497139280"
     },
     "user_tz": -330
    },
    "id": "f12bc36d",
    "outputId": "754d53ba-5179-401e-da10-485081916ba0"
   },
   "outputs": [
    {
     "data": {
      "text/plain": [
       "0.8073098634064051"
      ]
     },
     "execution_count": 91,
     "metadata": {},
     "output_type": "execute_result"
    }
   ],
   "source": [
    "r2_score(y_test,prediction)"
   ]
  },
  {
   "cell_type": "code",
   "execution_count": 90,
   "id": "a24b11cb",
   "metadata": {
    "colab": {
     "base_uri": "https://localhost:8080/"
    },
    "executionInfo": {
     "elapsed": 3891,
     "status": "ok",
     "timestamp": 1631029881125,
     "user": {
      "displayName": "HANUMAN AGRAWAL",
      "photoUrl": "",
      "userId": "09126690663497139280"
     },
     "user_tz": -330
    },
    "id": "a24b11cb",
    "outputId": "55ebdd38-0c0f-49e3-a0d7-f366a38b4ce9"
   },
   "outputs": [
    {
     "name": "stdout",
     "output_type": "stream",
     "text": [
      "Requirement already satisfied: catboost in /home/hanu/anaconda3/lib/python3.8/site-packages (0.26.1)\n",
      "Requirement already satisfied: plotly in /home/hanu/anaconda3/lib/python3.8/site-packages (from catboost) (5.3.1)\n",
      "Requirement already satisfied: graphviz in /home/hanu/anaconda3/lib/python3.8/site-packages (from catboost) (0.17)\n",
      "Requirement already satisfied: pandas>=0.24.0 in /home/hanu/anaconda3/lib/python3.8/site-packages (from catboost) (1.2.4)\n",
      "Requirement already satisfied: scipy in /home/hanu/anaconda3/lib/python3.8/site-packages (from catboost) (1.6.2)\n",
      "Requirement already satisfied: six in /home/hanu/anaconda3/lib/python3.8/site-packages (from catboost) (1.15.0)\n",
      "Requirement already satisfied: matplotlib in /home/hanu/anaconda3/lib/python3.8/site-packages (from catboost) (3.3.4)\n",
      "Requirement already satisfied: numpy>=1.16.0 in /home/hanu/anaconda3/lib/python3.8/site-packages (from catboost) (1.19.5)\n",
      "Requirement already satisfied: python-dateutil>=2.7.3 in /home/hanu/anaconda3/lib/python3.8/site-packages (from pandas>=0.24.0->catboost) (2.8.1)\n",
      "Requirement already satisfied: pytz>=2017.3 in /home/hanu/anaconda3/lib/python3.8/site-packages (from pandas>=0.24.0->catboost) (2021.1)\n",
      "Requirement already satisfied: cycler>=0.10 in /home/hanu/anaconda3/lib/python3.8/site-packages (from matplotlib->catboost) (0.10.0)\n",
      "Requirement already satisfied: pyparsing!=2.0.4,!=2.1.2,!=2.1.6,>=2.0.3 in /home/hanu/anaconda3/lib/python3.8/site-packages (from matplotlib->catboost) (2.4.7)\n",
      "Requirement already satisfied: pillow>=6.2.0 in /home/hanu/anaconda3/lib/python3.8/site-packages (from matplotlib->catboost) (8.2.0)\n",
      "Requirement already satisfied: kiwisolver>=1.0.1 in /home/hanu/anaconda3/lib/python3.8/site-packages (from matplotlib->catboost) (1.3.1)\n",
      "Requirement already satisfied: tenacity>=6.2.0 in /home/hanu/anaconda3/lib/python3.8/site-packages (from plotly->catboost) (8.0.1)\n"
     ]
    }
   ],
   "source": [
    "!pip install catboost"
   ]
  },
  {
   "cell_type": "code",
   "execution_count": 91,
   "id": "2aU-reds733u",
   "metadata": {
    "colab": {
     "base_uri": "https://localhost:8080/"
    },
    "executionInfo": {
     "elapsed": 21,
     "status": "ok",
     "timestamp": 1631029732282,
     "user": {
      "displayName": "HANUMAN AGRAWAL",
      "photoUrl": "",
      "userId": "09126690663497139280"
     },
     "user_tz": -330
    },
    "id": "2aU-reds733u",
    "outputId": "9fffe71a-ee09-4bb4-e9d4-d660f8867c2d"
   },
   "outputs": [
    {
     "name": "stdout",
     "output_type": "stream",
     "text": [
      "Learning rate set to 0.05718\n",
      "0:\tlearn: 4467.8519027\ttotal: 53ms\tremaining: 52.9s\n",
      "1:\tlearn: 4315.6721031\ttotal: 57.5ms\tremaining: 28.7s\n",
      "2:\tlearn: 4177.4713803\ttotal: 60.4ms\tremaining: 20.1s\n",
      "3:\tlearn: 4051.3035648\ttotal: 63.1ms\tremaining: 15.7s\n",
      "4:\tlearn: 3931.1236964\ttotal: 66.2ms\tremaining: 13.2s\n",
      "5:\tlearn: 3815.9596395\ttotal: 69ms\tremaining: 11.4s\n",
      "6:\tlearn: 3705.9513959\ttotal: 71.7ms\tremaining: 10.2s\n",
      "7:\tlearn: 3609.4311403\ttotal: 74.1ms\tremaining: 9.19s\n",
      "8:\tlearn: 3521.2798699\ttotal: 76.9ms\tremaining: 8.47s\n",
      "9:\tlearn: 3450.3733143\ttotal: 79.2ms\tremaining: 7.84s\n",
      "10:\tlearn: 3370.9024225\ttotal: 81.7ms\tremaining: 7.35s\n",
      "11:\tlearn: 3294.5078578\ttotal: 84.6ms\tremaining: 6.97s\n",
      "12:\tlearn: 3230.5135842\ttotal: 86.9ms\tremaining: 6.6s\n",
      "13:\tlearn: 3161.6350966\ttotal: 89.2ms\tremaining: 6.29s\n",
      "14:\tlearn: 3099.0698396\ttotal: 91.8ms\tremaining: 6.03s\n",
      "15:\tlearn: 3041.1034843\ttotal: 94.1ms\tremaining: 5.79s\n",
      "16:\tlearn: 2992.2934963\ttotal: 96ms\tremaining: 5.55s\n",
      "17:\tlearn: 2946.9953968\ttotal: 98ms\tremaining: 5.35s\n",
      "18:\tlearn: 2903.7826245\ttotal: 100ms\tremaining: 5.17s\n",
      "19:\tlearn: 2870.0662259\ttotal: 103ms\tremaining: 5.02s\n",
      "20:\tlearn: 2834.1894202\ttotal: 105ms\tremaining: 4.89s\n",
      "21:\tlearn: 2795.5871519\ttotal: 107ms\tremaining: 4.76s\n",
      "22:\tlearn: 2764.0908914\ttotal: 109ms\tremaining: 4.64s\n",
      "23:\tlearn: 2735.5653664\ttotal: 112ms\tremaining: 4.54s\n",
      "24:\tlearn: 2709.0962626\ttotal: 115ms\tremaining: 4.48s\n",
      "25:\tlearn: 2688.7788460\ttotal: 118ms\tremaining: 4.4s\n",
      "26:\tlearn: 2664.1018934\ttotal: 120ms\tremaining: 4.32s\n",
      "27:\tlearn: 2639.5952883\ttotal: 122ms\tremaining: 4.23s\n",
      "28:\tlearn: 2618.7114876\ttotal: 124ms\tremaining: 4.16s\n",
      "29:\tlearn: 2600.0253470\ttotal: 126ms\tremaining: 4.09s\n",
      "30:\tlearn: 2581.2529224\ttotal: 129ms\tremaining: 4.02s\n",
      "31:\tlearn: 2561.7314304\ttotal: 131ms\tremaining: 3.96s\n",
      "32:\tlearn: 2544.1998375\ttotal: 133ms\tremaining: 3.9s\n",
      "33:\tlearn: 2532.9065641\ttotal: 136ms\tremaining: 3.85s\n",
      "34:\tlearn: 2521.9703758\ttotal: 138ms\tremaining: 3.81s\n",
      "35:\tlearn: 2509.9776734\ttotal: 140ms\tremaining: 3.76s\n",
      "36:\tlearn: 2498.0038679\ttotal: 142ms\tremaining: 3.71s\n",
      "37:\tlearn: 2483.7785180\ttotal: 145ms\tremaining: 3.66s\n",
      "38:\tlearn: 2468.4092922\ttotal: 147ms\tremaining: 3.62s\n",
      "39:\tlearn: 2455.5274431\ttotal: 149ms\tremaining: 3.58s\n",
      "40:\tlearn: 2444.2981695\ttotal: 151ms\tremaining: 3.54s\n",
      "41:\tlearn: 2433.4744715\ttotal: 153ms\tremaining: 3.5s\n",
      "42:\tlearn: 2425.5184421\ttotal: 156ms\tremaining: 3.46s\n",
      "43:\tlearn: 2415.3694150\ttotal: 158ms\tremaining: 3.44s\n",
      "44:\tlearn: 2408.4522218\ttotal: 160ms\tremaining: 3.4s\n",
      "45:\tlearn: 2396.7119215\ttotal: 163ms\tremaining: 3.37s\n",
      "46:\tlearn: 2387.2080599\ttotal: 165ms\tremaining: 3.34s\n",
      "47:\tlearn: 2381.6627377\ttotal: 167ms\tremaining: 3.31s\n",
      "48:\tlearn: 2373.1235689\ttotal: 169ms\tremaining: 3.29s\n",
      "49:\tlearn: 2364.1174325\ttotal: 172ms\tremaining: 3.27s\n",
      "50:\tlearn: 2354.8681758\ttotal: 174ms\tremaining: 3.24s\n",
      "51:\tlearn: 2349.3185675\ttotal: 177ms\tremaining: 3.22s\n",
      "52:\tlearn: 2346.3046128\ttotal: 178ms\tremaining: 3.19s\n",
      "53:\tlearn: 2338.2120802\ttotal: 181ms\tremaining: 3.17s\n",
      "54:\tlearn: 2330.9203571\ttotal: 184ms\tremaining: 3.16s\n",
      "55:\tlearn: 2326.2748148\ttotal: 187ms\tremaining: 3.15s\n",
      "56:\tlearn: 2322.0203249\ttotal: 189ms\tremaining: 3.13s\n",
      "57:\tlearn: 2315.9382031\ttotal: 191ms\tremaining: 3.1s\n",
      "58:\tlearn: 2307.0547175\ttotal: 194ms\tremaining: 3.09s\n",
      "59:\tlearn: 2301.1103696\ttotal: 197ms\tremaining: 3.08s\n",
      "60:\tlearn: 2297.3671967\ttotal: 200ms\tremaining: 3.07s\n",
      "61:\tlearn: 2293.5814985\ttotal: 202ms\tremaining: 3.06s\n",
      "62:\tlearn: 2288.0671233\ttotal: 204ms\tremaining: 3.03s\n",
      "63:\tlearn: 2279.4997993\ttotal: 208ms\tremaining: 3.04s\n",
      "64:\tlearn: 2271.9880944\ttotal: 212ms\tremaining: 3.05s\n",
      "65:\tlearn: 2267.4678880\ttotal: 214ms\tremaining: 3.03s\n",
      "66:\tlearn: 2264.1743396\ttotal: 216ms\tremaining: 3.01s\n",
      "67:\tlearn: 2260.7505432\ttotal: 219ms\tremaining: 3s\n",
      "68:\tlearn: 2253.4531092\ttotal: 222ms\tremaining: 2.99s\n",
      "69:\tlearn: 2248.4434147\ttotal: 224ms\tremaining: 2.98s\n",
      "70:\tlearn: 2244.8854906\ttotal: 226ms\tremaining: 2.96s\n",
      "71:\tlearn: 2240.5674924\ttotal: 228ms\tremaining: 2.94s\n",
      "72:\tlearn: 2236.3992089\ttotal: 231ms\tremaining: 2.93s\n",
      "73:\tlearn: 2230.6033485\ttotal: 233ms\tremaining: 2.92s\n",
      "74:\tlearn: 2225.9393126\ttotal: 235ms\tremaining: 2.9s\n",
      "75:\tlearn: 2221.9754544\ttotal: 238ms\tremaining: 2.89s\n",
      "76:\tlearn: 2217.8083491\ttotal: 240ms\tremaining: 2.88s\n",
      "77:\tlearn: 2215.1348150\ttotal: 243ms\tremaining: 2.87s\n",
      "78:\tlearn: 2212.5905907\ttotal: 245ms\tremaining: 2.85s\n",
      "79:\tlearn: 2208.4116856\ttotal: 247ms\tremaining: 2.84s\n",
      "80:\tlearn: 2207.1957239\ttotal: 249ms\tremaining: 2.83s\n",
      "81:\tlearn: 2205.0515422\ttotal: 251ms\tremaining: 2.81s\n",
      "82:\tlearn: 2199.5721566\ttotal: 253ms\tremaining: 2.8s\n",
      "83:\tlearn: 2195.2897480\ttotal: 255ms\tremaining: 2.78s\n",
      "84:\tlearn: 2193.2389576\ttotal: 257ms\tremaining: 2.77s\n",
      "85:\tlearn: 2187.5623140\ttotal: 259ms\tremaining: 2.76s\n",
      "86:\tlearn: 2185.7392582\ttotal: 262ms\tremaining: 2.75s\n",
      "87:\tlearn: 2181.3176220\ttotal: 265ms\tremaining: 2.75s\n",
      "88:\tlearn: 2178.9417092\ttotal: 267ms\tremaining: 2.73s\n",
      "89:\tlearn: 2175.5520682\ttotal: 270ms\tremaining: 2.73s\n",
      "90:\tlearn: 2170.5771164\ttotal: 274ms\tremaining: 2.73s\n",
      "91:\tlearn: 2168.1520809\ttotal: 277ms\tremaining: 2.73s\n",
      "92:\tlearn: 2163.0856304\ttotal: 279ms\tremaining: 2.73s\n",
      "93:\tlearn: 2158.4483951\ttotal: 282ms\tremaining: 2.72s\n",
      "94:\tlearn: 2155.9931287\ttotal: 285ms\tremaining: 2.71s\n",
      "95:\tlearn: 2152.1710236\ttotal: 287ms\tremaining: 2.7s\n",
      "96:\tlearn: 2149.9649289\ttotal: 290ms\tremaining: 2.7s\n",
      "97:\tlearn: 2146.8758647\ttotal: 293ms\tremaining: 2.7s\n",
      "98:\tlearn: 2144.8559673\ttotal: 296ms\tremaining: 2.69s\n",
      "99:\tlearn: 2140.4276082\ttotal: 299ms\tremaining: 2.69s\n",
      "100:\tlearn: 2135.5299361\ttotal: 301ms\tremaining: 2.68s\n",
      "101:\tlearn: 2131.4980921\ttotal: 304ms\tremaining: 2.67s\n",
      "102:\tlearn: 2126.4068252\ttotal: 306ms\tremaining: 2.66s\n",
      "103:\tlearn: 2119.5764589\ttotal: 308ms\tremaining: 2.65s\n",
      "104:\tlearn: 2117.5584365\ttotal: 311ms\tremaining: 2.65s\n",
      "105:\tlearn: 2115.3540726\ttotal: 313ms\tremaining: 2.64s\n",
      "106:\tlearn: 2109.6033665\ttotal: 316ms\tremaining: 2.63s\n",
      "107:\tlearn: 2107.7546882\ttotal: 318ms\tremaining: 2.63s\n",
      "108:\tlearn: 2104.2427259\ttotal: 321ms\tremaining: 2.62s\n",
      "109:\tlearn: 2101.5909356\ttotal: 324ms\tremaining: 2.62s\n",
      "110:\tlearn: 2096.9694197\ttotal: 326ms\tremaining: 2.61s\n",
      "111:\tlearn: 2093.4381390\ttotal: 330ms\tremaining: 2.61s\n",
      "112:\tlearn: 2091.0146292\ttotal: 333ms\tremaining: 2.61s\n",
      "113:\tlearn: 2089.3694210\ttotal: 336ms\tremaining: 2.61s\n",
      "114:\tlearn: 2086.1620656\ttotal: 338ms\tremaining: 2.6s\n",
      "115:\tlearn: 2084.2819252\ttotal: 341ms\tremaining: 2.6s\n",
      "116:\tlearn: 2081.1619774\ttotal: 343ms\tremaining: 2.59s\n",
      "117:\tlearn: 2078.2480608\ttotal: 346ms\tremaining: 2.58s\n",
      "118:\tlearn: 2075.5254066\ttotal: 348ms\tremaining: 2.57s\n",
      "119:\tlearn: 2072.2716351\ttotal: 350ms\tremaining: 2.56s\n",
      "120:\tlearn: 2069.0812539\ttotal: 353ms\tremaining: 2.56s\n",
      "121:\tlearn: 2064.6282298\ttotal: 355ms\tremaining: 2.56s\n",
      "122:\tlearn: 2064.2056701\ttotal: 358ms\tremaining: 2.55s\n",
      "123:\tlearn: 2061.2270014\ttotal: 360ms\tremaining: 2.54s\n",
      "124:\tlearn: 2058.3342029\ttotal: 362ms\tremaining: 2.54s\n",
      "125:\tlearn: 2053.9481298\ttotal: 365ms\tremaining: 2.53s\n",
      "126:\tlearn: 2052.3423355\ttotal: 367ms\tremaining: 2.52s\n",
      "127:\tlearn: 2051.0316942\ttotal: 370ms\tremaining: 2.52s\n",
      "128:\tlearn: 2048.8305442\ttotal: 372ms\tremaining: 2.51s\n",
      "129:\tlearn: 2046.3484898\ttotal: 375ms\tremaining: 2.51s\n",
      "130:\tlearn: 2043.8746387\ttotal: 378ms\tremaining: 2.5s\n",
      "131:\tlearn: 2038.3813467\ttotal: 380ms\tremaining: 2.5s\n",
      "132:\tlearn: 2035.6949474\ttotal: 382ms\tremaining: 2.49s\n",
      "133:\tlearn: 2032.6012726\ttotal: 385ms\tremaining: 2.48s\n",
      "134:\tlearn: 2030.8167135\ttotal: 387ms\tremaining: 2.48s\n",
      "135:\tlearn: 2029.0172763\ttotal: 389ms\tremaining: 2.47s\n",
      "136:\tlearn: 2026.7393680\ttotal: 392ms\tremaining: 2.47s\n",
      "137:\tlearn: 2023.5553346\ttotal: 394ms\tremaining: 2.46s\n",
      "138:\tlearn: 2021.6806385\ttotal: 396ms\tremaining: 2.46s\n",
      "139:\tlearn: 2018.8763558\ttotal: 399ms\tremaining: 2.45s\n",
      "140:\tlearn: 2016.4019198\ttotal: 401ms\tremaining: 2.44s\n",
      "141:\tlearn: 2013.6216968\ttotal: 404ms\tremaining: 2.44s\n",
      "142:\tlearn: 2012.1074322\ttotal: 406ms\tremaining: 2.44s\n",
      "143:\tlearn: 2009.6743425\ttotal: 410ms\tremaining: 2.44s\n",
      "144:\tlearn: 2008.1302943\ttotal: 413ms\tremaining: 2.43s\n",
      "145:\tlearn: 2006.2637456\ttotal: 415ms\tremaining: 2.43s\n",
      "146:\tlearn: 2004.3646696\ttotal: 418ms\tremaining: 2.42s\n",
      "147:\tlearn: 2001.2362348\ttotal: 420ms\tremaining: 2.42s\n",
      "148:\tlearn: 1999.9502695\ttotal: 423ms\tremaining: 2.42s\n",
      "149:\tlearn: 1998.2650638\ttotal: 425ms\tremaining: 2.41s\n",
      "150:\tlearn: 1996.2573639\ttotal: 428ms\tremaining: 2.4s\n",
      "151:\tlearn: 1993.1934018\ttotal: 430ms\tremaining: 2.4s\n",
      "152:\tlearn: 1990.6187140\ttotal: 432ms\tremaining: 2.39s\n",
      "153:\tlearn: 1988.5635200\ttotal: 436ms\tremaining: 2.39s\n",
      "154:\tlearn: 1987.1573253\ttotal: 439ms\tremaining: 2.39s\n",
      "155:\tlearn: 1985.8523705\ttotal: 442ms\tremaining: 2.39s\n",
      "156:\tlearn: 1982.8817812\ttotal: 446ms\tremaining: 2.4s\n",
      "157:\tlearn: 1978.0802411\ttotal: 450ms\tremaining: 2.4s\n",
      "158:\tlearn: 1975.5633651\ttotal: 454ms\tremaining: 2.4s\n",
      "159:\tlearn: 1973.7453124\ttotal: 459ms\tremaining: 2.41s\n",
      "160:\tlearn: 1971.9929777\ttotal: 462ms\tremaining: 2.41s\n",
      "161:\tlearn: 1968.4839345\ttotal: 465ms\tremaining: 2.4s\n",
      "162:\tlearn: 1963.4952093\ttotal: 467ms\tremaining: 2.4s\n",
      "163:\tlearn: 1960.5696069\ttotal: 469ms\tremaining: 2.39s\n",
      "164:\tlearn: 1958.8773914\ttotal: 471ms\tremaining: 2.38s\n",
      "165:\tlearn: 1957.0223859\ttotal: 473ms\tremaining: 2.38s\n",
      "166:\tlearn: 1954.4567748\ttotal: 475ms\tremaining: 2.37s\n",
      "167:\tlearn: 1952.3672395\ttotal: 477ms\tremaining: 2.36s\n",
      "168:\tlearn: 1949.8741042\ttotal: 479ms\tremaining: 2.35s\n",
      "169:\tlearn: 1947.8660749\ttotal: 481ms\tremaining: 2.35s\n",
      "170:\tlearn: 1945.5475487\ttotal: 483ms\tremaining: 2.34s\n",
      "171:\tlearn: 1941.4174917\ttotal: 485ms\tremaining: 2.34s\n",
      "172:\tlearn: 1940.3662642\ttotal: 487ms\tremaining: 2.33s\n",
      "173:\tlearn: 1938.2539907\ttotal: 489ms\tremaining: 2.32s\n",
      "174:\tlearn: 1937.0033528\ttotal: 492ms\tremaining: 2.32s\n",
      "175:\tlearn: 1932.4466083\ttotal: 494ms\tremaining: 2.31s\n",
      "176:\tlearn: 1931.1212281\ttotal: 496ms\tremaining: 2.3s\n",
      "177:\tlearn: 1928.2917509\ttotal: 498ms\tremaining: 2.3s\n",
      "178:\tlearn: 1926.3358040\ttotal: 500ms\tremaining: 2.29s\n",
      "179:\tlearn: 1925.4774094\ttotal: 502ms\tremaining: 2.29s\n",
      "180:\tlearn: 1923.6396485\ttotal: 504ms\tremaining: 2.28s\n",
      "181:\tlearn: 1922.0716082\ttotal: 506ms\tremaining: 2.27s\n",
      "182:\tlearn: 1921.3035985\ttotal: 508ms\tremaining: 2.27s\n",
      "183:\tlearn: 1919.7969322\ttotal: 511ms\tremaining: 2.26s\n",
      "184:\tlearn: 1917.5402608\ttotal: 512ms\tremaining: 2.26s\n",
      "185:\tlearn: 1913.8680828\ttotal: 514ms\tremaining: 2.25s\n",
      "186:\tlearn: 1911.2259572\ttotal: 516ms\tremaining: 2.24s\n",
      "187:\tlearn: 1909.9775750\ttotal: 518ms\tremaining: 2.24s\n",
      "188:\tlearn: 1907.6560292\ttotal: 520ms\tremaining: 2.23s\n",
      "189:\tlearn: 1905.5646334\ttotal: 521ms\tremaining: 2.22s\n",
      "190:\tlearn: 1904.1482924\ttotal: 523ms\tremaining: 2.21s\n",
      "191:\tlearn: 1900.8685352\ttotal: 525ms\tremaining: 2.21s\n",
      "192:\tlearn: 1898.3647188\ttotal: 527ms\tremaining: 2.2s\n",
      "193:\tlearn: 1895.5832798\ttotal: 528ms\tremaining: 2.19s\n",
      "194:\tlearn: 1893.8366464\ttotal: 530ms\tremaining: 2.19s\n",
      "195:\tlearn: 1892.2460855\ttotal: 532ms\tremaining: 2.18s\n",
      "196:\tlearn: 1891.1602518\ttotal: 534ms\tremaining: 2.18s\n",
      "197:\tlearn: 1890.4754616\ttotal: 536ms\tremaining: 2.17s\n",
      "198:\tlearn: 1889.7243049\ttotal: 538ms\tremaining: 2.16s\n",
      "199:\tlearn: 1889.0039128\ttotal: 539ms\tremaining: 2.16s\n",
      "200:\tlearn: 1886.7838379\ttotal: 541ms\tremaining: 2.15s\n",
      "201:\tlearn: 1884.8241021\ttotal: 543ms\tremaining: 2.15s\n",
      "202:\tlearn: 1881.9326094\ttotal: 545ms\tremaining: 2.14s\n",
      "203:\tlearn: 1880.6717784\ttotal: 547ms\tremaining: 2.13s\n",
      "204:\tlearn: 1878.2424412\ttotal: 549ms\tremaining: 2.13s\n",
      "205:\tlearn: 1877.6236221\ttotal: 551ms\tremaining: 2.12s\n",
      "206:\tlearn: 1875.2660149\ttotal: 553ms\tremaining: 2.12s\n",
      "207:\tlearn: 1874.4102939\ttotal: 554ms\tremaining: 2.11s\n",
      "208:\tlearn: 1873.0284940\ttotal: 556ms\tremaining: 2.1s\n",
      "209:\tlearn: 1870.2670231\ttotal: 558ms\tremaining: 2.1s\n"
     ]
    },
    {
     "name": "stdout",
     "output_type": "stream",
     "text": [
      "210:\tlearn: 1869.8914248\ttotal: 560ms\tremaining: 2.09s\n",
      "211:\tlearn: 1868.6251110\ttotal: 562ms\tremaining: 2.09s\n",
      "212:\tlearn: 1867.3670093\ttotal: 564ms\tremaining: 2.08s\n",
      "213:\tlearn: 1865.3475482\ttotal: 566ms\tremaining: 2.08s\n",
      "214:\tlearn: 1863.6452745\ttotal: 569ms\tremaining: 2.08s\n",
      "215:\tlearn: 1861.5813808\ttotal: 571ms\tremaining: 2.07s\n",
      "216:\tlearn: 1859.1276384\ttotal: 573ms\tremaining: 2.07s\n",
      "217:\tlearn: 1857.3157554\ttotal: 575ms\tremaining: 2.06s\n",
      "218:\tlearn: 1856.2372812\ttotal: 577ms\tremaining: 2.06s\n",
      "219:\tlearn: 1854.6117923\ttotal: 581ms\tremaining: 2.06s\n",
      "220:\tlearn: 1852.6004470\ttotal: 583ms\tremaining: 2.06s\n",
      "221:\tlearn: 1852.3621978\ttotal: 585ms\tremaining: 2.05s\n",
      "222:\tlearn: 1849.8489584\ttotal: 587ms\tremaining: 2.05s\n",
      "223:\tlearn: 1849.5343079\ttotal: 589ms\tremaining: 2.04s\n",
      "224:\tlearn: 1847.1979625\ttotal: 592ms\tremaining: 2.04s\n",
      "225:\tlearn: 1846.2013336\ttotal: 593ms\tremaining: 2.03s\n",
      "226:\tlearn: 1844.8125381\ttotal: 595ms\tremaining: 2.03s\n",
      "227:\tlearn: 1842.6486633\ttotal: 597ms\tremaining: 2.02s\n",
      "228:\tlearn: 1840.5256188\ttotal: 599ms\tremaining: 2.02s\n",
      "229:\tlearn: 1839.4097618\ttotal: 601ms\tremaining: 2.01s\n",
      "230:\tlearn: 1838.9353632\ttotal: 602ms\tremaining: 2s\n",
      "231:\tlearn: 1836.9098027\ttotal: 605ms\tremaining: 2s\n",
      "232:\tlearn: 1835.5922051\ttotal: 608ms\tremaining: 2s\n",
      "233:\tlearn: 1832.0476919\ttotal: 609ms\tremaining: 1.99s\n",
      "234:\tlearn: 1829.9614526\ttotal: 611ms\tremaining: 1.99s\n",
      "235:\tlearn: 1828.8808121\ttotal: 613ms\tremaining: 1.98s\n",
      "236:\tlearn: 1827.4723425\ttotal: 615ms\tremaining: 1.98s\n",
      "237:\tlearn: 1826.3023565\ttotal: 617ms\tremaining: 1.98s\n",
      "238:\tlearn: 1824.7889724\ttotal: 620ms\tremaining: 1.97s\n",
      "239:\tlearn: 1824.1538665\ttotal: 622ms\tremaining: 1.97s\n",
      "240:\tlearn: 1822.3158863\ttotal: 624ms\tremaining: 1.96s\n",
      "241:\tlearn: 1821.4100257\ttotal: 626ms\tremaining: 1.96s\n",
      "242:\tlearn: 1819.2396588\ttotal: 628ms\tremaining: 1.95s\n",
      "243:\tlearn: 1818.1750361\ttotal: 629ms\tremaining: 1.95s\n",
      "244:\tlearn: 1817.9085220\ttotal: 631ms\tremaining: 1.94s\n",
      "245:\tlearn: 1814.9192581\ttotal: 633ms\tremaining: 1.94s\n",
      "246:\tlearn: 1814.3651810\ttotal: 635ms\tremaining: 1.93s\n",
      "247:\tlearn: 1813.8955751\ttotal: 636ms\tremaining: 1.93s\n",
      "248:\tlearn: 1813.7453143\ttotal: 638ms\tremaining: 1.92s\n",
      "249:\tlearn: 1812.6331015\ttotal: 640ms\tremaining: 1.92s\n",
      "250:\tlearn: 1812.3469938\ttotal: 642ms\tremaining: 1.91s\n",
      "251:\tlearn: 1810.4252754\ttotal: 643ms\tremaining: 1.91s\n",
      "252:\tlearn: 1809.1052140\ttotal: 645ms\tremaining: 1.9s\n",
      "253:\tlearn: 1806.7500481\ttotal: 647ms\tremaining: 1.9s\n",
      "254:\tlearn: 1805.2287862\ttotal: 649ms\tremaining: 1.9s\n",
      "255:\tlearn: 1802.9300134\ttotal: 650ms\tremaining: 1.89s\n",
      "256:\tlearn: 1801.5288019\ttotal: 652ms\tremaining: 1.89s\n",
      "257:\tlearn: 1801.3896750\ttotal: 654ms\tremaining: 1.88s\n",
      "258:\tlearn: 1801.2119647\ttotal: 655ms\tremaining: 1.88s\n",
      "259:\tlearn: 1799.1845355\ttotal: 657ms\tremaining: 1.87s\n",
      "260:\tlearn: 1797.6691377\ttotal: 659ms\tremaining: 1.86s\n",
      "261:\tlearn: 1796.8451123\ttotal: 661ms\tremaining: 1.86s\n",
      "262:\tlearn: 1795.9259852\ttotal: 662ms\tremaining: 1.85s\n",
      "263:\tlearn: 1794.9241759\ttotal: 664ms\tremaining: 1.85s\n",
      "264:\tlearn: 1793.7130288\ttotal: 665ms\tremaining: 1.84s\n",
      "265:\tlearn: 1792.9804392\ttotal: 667ms\tremaining: 1.84s\n",
      "266:\tlearn: 1791.9262196\ttotal: 669ms\tremaining: 1.83s\n",
      "267:\tlearn: 1789.4212140\ttotal: 670ms\tremaining: 1.83s\n",
      "268:\tlearn: 1787.8718963\ttotal: 672ms\tremaining: 1.83s\n",
      "269:\tlearn: 1786.5838476\ttotal: 674ms\tremaining: 1.82s\n",
      "270:\tlearn: 1785.7928369\ttotal: 675ms\tremaining: 1.82s\n",
      "271:\tlearn: 1784.1488232\ttotal: 677ms\tremaining: 1.81s\n",
      "272:\tlearn: 1781.9689686\ttotal: 679ms\tremaining: 1.81s\n",
      "273:\tlearn: 1781.5887817\ttotal: 680ms\tremaining: 1.8s\n",
      "274:\tlearn: 1780.1114385\ttotal: 682ms\tremaining: 1.8s\n",
      "275:\tlearn: 1778.2880767\ttotal: 684ms\tremaining: 1.79s\n",
      "276:\tlearn: 1776.6465773\ttotal: 686ms\tremaining: 1.79s\n",
      "277:\tlearn: 1775.0839877\ttotal: 687ms\tremaining: 1.78s\n",
      "278:\tlearn: 1773.6108479\ttotal: 689ms\tremaining: 1.78s\n",
      "279:\tlearn: 1772.4338248\ttotal: 691ms\tremaining: 1.78s\n",
      "280:\tlearn: 1771.5292773\ttotal: 693ms\tremaining: 1.77s\n",
      "281:\tlearn: 1770.8440364\ttotal: 694ms\tremaining: 1.77s\n",
      "282:\tlearn: 1770.7208225\ttotal: 696ms\tremaining: 1.76s\n",
      "283:\tlearn: 1770.0971838\ttotal: 698ms\tremaining: 1.76s\n",
      "284:\tlearn: 1768.6818640\ttotal: 700ms\tremaining: 1.75s\n",
      "285:\tlearn: 1767.2972142\ttotal: 701ms\tremaining: 1.75s\n",
      "286:\tlearn: 1765.8159621\ttotal: 703ms\tremaining: 1.75s\n",
      "287:\tlearn: 1764.2548929\ttotal: 705ms\tremaining: 1.74s\n",
      "288:\tlearn: 1762.8660356\ttotal: 707ms\tremaining: 1.74s\n",
      "289:\tlearn: 1762.3333207\ttotal: 709ms\tremaining: 1.74s\n",
      "290:\tlearn: 1760.6306877\ttotal: 711ms\tremaining: 1.73s\n",
      "291:\tlearn: 1759.4019665\ttotal: 713ms\tremaining: 1.73s\n",
      "292:\tlearn: 1758.2821134\ttotal: 715ms\tremaining: 1.73s\n",
      "293:\tlearn: 1754.8860907\ttotal: 717ms\tremaining: 1.72s\n",
      "294:\tlearn: 1754.2937318\ttotal: 718ms\tremaining: 1.72s\n",
      "295:\tlearn: 1754.1764966\ttotal: 720ms\tremaining: 1.71s\n",
      "296:\tlearn: 1750.8754321\ttotal: 721ms\tremaining: 1.71s\n",
      "297:\tlearn: 1749.7104623\ttotal: 723ms\tremaining: 1.7s\n",
      "298:\tlearn: 1748.1260862\ttotal: 725ms\tremaining: 1.7s\n",
      "299:\tlearn: 1746.7989321\ttotal: 726ms\tremaining: 1.7s\n",
      "300:\tlearn: 1745.8978464\ttotal: 728ms\tremaining: 1.69s\n",
      "301:\tlearn: 1744.4347836\ttotal: 730ms\tremaining: 1.69s\n",
      "302:\tlearn: 1743.0731391\ttotal: 732ms\tremaining: 1.68s\n",
      "303:\tlearn: 1742.7063697\ttotal: 733ms\tremaining: 1.68s\n",
      "304:\tlearn: 1741.3211275\ttotal: 735ms\tremaining: 1.68s\n",
      "305:\tlearn: 1740.7215638\ttotal: 737ms\tremaining: 1.67s\n",
      "306:\tlearn: 1737.6763911\ttotal: 739ms\tremaining: 1.67s\n",
      "307:\tlearn: 1736.8032880\ttotal: 741ms\tremaining: 1.66s\n",
      "308:\tlearn: 1735.3086812\ttotal: 742ms\tremaining: 1.66s\n",
      "309:\tlearn: 1732.8778379\ttotal: 744ms\tremaining: 1.66s\n",
      "310:\tlearn: 1732.7660312\ttotal: 746ms\tremaining: 1.65s\n",
      "311:\tlearn: 1731.2113887\ttotal: 748ms\tremaining: 1.65s\n",
      "312:\tlearn: 1729.7084267\ttotal: 750ms\tremaining: 1.65s\n",
      "313:\tlearn: 1728.5577719\ttotal: 751ms\tremaining: 1.64s\n",
      "314:\tlearn: 1727.4349883\ttotal: 753ms\tremaining: 1.64s\n",
      "315:\tlearn: 1726.2749657\ttotal: 755ms\tremaining: 1.63s\n",
      "316:\tlearn: 1725.0104132\ttotal: 757ms\tremaining: 1.63s\n",
      "317:\tlearn: 1722.4254737\ttotal: 759ms\tremaining: 1.63s\n",
      "318:\tlearn: 1721.0149793\ttotal: 761ms\tremaining: 1.62s\n",
      "319:\tlearn: 1720.1214978\ttotal: 762ms\tremaining: 1.62s\n",
      "320:\tlearn: 1718.7751517\ttotal: 764ms\tremaining: 1.62s\n",
      "321:\tlearn: 1717.1414495\ttotal: 766ms\tremaining: 1.61s\n",
      "322:\tlearn: 1716.0941544\ttotal: 768ms\tremaining: 1.61s\n",
      "323:\tlearn: 1715.9046085\ttotal: 770ms\tremaining: 1.6s\n",
      "324:\tlearn: 1714.7828033\ttotal: 771ms\tremaining: 1.6s\n",
      "325:\tlearn: 1713.4636669\ttotal: 773ms\tremaining: 1.6s\n",
      "326:\tlearn: 1711.9193568\ttotal: 775ms\tremaining: 1.59s\n",
      "327:\tlearn: 1710.5919576\ttotal: 777ms\tremaining: 1.59s\n",
      "328:\tlearn: 1709.3162346\ttotal: 781ms\tremaining: 1.59s\n",
      "329:\tlearn: 1708.5444251\ttotal: 783ms\tremaining: 1.59s\n",
      "330:\tlearn: 1708.3977824\ttotal: 785ms\tremaining: 1.59s\n",
      "331:\tlearn: 1707.1928703\ttotal: 787ms\tremaining: 1.58s\n",
      "332:\tlearn: 1705.7752478\ttotal: 789ms\tremaining: 1.58s\n",
      "333:\tlearn: 1703.2749740\ttotal: 791ms\tremaining: 1.58s\n",
      "334:\tlearn: 1702.6003734\ttotal: 793ms\tremaining: 1.57s\n",
      "335:\tlearn: 1701.5322670\ttotal: 795ms\tremaining: 1.57s\n",
      "336:\tlearn: 1699.7911938\ttotal: 797ms\tremaining: 1.57s\n",
      "337:\tlearn: 1699.5825989\ttotal: 798ms\tremaining: 1.56s\n",
      "338:\tlearn: 1698.8978805\ttotal: 800ms\tremaining: 1.56s\n",
      "339:\tlearn: 1697.8398478\ttotal: 801ms\tremaining: 1.55s\n",
      "340:\tlearn: 1696.8584487\ttotal: 803ms\tremaining: 1.55s\n",
      "341:\tlearn: 1695.8612925\ttotal: 805ms\tremaining: 1.55s\n",
      "342:\tlearn: 1693.6877201\ttotal: 806ms\tremaining: 1.54s\n",
      "343:\tlearn: 1692.3769425\ttotal: 808ms\tremaining: 1.54s\n",
      "344:\tlearn: 1691.4475251\ttotal: 810ms\tremaining: 1.54s\n",
      "345:\tlearn: 1690.1361616\ttotal: 812ms\tremaining: 1.53s\n",
      "346:\tlearn: 1689.1694097\ttotal: 814ms\tremaining: 1.53s\n",
      "347:\tlearn: 1688.4610031\ttotal: 816ms\tremaining: 1.53s\n",
      "348:\tlearn: 1687.1394265\ttotal: 818ms\tremaining: 1.52s\n",
      "349:\tlearn: 1686.5242443\ttotal: 820ms\tremaining: 1.52s\n",
      "350:\tlearn: 1684.2186963\ttotal: 822ms\tremaining: 1.52s\n",
      "351:\tlearn: 1682.4660835\ttotal: 823ms\tremaining: 1.51s\n",
      "352:\tlearn: 1681.2839709\ttotal: 825ms\tremaining: 1.51s\n",
      "353:\tlearn: 1680.4767323\ttotal: 827ms\tremaining: 1.51s\n",
      "354:\tlearn: 1679.4025471\ttotal: 828ms\tremaining: 1.5s\n",
      "355:\tlearn: 1677.8710900\ttotal: 830ms\tremaining: 1.5s\n",
      "356:\tlearn: 1677.4681245\ttotal: 831ms\tremaining: 1.5s\n",
      "357:\tlearn: 1676.3536007\ttotal: 833ms\tremaining: 1.49s\n",
      "358:\tlearn: 1675.2206882\ttotal: 835ms\tremaining: 1.49s\n",
      "359:\tlearn: 1674.6875351\ttotal: 836ms\tremaining: 1.49s\n",
      "360:\tlearn: 1673.5569481\ttotal: 838ms\tremaining: 1.48s\n",
      "361:\tlearn: 1672.6960197\ttotal: 840ms\tremaining: 1.48s\n",
      "362:\tlearn: 1671.8439897\ttotal: 841ms\tremaining: 1.48s\n",
      "363:\tlearn: 1670.9574587\ttotal: 843ms\tremaining: 1.47s\n",
      "364:\tlearn: 1668.8413923\ttotal: 845ms\tremaining: 1.47s\n",
      "365:\tlearn: 1666.8518544\ttotal: 847ms\tremaining: 1.47s\n",
      "366:\tlearn: 1666.1268726\ttotal: 849ms\tremaining: 1.46s\n",
      "367:\tlearn: 1665.7648053\ttotal: 851ms\tremaining: 1.46s\n",
      "368:\tlearn: 1665.6649601\ttotal: 852ms\tremaining: 1.46s\n",
      "369:\tlearn: 1665.4489333\ttotal: 854ms\tremaining: 1.45s\n",
      "370:\tlearn: 1663.5747457\ttotal: 856ms\tremaining: 1.45s\n",
      "371:\tlearn: 1662.6461118\ttotal: 858ms\tremaining: 1.45s\n",
      "372:\tlearn: 1661.6759141\ttotal: 859ms\tremaining: 1.44s\n",
      "373:\tlearn: 1660.5170362\ttotal: 861ms\tremaining: 1.44s\n",
      "374:\tlearn: 1658.7802337\ttotal: 863ms\tremaining: 1.44s\n",
      "375:\tlearn: 1657.6909638\ttotal: 865ms\tremaining: 1.44s\n",
      "376:\tlearn: 1656.8314227\ttotal: 867ms\tremaining: 1.43s\n",
      "377:\tlearn: 1655.5496664\ttotal: 868ms\tremaining: 1.43s\n",
      "378:\tlearn: 1654.1890578\ttotal: 870ms\tremaining: 1.43s\n",
      "379:\tlearn: 1653.1499606\ttotal: 872ms\tremaining: 1.42s\n",
      "380:\tlearn: 1652.4001076\ttotal: 874ms\tremaining: 1.42s\n",
      "381:\tlearn: 1651.0846323\ttotal: 876ms\tremaining: 1.42s\n",
      "382:\tlearn: 1650.2161145\ttotal: 878ms\tremaining: 1.41s\n",
      "383:\tlearn: 1649.5914589\ttotal: 880ms\tremaining: 1.41s\n",
      "384:\tlearn: 1648.4641629\ttotal: 882ms\tremaining: 1.41s\n",
      "385:\tlearn: 1647.4343391\ttotal: 884ms\tremaining: 1.41s\n",
      "386:\tlearn: 1646.4084908\ttotal: 886ms\tremaining: 1.4s\n",
      "387:\tlearn: 1645.2336336\ttotal: 888ms\tremaining: 1.4s\n",
      "388:\tlearn: 1644.1230677\ttotal: 890ms\tremaining: 1.4s\n",
      "389:\tlearn: 1643.4552051\ttotal: 892ms\tremaining: 1.4s\n",
      "390:\tlearn: 1642.8812749\ttotal: 894ms\tremaining: 1.39s\n",
      "391:\tlearn: 1642.8001630\ttotal: 896ms\tremaining: 1.39s\n",
      "392:\tlearn: 1641.6415154\ttotal: 898ms\tremaining: 1.39s\n",
      "393:\tlearn: 1641.1196283\ttotal: 900ms\tremaining: 1.38s\n",
      "394:\tlearn: 1640.1922359\ttotal: 902ms\tremaining: 1.38s\n",
      "395:\tlearn: 1639.1482452\ttotal: 904ms\tremaining: 1.38s\n",
      "396:\tlearn: 1638.2118122\ttotal: 906ms\tremaining: 1.38s\n",
      "397:\tlearn: 1637.4683867\ttotal: 908ms\tremaining: 1.37s\n",
      "398:\tlearn: 1636.3855584\ttotal: 910ms\tremaining: 1.37s\n",
      "399:\tlearn: 1636.2030415\ttotal: 912ms\tremaining: 1.37s\n",
      "400:\tlearn: 1634.8437610\ttotal: 914ms\tremaining: 1.36s\n",
      "401:\tlearn: 1634.6740070\ttotal: 916ms\tremaining: 1.36s\n",
      "402:\tlearn: 1634.1019482\ttotal: 918ms\tremaining: 1.36s\n",
      "403:\tlearn: 1633.0768371\ttotal: 920ms\tremaining: 1.36s\n",
      "404:\tlearn: 1632.4699847\ttotal: 922ms\tremaining: 1.35s\n",
      "405:\tlearn: 1631.8976762\ttotal: 924ms\tremaining: 1.35s\n",
      "406:\tlearn: 1630.9094505\ttotal: 926ms\tremaining: 1.35s\n",
      "407:\tlearn: 1630.1913121\ttotal: 928ms\tremaining: 1.35s\n",
      "408:\tlearn: 1629.5726881\ttotal: 930ms\tremaining: 1.34s\n",
      "409:\tlearn: 1628.4170127\ttotal: 932ms\tremaining: 1.34s\n",
      "410:\tlearn: 1627.5511959\ttotal: 934ms\tremaining: 1.34s\n",
      "411:\tlearn: 1626.3192107\ttotal: 935ms\tremaining: 1.33s\n"
     ]
    },
    {
     "name": "stdout",
     "output_type": "stream",
     "text": [
      "412:\tlearn: 1625.3176250\ttotal: 938ms\tremaining: 1.33s\n",
      "413:\tlearn: 1624.0104370\ttotal: 940ms\tremaining: 1.33s\n",
      "414:\tlearn: 1622.7142113\ttotal: 942ms\tremaining: 1.33s\n",
      "415:\tlearn: 1621.6421356\ttotal: 944ms\tremaining: 1.32s\n",
      "416:\tlearn: 1621.2463963\ttotal: 945ms\tremaining: 1.32s\n",
      "417:\tlearn: 1619.9722163\ttotal: 948ms\tremaining: 1.32s\n",
      "418:\tlearn: 1619.1554149\ttotal: 950ms\tremaining: 1.32s\n",
      "419:\tlearn: 1617.9678109\ttotal: 952ms\tremaining: 1.31s\n",
      "420:\tlearn: 1617.2961257\ttotal: 954ms\tremaining: 1.31s\n",
      "421:\tlearn: 1616.4774004\ttotal: 958ms\tremaining: 1.31s\n",
      "422:\tlearn: 1615.9259857\ttotal: 960ms\tremaining: 1.31s\n",
      "423:\tlearn: 1615.1394073\ttotal: 962ms\tremaining: 1.31s\n",
      "424:\tlearn: 1614.1129506\ttotal: 966ms\tremaining: 1.31s\n",
      "425:\tlearn: 1613.6164048\ttotal: 969ms\tremaining: 1.3s\n",
      "426:\tlearn: 1612.7693775\ttotal: 971ms\tremaining: 1.3s\n",
      "427:\tlearn: 1611.9029787\ttotal: 974ms\tremaining: 1.3s\n",
      "428:\tlearn: 1611.3198641\ttotal: 976ms\tremaining: 1.3s\n",
      "429:\tlearn: 1610.6355178\ttotal: 978ms\tremaining: 1.3s\n",
      "430:\tlearn: 1609.0369706\ttotal: 980ms\tremaining: 1.29s\n",
      "431:\tlearn: 1608.2845518\ttotal: 983ms\tremaining: 1.29s\n",
      "432:\tlearn: 1607.4133341\ttotal: 985ms\tremaining: 1.29s\n",
      "433:\tlearn: 1606.3956081\ttotal: 987ms\tremaining: 1.29s\n",
      "434:\tlearn: 1605.4127213\ttotal: 989ms\tremaining: 1.28s\n",
      "435:\tlearn: 1604.9156241\ttotal: 991ms\tremaining: 1.28s\n",
      "436:\tlearn: 1604.3749721\ttotal: 992ms\tremaining: 1.28s\n",
      "437:\tlearn: 1603.6956783\ttotal: 994ms\tremaining: 1.27s\n",
      "438:\tlearn: 1602.7683767\ttotal: 996ms\tremaining: 1.27s\n",
      "439:\tlearn: 1601.4220864\ttotal: 998ms\tremaining: 1.27s\n",
      "440:\tlearn: 1600.3636533\ttotal: 1s\tremaining: 1.27s\n",
      "441:\tlearn: 1599.7814688\ttotal: 1s\tremaining: 1.26s\n",
      "442:\tlearn: 1599.0194377\ttotal: 1s\tremaining: 1.26s\n",
      "443:\tlearn: 1597.9402108\ttotal: 1s\tremaining: 1.26s\n",
      "444:\tlearn: 1597.0661466\ttotal: 1.01s\tremaining: 1.26s\n",
      "445:\tlearn: 1596.6251191\ttotal: 1.01s\tremaining: 1.25s\n",
      "446:\tlearn: 1595.5435258\ttotal: 1.01s\tremaining: 1.25s\n",
      "447:\tlearn: 1595.4698230\ttotal: 1.01s\tremaining: 1.25s\n",
      "448:\tlearn: 1594.8159787\ttotal: 1.01s\tremaining: 1.25s\n",
      "449:\tlearn: 1593.9781552\ttotal: 1.02s\tremaining: 1.24s\n",
      "450:\tlearn: 1592.9972501\ttotal: 1.02s\tremaining: 1.24s\n",
      "451:\tlearn: 1592.4560368\ttotal: 1.02s\tremaining: 1.24s\n",
      "452:\tlearn: 1591.5682552\ttotal: 1.02s\tremaining: 1.24s\n",
      "453:\tlearn: 1590.9408437\ttotal: 1.02s\tremaining: 1.23s\n",
      "454:\tlearn: 1589.9164864\ttotal: 1.03s\tremaining: 1.23s\n",
      "455:\tlearn: 1589.6470174\ttotal: 1.03s\tremaining: 1.23s\n",
      "456:\tlearn: 1588.9541502\ttotal: 1.03s\tremaining: 1.23s\n",
      "457:\tlearn: 1588.4388027\ttotal: 1.03s\tremaining: 1.22s\n",
      "458:\tlearn: 1587.7247085\ttotal: 1.04s\tremaining: 1.23s\n",
      "459:\tlearn: 1587.0496972\ttotal: 1.04s\tremaining: 1.22s\n",
      "460:\tlearn: 1586.4942033\ttotal: 1.05s\tremaining: 1.22s\n",
      "461:\tlearn: 1585.9335160\ttotal: 1.05s\tremaining: 1.22s\n",
      "462:\tlearn: 1585.2538696\ttotal: 1.05s\tremaining: 1.22s\n",
      "463:\tlearn: 1584.5333010\ttotal: 1.06s\tremaining: 1.22s\n",
      "464:\tlearn: 1583.9955689\ttotal: 1.06s\tremaining: 1.22s\n",
      "465:\tlearn: 1583.0663765\ttotal: 1.06s\tremaining: 1.22s\n",
      "466:\tlearn: 1582.5312136\ttotal: 1.06s\tremaining: 1.21s\n",
      "467:\tlearn: 1581.9240104\ttotal: 1.06s\tremaining: 1.21s\n",
      "468:\tlearn: 1581.5531463\ttotal: 1.07s\tremaining: 1.21s\n",
      "469:\tlearn: 1580.7463086\ttotal: 1.07s\tremaining: 1.21s\n",
      "470:\tlearn: 1579.9325602\ttotal: 1.07s\tremaining: 1.21s\n",
      "471:\tlearn: 1579.4665902\ttotal: 1.07s\tremaining: 1.2s\n",
      "472:\tlearn: 1578.6671684\ttotal: 1.08s\tremaining: 1.2s\n",
      "473:\tlearn: 1577.8266639\ttotal: 1.08s\tremaining: 1.2s\n",
      "474:\tlearn: 1576.7679585\ttotal: 1.08s\tremaining: 1.2s\n",
      "475:\tlearn: 1576.0641403\ttotal: 1.08s\tremaining: 1.2s\n",
      "476:\tlearn: 1575.6406988\ttotal: 1.09s\tremaining: 1.19s\n",
      "477:\tlearn: 1574.6310606\ttotal: 1.09s\tremaining: 1.19s\n",
      "478:\tlearn: 1574.3641464\ttotal: 1.09s\tremaining: 1.19s\n",
      "479:\tlearn: 1573.6517560\ttotal: 1.09s\tremaining: 1.19s\n",
      "480:\tlearn: 1573.1405569\ttotal: 1.1s\tremaining: 1.18s\n",
      "481:\tlearn: 1572.4132651\ttotal: 1.1s\tremaining: 1.18s\n",
      "482:\tlearn: 1571.2544602\ttotal: 1.1s\tremaining: 1.18s\n",
      "483:\tlearn: 1570.4564661\ttotal: 1.1s\tremaining: 1.18s\n",
      "484:\tlearn: 1569.6790008\ttotal: 1.11s\tremaining: 1.17s\n",
      "485:\tlearn: 1568.8556455\ttotal: 1.11s\tremaining: 1.17s\n",
      "486:\tlearn: 1567.8564935\ttotal: 1.11s\tremaining: 1.17s\n",
      "487:\tlearn: 1566.9039306\ttotal: 1.11s\tremaining: 1.17s\n",
      "488:\tlearn: 1565.9536867\ttotal: 1.11s\tremaining: 1.17s\n",
      "489:\tlearn: 1565.2364002\ttotal: 1.12s\tremaining: 1.16s\n",
      "490:\tlearn: 1564.8447968\ttotal: 1.12s\tremaining: 1.16s\n",
      "491:\tlearn: 1563.7731461\ttotal: 1.12s\tremaining: 1.16s\n",
      "492:\tlearn: 1563.2010875\ttotal: 1.12s\tremaining: 1.16s\n",
      "493:\tlearn: 1561.8072413\ttotal: 1.13s\tremaining: 1.15s\n",
      "494:\tlearn: 1561.0684192\ttotal: 1.13s\tremaining: 1.15s\n",
      "495:\tlearn: 1560.1226985\ttotal: 1.13s\tremaining: 1.15s\n",
      "496:\tlearn: 1559.6678784\ttotal: 1.13s\tremaining: 1.15s\n",
      "497:\tlearn: 1558.3535695\ttotal: 1.14s\tremaining: 1.15s\n",
      "498:\tlearn: 1557.6543586\ttotal: 1.14s\tremaining: 1.14s\n",
      "499:\tlearn: 1556.8276835\ttotal: 1.15s\tremaining: 1.15s\n",
      "500:\tlearn: 1556.3421756\ttotal: 1.15s\tremaining: 1.14s\n",
      "501:\tlearn: 1555.9375195\ttotal: 1.15s\tremaining: 1.14s\n",
      "502:\tlearn: 1555.0707027\ttotal: 1.15s\tremaining: 1.14s\n",
      "503:\tlearn: 1554.4464866\ttotal: 1.15s\tremaining: 1.14s\n",
      "504:\tlearn: 1553.5581762\ttotal: 1.16s\tremaining: 1.13s\n",
      "505:\tlearn: 1553.4977178\ttotal: 1.16s\tremaining: 1.13s\n",
      "506:\tlearn: 1553.0975626\ttotal: 1.16s\tremaining: 1.13s\n",
      "507:\tlearn: 1552.8491576\ttotal: 1.16s\tremaining: 1.12s\n",
      "508:\tlearn: 1552.0908066\ttotal: 1.16s\tremaining: 1.12s\n",
      "509:\tlearn: 1551.3730085\ttotal: 1.17s\tremaining: 1.12s\n",
      "510:\tlearn: 1550.7728794\ttotal: 1.17s\tremaining: 1.12s\n",
      "511:\tlearn: 1550.5796718\ttotal: 1.17s\tremaining: 1.11s\n",
      "512:\tlearn: 1549.8283204\ttotal: 1.17s\tremaining: 1.11s\n",
      "513:\tlearn: 1549.3871056\ttotal: 1.17s\tremaining: 1.11s\n",
      "514:\tlearn: 1548.5238276\ttotal: 1.18s\tremaining: 1.11s\n",
      "515:\tlearn: 1547.7435333\ttotal: 1.18s\tremaining: 1.1s\n",
      "516:\tlearn: 1546.8719587\ttotal: 1.18s\tremaining: 1.1s\n",
      "517:\tlearn: 1546.2885867\ttotal: 1.18s\tremaining: 1.1s\n",
      "518:\tlearn: 1545.8657606\ttotal: 1.18s\tremaining: 1.1s\n",
      "519:\tlearn: 1545.0058963\ttotal: 1.19s\tremaining: 1.09s\n",
      "520:\tlearn: 1544.6030514\ttotal: 1.19s\tremaining: 1.09s\n",
      "521:\tlearn: 1543.8698875\ttotal: 1.19s\tremaining: 1.09s\n",
      "522:\tlearn: 1543.0501911\ttotal: 1.19s\tremaining: 1.09s\n",
      "523:\tlearn: 1542.8108190\ttotal: 1.2s\tremaining: 1.09s\n",
      "524:\tlearn: 1541.9775897\ttotal: 1.2s\tremaining: 1.09s\n",
      "525:\tlearn: 1541.5321160\ttotal: 1.2s\tremaining: 1.08s\n",
      "526:\tlearn: 1540.6783643\ttotal: 1.21s\tremaining: 1.08s\n",
      "527:\tlearn: 1539.9651996\ttotal: 1.21s\tremaining: 1.08s\n",
      "528:\tlearn: 1539.2238413\ttotal: 1.21s\tremaining: 1.08s\n",
      "529:\tlearn: 1538.9312812\ttotal: 1.21s\tremaining: 1.07s\n",
      "530:\tlearn: 1538.2477945\ttotal: 1.22s\tremaining: 1.07s\n",
      "531:\tlearn: 1537.1298916\ttotal: 1.22s\tremaining: 1.07s\n",
      "532:\tlearn: 1536.3002476\ttotal: 1.22s\tremaining: 1.07s\n",
      "533:\tlearn: 1536.0578689\ttotal: 1.22s\tremaining: 1.07s\n",
      "534:\tlearn: 1535.2410391\ttotal: 1.23s\tremaining: 1.07s\n",
      "535:\tlearn: 1534.6967079\ttotal: 1.23s\tremaining: 1.06s\n",
      "536:\tlearn: 1534.1978305\ttotal: 1.23s\tremaining: 1.06s\n",
      "537:\tlearn: 1533.8350731\ttotal: 1.23s\tremaining: 1.06s\n",
      "538:\tlearn: 1533.0140594\ttotal: 1.24s\tremaining: 1.06s\n",
      "539:\tlearn: 1532.2692491\ttotal: 1.24s\tremaining: 1.06s\n",
      "540:\tlearn: 1530.8579473\ttotal: 1.24s\tremaining: 1.05s\n",
      "541:\tlearn: 1530.5068082\ttotal: 1.25s\tremaining: 1.05s\n",
      "542:\tlearn: 1530.0583089\ttotal: 1.25s\tremaining: 1.05s\n",
      "543:\tlearn: 1529.4406365\ttotal: 1.25s\tremaining: 1.05s\n",
      "544:\tlearn: 1529.0931967\ttotal: 1.25s\tremaining: 1.05s\n",
      "545:\tlearn: 1528.0421052\ttotal: 1.25s\tremaining: 1.04s\n",
      "546:\tlearn: 1527.3805049\ttotal: 1.26s\tremaining: 1.04s\n",
      "547:\tlearn: 1527.3256065\ttotal: 1.26s\tremaining: 1.04s\n",
      "548:\tlearn: 1526.4453771\ttotal: 1.26s\tremaining: 1.04s\n",
      "549:\tlearn: 1525.3321241\ttotal: 1.26s\tremaining: 1.03s\n",
      "550:\tlearn: 1524.5501597\ttotal: 1.27s\tremaining: 1.03s\n",
      "551:\tlearn: 1524.4970166\ttotal: 1.27s\tremaining: 1.03s\n",
      "552:\tlearn: 1524.1117514\ttotal: 1.27s\tremaining: 1.03s\n",
      "553:\tlearn: 1524.0603499\ttotal: 1.27s\tremaining: 1.02s\n",
      "554:\tlearn: 1523.7493760\ttotal: 1.27s\tremaining: 1.02s\n",
      "555:\tlearn: 1523.3278390\ttotal: 1.28s\tremaining: 1.02s\n",
      "556:\tlearn: 1522.9635571\ttotal: 1.28s\tremaining: 1.02s\n",
      "557:\tlearn: 1522.4714959\ttotal: 1.28s\tremaining: 1.01s\n",
      "558:\tlearn: 1521.8065196\ttotal: 1.28s\tremaining: 1.01s\n",
      "559:\tlearn: 1521.2279759\ttotal: 1.29s\tremaining: 1.01s\n",
      "560:\tlearn: 1520.6522555\ttotal: 1.29s\tremaining: 1.01s\n",
      "561:\tlearn: 1519.9215068\ttotal: 1.29s\tremaining: 1s\n",
      "562:\tlearn: 1519.5928831\ttotal: 1.29s\tremaining: 1s\n",
      "563:\tlearn: 1519.5434323\ttotal: 1.29s\tremaining: 1s\n",
      "564:\tlearn: 1519.4957253\ttotal: 1.3s\tremaining: 998ms\n",
      "565:\tlearn: 1518.6505565\ttotal: 1.3s\tremaining: 995ms\n",
      "566:\tlearn: 1518.2404366\ttotal: 1.3s\tremaining: 993ms\n",
      "567:\tlearn: 1517.4838133\ttotal: 1.3s\tremaining: 991ms\n",
      "568:\tlearn: 1516.3568841\ttotal: 1.3s\tremaining: 988ms\n"
     ]
    },
    {
     "name": "stdout",
     "output_type": "stream",
     "text": [
      "569:\tlearn: 1515.2097333\ttotal: 1.31s\tremaining: 986ms\n",
      "570:\tlearn: 1514.8396409\ttotal: 1.31s\tremaining: 984ms\n",
      "571:\tlearn: 1514.3108309\ttotal: 1.31s\tremaining: 982ms\n",
      "572:\tlearn: 1513.5475947\ttotal: 1.31s\tremaining: 980ms\n",
      "573:\tlearn: 1513.5030077\ttotal: 1.32s\tremaining: 977ms\n",
      "574:\tlearn: 1512.9914050\ttotal: 1.32s\tremaining: 975ms\n",
      "575:\tlearn: 1512.3989695\ttotal: 1.32s\tremaining: 972ms\n",
      "576:\tlearn: 1511.8178145\ttotal: 1.32s\tremaining: 970ms\n",
      "577:\tlearn: 1511.1610805\ttotal: 1.32s\tremaining: 968ms\n",
      "578:\tlearn: 1510.8532600\ttotal: 1.33s\tremaining: 966ms\n",
      "579:\tlearn: 1510.4215768\ttotal: 1.33s\tremaining: 963ms\n",
      "580:\tlearn: 1509.6621533\ttotal: 1.33s\tremaining: 961ms\n",
      "581:\tlearn: 1509.4829883\ttotal: 1.33s\tremaining: 958ms\n",
      "582:\tlearn: 1508.8648243\ttotal: 1.34s\tremaining: 956ms\n",
      "583:\tlearn: 1508.3295995\ttotal: 1.34s\tremaining: 954ms\n",
      "584:\tlearn: 1508.0764280\ttotal: 1.34s\tremaining: 951ms\n",
      "585:\tlearn: 1507.2806678\ttotal: 1.34s\tremaining: 949ms\n",
      "586:\tlearn: 1506.5603543\ttotal: 1.34s\tremaining: 947ms\n",
      "587:\tlearn: 1505.8675336\ttotal: 1.35s\tremaining: 944ms\n",
      "588:\tlearn: 1505.3629593\ttotal: 1.35s\tremaining: 942ms\n",
      "589:\tlearn: 1504.6103456\ttotal: 1.35s\tremaining: 939ms\n",
      "590:\tlearn: 1504.1674583\ttotal: 1.35s\tremaining: 937ms\n",
      "591:\tlearn: 1503.7868902\ttotal: 1.35s\tremaining: 934ms\n",
      "592:\tlearn: 1503.7449901\ttotal: 1.36s\tremaining: 932ms\n",
      "593:\tlearn: 1503.7043383\ttotal: 1.36s\tremaining: 929ms\n",
      "594:\tlearn: 1502.9915873\ttotal: 1.36s\tremaining: 927ms\n",
      "595:\tlearn: 1502.3232131\ttotal: 1.36s\tremaining: 924ms\n",
      "596:\tlearn: 1501.6089319\ttotal: 1.37s\tremaining: 922ms\n",
      "597:\tlearn: 1501.0654551\ttotal: 1.37s\tremaining: 920ms\n",
      "598:\tlearn: 1500.3614870\ttotal: 1.37s\tremaining: 917ms\n",
      "599:\tlearn: 1499.8063045\ttotal: 1.37s\tremaining: 915ms\n",
      "600:\tlearn: 1499.4949587\ttotal: 1.37s\tremaining: 913ms\n",
      "601:\tlearn: 1499.4502333\ttotal: 1.38s\tremaining: 910ms\n",
      "602:\tlearn: 1499.3042205\ttotal: 1.38s\tremaining: 907ms\n",
      "603:\tlearn: 1499.0250773\ttotal: 1.38s\tremaining: 905ms\n",
      "604:\tlearn: 1498.4761414\ttotal: 1.38s\tremaining: 903ms\n",
      "605:\tlearn: 1497.9166786\ttotal: 1.38s\tremaining: 900ms\n",
      "606:\tlearn: 1497.8809325\ttotal: 1.39s\tremaining: 898ms\n",
      "607:\tlearn: 1497.6189922\ttotal: 1.39s\tremaining: 895ms\n",
      "608:\tlearn: 1497.1387146\ttotal: 1.39s\tremaining: 893ms\n",
      "609:\tlearn: 1496.7173775\ttotal: 1.39s\tremaining: 890ms\n",
      "610:\tlearn: 1495.7210029\ttotal: 1.39s\tremaining: 888ms\n",
      "611:\tlearn: 1495.0693543\ttotal: 1.4s\tremaining: 885ms\n",
      "612:\tlearn: 1494.6296666\ttotal: 1.4s\tremaining: 883ms\n",
      "613:\tlearn: 1494.4834797\ttotal: 1.4s\tremaining: 880ms\n",
      "614:\tlearn: 1493.9957147\ttotal: 1.4s\tremaining: 878ms\n",
      "615:\tlearn: 1493.3650041\ttotal: 1.4s\tremaining: 876ms\n",
      "616:\tlearn: 1492.6890192\ttotal: 1.41s\tremaining: 873ms\n",
      "617:\tlearn: 1492.4163559\ttotal: 1.41s\tremaining: 871ms\n",
      "618:\tlearn: 1491.8469676\ttotal: 1.41s\tremaining: 869ms\n",
      "619:\tlearn: 1491.6319549\ttotal: 1.41s\tremaining: 866ms\n",
      "620:\tlearn: 1490.8511784\ttotal: 1.42s\tremaining: 864ms\n",
      "621:\tlearn: 1490.3728179\ttotal: 1.42s\tremaining: 861ms\n",
      "622:\tlearn: 1489.9355006\ttotal: 1.42s\tremaining: 859ms\n",
      "623:\tlearn: 1489.3485625\ttotal: 1.42s\tremaining: 856ms\n",
      "624:\tlearn: 1489.0362392\ttotal: 1.42s\tremaining: 854ms\n",
      "625:\tlearn: 1488.9989428\ttotal: 1.42s\tremaining: 851ms\n",
      "626:\tlearn: 1488.2485863\ttotal: 1.43s\tremaining: 849ms\n",
      "627:\tlearn: 1487.9948725\ttotal: 1.43s\tremaining: 846ms\n",
      "628:\tlearn: 1487.4100230\ttotal: 1.43s\tremaining: 844ms\n",
      "629:\tlearn: 1486.8873877\ttotal: 1.43s\tremaining: 841ms\n",
      "630:\tlearn: 1486.4971288\ttotal: 1.43s\tremaining: 839ms\n",
      "631:\tlearn: 1485.7798072\ttotal: 1.44s\tremaining: 837ms\n",
      "632:\tlearn: 1485.0365789\ttotal: 1.44s\tremaining: 834ms\n",
      "633:\tlearn: 1484.6217193\ttotal: 1.44s\tremaining: 832ms\n",
      "634:\tlearn: 1483.6653714\ttotal: 1.44s\tremaining: 829ms\n",
      "635:\tlearn: 1482.9132979\ttotal: 1.44s\tremaining: 827ms\n",
      "636:\tlearn: 1482.3829373\ttotal: 1.45s\tremaining: 824ms\n",
      "637:\tlearn: 1482.3471730\ttotal: 1.45s\tremaining: 822ms\n",
      "638:\tlearn: 1482.3146196\ttotal: 1.45s\tremaining: 819ms\n",
      "639:\tlearn: 1481.8094001\ttotal: 1.45s\tremaining: 817ms\n",
      "640:\tlearn: 1481.4138968\ttotal: 1.45s\tremaining: 814ms\n",
      "641:\tlearn: 1480.8614425\ttotal: 1.46s\tremaining: 812ms\n",
      "642:\tlearn: 1480.6408714\ttotal: 1.46s\tremaining: 810ms\n",
      "643:\tlearn: 1479.8191883\ttotal: 1.46s\tremaining: 807ms\n",
      "644:\tlearn: 1479.2520799\ttotal: 1.46s\tremaining: 805ms\n",
      "645:\tlearn: 1478.6465513\ttotal: 1.46s\tremaining: 802ms\n",
      "646:\tlearn: 1477.8683260\ttotal: 1.47s\tremaining: 800ms\n",
      "647:\tlearn: 1477.2698052\ttotal: 1.47s\tremaining: 797ms\n",
      "648:\tlearn: 1476.6074760\ttotal: 1.47s\tremaining: 795ms\n",
      "649:\tlearn: 1476.1797875\ttotal: 1.47s\tremaining: 792ms\n",
      "650:\tlearn: 1475.6480068\ttotal: 1.47s\tremaining: 790ms\n",
      "651:\tlearn: 1475.3294233\ttotal: 1.48s\tremaining: 787ms\n",
      "652:\tlearn: 1474.8576034\ttotal: 1.48s\tremaining: 785ms\n",
      "653:\tlearn: 1474.6301403\ttotal: 1.48s\tremaining: 782ms\n",
      "654:\tlearn: 1474.0932767\ttotal: 1.48s\tremaining: 780ms\n",
      "655:\tlearn: 1473.5600261\ttotal: 1.48s\tremaining: 778ms\n",
      "656:\tlearn: 1473.1471070\ttotal: 1.48s\tremaining: 775ms\n",
      "657:\tlearn: 1472.5507774\ttotal: 1.49s\tremaining: 773ms\n",
      "658:\tlearn: 1472.1562027\ttotal: 1.49s\tremaining: 770ms\n",
      "659:\tlearn: 1471.5708451\ttotal: 1.49s\tremaining: 768ms\n",
      "660:\tlearn: 1471.2658560\ttotal: 1.49s\tremaining: 766ms\n",
      "661:\tlearn: 1470.6624796\ttotal: 1.5s\tremaining: 764ms\n",
      "662:\tlearn: 1469.7205040\ttotal: 1.5s\tremaining: 762ms\n",
      "663:\tlearn: 1469.5474792\ttotal: 1.5s\tremaining: 759ms\n",
      "664:\tlearn: 1468.8972978\ttotal: 1.5s\tremaining: 757ms\n",
      "665:\tlearn: 1468.6761537\ttotal: 1.5s\tremaining: 755ms\n",
      "666:\tlearn: 1468.2865003\ttotal: 1.51s\tremaining: 753ms\n",
      "667:\tlearn: 1467.8371416\ttotal: 1.51s\tremaining: 750ms\n",
      "668:\tlearn: 1467.2900613\ttotal: 1.51s\tremaining: 748ms\n",
      "669:\tlearn: 1467.0415964\ttotal: 1.51s\tremaining: 745ms\n",
      "670:\tlearn: 1466.2137169\ttotal: 1.51s\tremaining: 743ms\n",
      "671:\tlearn: 1466.0331480\ttotal: 1.52s\tremaining: 741ms\n",
      "672:\tlearn: 1465.6804445\ttotal: 1.52s\tremaining: 738ms\n",
      "673:\tlearn: 1465.0294380\ttotal: 1.52s\tremaining: 736ms\n",
      "674:\tlearn: 1464.5664954\ttotal: 1.52s\tremaining: 734ms\n",
      "675:\tlearn: 1464.1085376\ttotal: 1.52s\tremaining: 731ms\n",
      "676:\tlearn: 1463.7909543\ttotal: 1.53s\tremaining: 729ms\n",
      "677:\tlearn: 1463.1869955\ttotal: 1.53s\tremaining: 727ms\n",
      "678:\tlearn: 1462.5799054\ttotal: 1.53s\tremaining: 725ms\n",
      "679:\tlearn: 1462.1459510\ttotal: 1.53s\tremaining: 722ms\n",
      "680:\tlearn: 1462.0949892\ttotal: 1.54s\tremaining: 720ms\n",
      "681:\tlearn: 1461.7973499\ttotal: 1.54s\tremaining: 717ms\n",
      "682:\tlearn: 1461.2348334\ttotal: 1.54s\tremaining: 715ms\n",
      "683:\tlearn: 1460.6131237\ttotal: 1.54s\tremaining: 713ms\n",
      "684:\tlearn: 1460.4042280\ttotal: 1.54s\tremaining: 710ms\n",
      "685:\tlearn: 1459.7634320\ttotal: 1.54s\tremaining: 708ms\n",
      "686:\tlearn: 1459.1956715\ttotal: 1.55s\tremaining: 705ms\n",
      "687:\tlearn: 1458.9799223\ttotal: 1.55s\tremaining: 703ms\n",
      "688:\tlearn: 1458.5803422\ttotal: 1.55s\tremaining: 700ms\n",
      "689:\tlearn: 1458.2562230\ttotal: 1.55s\tremaining: 698ms\n",
      "690:\tlearn: 1457.7133674\ttotal: 1.55s\tremaining: 695ms\n",
      "691:\tlearn: 1457.3475145\ttotal: 1.56s\tremaining: 693ms\n",
      "692:\tlearn: 1456.8107833\ttotal: 1.56s\tremaining: 691ms\n",
      "693:\tlearn: 1456.2493228\ttotal: 1.56s\tremaining: 688ms\n",
      "694:\tlearn: 1455.8136179\ttotal: 1.56s\tremaining: 686ms\n",
      "695:\tlearn: 1455.6831772\ttotal: 1.56s\tremaining: 683ms\n",
      "696:\tlearn: 1455.3658681\ttotal: 1.57s\tremaining: 681ms\n",
      "697:\tlearn: 1454.8892455\ttotal: 1.57s\tremaining: 678ms\n",
      "698:\tlearn: 1454.3322478\ttotal: 1.57s\tremaining: 676ms\n",
      "699:\tlearn: 1453.9122207\ttotal: 1.57s\tremaining: 674ms\n",
      "700:\tlearn: 1453.2788112\ttotal: 1.57s\tremaining: 671ms\n",
      "701:\tlearn: 1452.8978344\ttotal: 1.57s\tremaining: 669ms\n",
      "702:\tlearn: 1452.7042179\ttotal: 1.58s\tremaining: 666ms\n",
      "703:\tlearn: 1452.2028561\ttotal: 1.58s\tremaining: 664ms\n",
      "704:\tlearn: 1451.7627072\ttotal: 1.58s\tremaining: 662ms\n",
      "705:\tlearn: 1451.3335871\ttotal: 1.58s\tremaining: 659ms\n",
      "706:\tlearn: 1451.2897792\ttotal: 1.58s\tremaining: 657ms\n",
      "707:\tlearn: 1450.8884784\ttotal: 1.59s\tremaining: 654ms\n",
      "708:\tlearn: 1450.4529837\ttotal: 1.59s\tremaining: 652ms\n",
      "709:\tlearn: 1449.5200548\ttotal: 1.59s\tremaining: 649ms\n",
      "710:\tlearn: 1449.1336059\ttotal: 1.59s\tremaining: 647ms\n",
      "711:\tlearn: 1449.0565901\ttotal: 1.59s\tremaining: 645ms\n",
      "712:\tlearn: 1448.6868040\ttotal: 1.59s\tremaining: 642ms\n",
      "713:\tlearn: 1448.0096303\ttotal: 1.6s\tremaining: 640ms\n",
      "714:\tlearn: 1447.4978797\ttotal: 1.6s\tremaining: 638ms\n",
      "715:\tlearn: 1447.2205186\ttotal: 1.6s\tremaining: 635ms\n",
      "716:\tlearn: 1446.9838845\ttotal: 1.6s\tremaining: 633ms\n",
      "717:\tlearn: 1446.6927949\ttotal: 1.6s\tremaining: 630ms\n",
      "718:\tlearn: 1446.3817898\ttotal: 1.61s\tremaining: 628ms\n",
      "719:\tlearn: 1446.0772105\ttotal: 1.61s\tremaining: 626ms\n",
      "720:\tlearn: 1445.4466353\ttotal: 1.61s\tremaining: 623ms\n",
      "721:\tlearn: 1445.2927843\ttotal: 1.61s\tremaining: 621ms\n",
      "722:\tlearn: 1444.7704274\ttotal: 1.61s\tremaining: 618ms\n",
      "723:\tlearn: 1444.4152161\ttotal: 1.61s\tremaining: 616ms\n",
      "724:\tlearn: 1444.0537929\ttotal: 1.62s\tremaining: 613ms\n",
      "725:\tlearn: 1444.0302893\ttotal: 1.62s\tremaining: 611ms\n",
      "726:\tlearn: 1443.2455038\ttotal: 1.62s\tremaining: 609ms\n",
      "727:\tlearn: 1442.6273074\ttotal: 1.62s\tremaining: 606ms\n",
      "728:\tlearn: 1442.2106906\ttotal: 1.63s\tremaining: 604ms\n",
      "729:\tlearn: 1441.6608394\ttotal: 1.63s\tremaining: 602ms\n",
      "730:\tlearn: 1441.4310068\ttotal: 1.63s\tremaining: 599ms\n",
      "731:\tlearn: 1441.0305706\ttotal: 1.63s\tremaining: 597ms\n",
      "732:\tlearn: 1440.5475710\ttotal: 1.63s\tremaining: 595ms\n",
      "733:\tlearn: 1439.9303152\ttotal: 1.63s\tremaining: 592ms\n",
      "734:\tlearn: 1439.6933408\ttotal: 1.64s\tremaining: 590ms\n",
      "735:\tlearn: 1439.1498007\ttotal: 1.64s\tremaining: 588ms\n",
      "736:\tlearn: 1438.5708238\ttotal: 1.64s\tremaining: 585ms\n",
      "737:\tlearn: 1437.9659537\ttotal: 1.64s\tremaining: 583ms\n",
      "738:\tlearn: 1437.1810526\ttotal: 1.64s\tremaining: 580ms\n",
      "739:\tlearn: 1436.6262725\ttotal: 1.65s\tremaining: 578ms\n",
      "740:\tlearn: 1436.0973696\ttotal: 1.65s\tremaining: 576ms\n",
      "741:\tlearn: 1435.8281466\ttotal: 1.65s\tremaining: 573ms\n",
      "742:\tlearn: 1435.4485714\ttotal: 1.65s\tremaining: 571ms\n",
      "743:\tlearn: 1435.1651138\ttotal: 1.65s\tremaining: 569ms\n",
      "744:\tlearn: 1434.6684859\ttotal: 1.65s\tremaining: 566ms\n",
      "745:\tlearn: 1434.4521204\ttotal: 1.66s\tremaining: 564ms\n",
      "746:\tlearn: 1434.0009017\ttotal: 1.66s\tremaining: 562ms\n",
      "747:\tlearn: 1433.7027370\ttotal: 1.66s\tremaining: 559ms\n",
      "748:\tlearn: 1433.3191265\ttotal: 1.66s\tremaining: 557ms\n",
      "749:\tlearn: 1433.2290960\ttotal: 1.66s\tremaining: 555ms\n",
      "750:\tlearn: 1433.2099173\ttotal: 1.67s\tremaining: 552ms\n",
      "751:\tlearn: 1432.8028212\ttotal: 1.67s\tremaining: 550ms\n",
      "752:\tlearn: 1432.3808524\ttotal: 1.67s\tremaining: 547ms\n",
      "753:\tlearn: 1431.7419174\ttotal: 1.67s\tremaining: 545ms\n",
      "754:\tlearn: 1431.7121916\ttotal: 1.67s\tremaining: 543ms\n",
      "755:\tlearn: 1431.3297122\ttotal: 1.67s\tremaining: 540ms\n",
      "756:\tlearn: 1431.2283592\ttotal: 1.68s\tremaining: 538ms\n",
      "757:\tlearn: 1430.8429275\ttotal: 1.68s\tremaining: 536ms\n"
     ]
    },
    {
     "name": "stdout",
     "output_type": "stream",
     "text": [
      "758:\tlearn: 1430.4876948\ttotal: 1.68s\tremaining: 533ms\n",
      "759:\tlearn: 1430.0379940\ttotal: 1.68s\tremaining: 531ms\n",
      "760:\tlearn: 1429.6666248\ttotal: 1.68s\tremaining: 529ms\n",
      "761:\tlearn: 1429.2802731\ttotal: 1.69s\tremaining: 526ms\n",
      "762:\tlearn: 1429.0399220\ttotal: 1.69s\tremaining: 524ms\n",
      "763:\tlearn: 1428.8072973\ttotal: 1.69s\tremaining: 522ms\n",
      "764:\tlearn: 1428.3198791\ttotal: 1.69s\tremaining: 520ms\n",
      "765:\tlearn: 1427.8580734\ttotal: 1.69s\tremaining: 517ms\n",
      "766:\tlearn: 1427.6837703\ttotal: 1.7s\tremaining: 515ms\n",
      "767:\tlearn: 1427.5076294\ttotal: 1.7s\tremaining: 513ms\n",
      "768:\tlearn: 1427.0496962\ttotal: 1.7s\tremaining: 510ms\n",
      "769:\tlearn: 1426.5455696\ttotal: 1.7s\tremaining: 508ms\n",
      "770:\tlearn: 1426.0594437\ttotal: 1.7s\tremaining: 506ms\n",
      "771:\tlearn: 1426.0261317\ttotal: 1.7s\tremaining: 503ms\n",
      "772:\tlearn: 1425.8076120\ttotal: 1.71s\tremaining: 501ms\n",
      "773:\tlearn: 1425.7823363\ttotal: 1.71s\tremaining: 499ms\n",
      "774:\tlearn: 1425.3403116\ttotal: 1.71s\tremaining: 496ms\n",
      "775:\tlearn: 1425.2570233\ttotal: 1.71s\tremaining: 494ms\n",
      "776:\tlearn: 1424.8608582\ttotal: 1.71s\tremaining: 492ms\n",
      "777:\tlearn: 1424.4926292\ttotal: 1.72s\tremaining: 490ms\n",
      "778:\tlearn: 1424.1750504\ttotal: 1.72s\tremaining: 487ms\n",
      "779:\tlearn: 1423.7680666\ttotal: 1.72s\tremaining: 485ms\n",
      "780:\tlearn: 1423.3287743\ttotal: 1.72s\tremaining: 483ms\n",
      "781:\tlearn: 1423.1537605\ttotal: 1.72s\tremaining: 480ms\n",
      "782:\tlearn: 1423.0110381\ttotal: 1.72s\tremaining: 478ms\n",
      "783:\tlearn: 1422.6908614\ttotal: 1.73s\tremaining: 476ms\n",
      "784:\tlearn: 1422.4983765\ttotal: 1.73s\tremaining: 473ms\n",
      "785:\tlearn: 1422.0843282\ttotal: 1.73s\tremaining: 471ms\n",
      "786:\tlearn: 1421.7265552\ttotal: 1.73s\tremaining: 469ms\n",
      "787:\tlearn: 1421.1626972\ttotal: 1.73s\tremaining: 466ms\n",
      "788:\tlearn: 1420.2939663\ttotal: 1.74s\tremaining: 464ms\n",
      "789:\tlearn: 1420.0544346\ttotal: 1.74s\tremaining: 462ms\n",
      "790:\tlearn: 1420.0425205\ttotal: 1.74s\tremaining: 460ms\n",
      "791:\tlearn: 1419.4326996\ttotal: 1.74s\tremaining: 457ms\n",
      "792:\tlearn: 1419.3867454\ttotal: 1.74s\tremaining: 455ms\n",
      "793:\tlearn: 1419.1833968\ttotal: 1.75s\tremaining: 453ms\n",
      "794:\tlearn: 1418.6810866\ttotal: 1.75s\tremaining: 451ms\n",
      "795:\tlearn: 1418.4805733\ttotal: 1.75s\tremaining: 448ms\n",
      "796:\tlearn: 1418.0022464\ttotal: 1.75s\tremaining: 446ms\n",
      "797:\tlearn: 1417.6471531\ttotal: 1.75s\tremaining: 444ms\n",
      "798:\tlearn: 1417.3568037\ttotal: 1.75s\tremaining: 441ms\n",
      "799:\tlearn: 1417.3181510\ttotal: 1.76s\tremaining: 439ms\n",
      "800:\tlearn: 1416.8983519\ttotal: 1.76s\tremaining: 437ms\n",
      "801:\tlearn: 1416.4446432\ttotal: 1.76s\tremaining: 435ms\n",
      "802:\tlearn: 1416.2075679\ttotal: 1.76s\tremaining: 432ms\n",
      "803:\tlearn: 1415.6155592\ttotal: 1.76s\tremaining: 430ms\n",
      "804:\tlearn: 1415.1258203\ttotal: 1.76s\tremaining: 428ms\n",
      "805:\tlearn: 1414.8513339\ttotal: 1.77s\tremaining: 426ms\n",
      "806:\tlearn: 1414.6595234\ttotal: 1.77s\tremaining: 423ms\n",
      "807:\tlearn: 1414.2372676\ttotal: 1.77s\tremaining: 421ms\n",
      "808:\tlearn: 1413.8316396\ttotal: 1.77s\tremaining: 419ms\n",
      "809:\tlearn: 1413.6162378\ttotal: 1.78s\tremaining: 417ms\n",
      "810:\tlearn: 1413.1566310\ttotal: 1.78s\tremaining: 414ms\n",
      "811:\tlearn: 1412.8673827\ttotal: 1.78s\tremaining: 412ms\n",
      "812:\tlearn: 1412.3853225\ttotal: 1.78s\tremaining: 410ms\n",
      "813:\tlearn: 1412.1226298\ttotal: 1.78s\tremaining: 408ms\n",
      "814:\tlearn: 1412.0561595\ttotal: 1.78s\tremaining: 405ms\n",
      "815:\tlearn: 1411.7605087\ttotal: 1.79s\tremaining: 403ms\n",
      "816:\tlearn: 1411.2878205\ttotal: 1.79s\tremaining: 401ms\n",
      "817:\tlearn: 1410.9540450\ttotal: 1.79s\tremaining: 398ms\n",
      "818:\tlearn: 1410.6405443\ttotal: 1.79s\tremaining: 396ms\n",
      "819:\tlearn: 1410.0694027\ttotal: 1.79s\tremaining: 394ms\n",
      "820:\tlearn: 1409.8091483\ttotal: 1.8s\tremaining: 392ms\n",
      "821:\tlearn: 1409.3839795\ttotal: 1.8s\tremaining: 389ms\n",
      "822:\tlearn: 1408.7362422\ttotal: 1.8s\tremaining: 387ms\n",
      "823:\tlearn: 1408.7036134\ttotal: 1.8s\tremaining: 385ms\n",
      "824:\tlearn: 1408.2519763\ttotal: 1.8s\tremaining: 383ms\n",
      "825:\tlearn: 1407.9145426\ttotal: 1.8s\tremaining: 380ms\n",
      "826:\tlearn: 1407.6112837\ttotal: 1.81s\tremaining: 378ms\n",
      "827:\tlearn: 1407.4234565\ttotal: 1.81s\tremaining: 376ms\n",
      "828:\tlearn: 1407.3491506\ttotal: 1.81s\tremaining: 374ms\n",
      "829:\tlearn: 1407.0306206\ttotal: 1.81s\tremaining: 371ms\n",
      "830:\tlearn: 1406.6183282\ttotal: 1.81s\tremaining: 369ms\n",
      "831:\tlearn: 1406.1088412\ttotal: 1.82s\tremaining: 367ms\n",
      "832:\tlearn: 1406.0907814\ttotal: 1.82s\tremaining: 365ms\n",
      "833:\tlearn: 1405.6289800\ttotal: 1.82s\tremaining: 362ms\n",
      "834:\tlearn: 1405.4371327\ttotal: 1.82s\tremaining: 360ms\n",
      "835:\tlearn: 1405.0672488\ttotal: 1.82s\tremaining: 358ms\n",
      "836:\tlearn: 1404.3924783\ttotal: 1.83s\tremaining: 356ms\n",
      "837:\tlearn: 1403.8580610\ttotal: 1.83s\tremaining: 353ms\n",
      "838:\tlearn: 1403.6283171\ttotal: 1.83s\tremaining: 351ms\n",
      "839:\tlearn: 1402.8051072\ttotal: 1.83s\tremaining: 349ms\n",
      "840:\tlearn: 1402.7817072\ttotal: 1.83s\tremaining: 347ms\n",
      "841:\tlearn: 1402.3392845\ttotal: 1.83s\tremaining: 344ms\n",
      "842:\tlearn: 1402.0887484\ttotal: 1.84s\tremaining: 342ms\n",
      "843:\tlearn: 1401.5547606\ttotal: 1.84s\tremaining: 340ms\n",
      "844:\tlearn: 1401.4927104\ttotal: 1.84s\tremaining: 338ms\n",
      "845:\tlearn: 1400.8792795\ttotal: 1.84s\tremaining: 335ms\n",
      "846:\tlearn: 1400.8688387\ttotal: 1.84s\tremaining: 333ms\n",
      "847:\tlearn: 1400.5979788\ttotal: 1.84s\tremaining: 331ms\n",
      "848:\tlearn: 1400.1780315\ttotal: 1.85s\tremaining: 329ms\n",
      "849:\tlearn: 1399.5741180\ttotal: 1.85s\tremaining: 326ms\n",
      "850:\tlearn: 1399.0612031\ttotal: 1.85s\tremaining: 324ms\n",
      "851:\tlearn: 1398.7530149\ttotal: 1.85s\tremaining: 322ms\n",
      "852:\tlearn: 1398.7304202\ttotal: 1.85s\tremaining: 320ms\n",
      "853:\tlearn: 1398.1169318\ttotal: 1.86s\tremaining: 317ms\n",
      "854:\tlearn: 1397.8125389\ttotal: 1.86s\tremaining: 315ms\n",
      "855:\tlearn: 1397.5953131\ttotal: 1.86s\tremaining: 313ms\n",
      "856:\tlearn: 1397.0573628\ttotal: 1.86s\tremaining: 311ms\n",
      "857:\tlearn: 1396.8213763\ttotal: 1.86s\tremaining: 308ms\n",
      "858:\tlearn: 1396.2239212\ttotal: 1.86s\tremaining: 306ms\n",
      "859:\tlearn: 1395.8227279\ttotal: 1.87s\tremaining: 304ms\n",
      "860:\tlearn: 1395.1987469\ttotal: 1.87s\tremaining: 302ms\n",
      "861:\tlearn: 1394.8369519\ttotal: 1.87s\tremaining: 300ms\n",
      "862:\tlearn: 1394.4656766\ttotal: 1.87s\tremaining: 297ms\n",
      "863:\tlearn: 1394.0145298\ttotal: 1.88s\tremaining: 295ms\n",
      "864:\tlearn: 1393.9908486\ttotal: 1.88s\tremaining: 293ms\n",
      "865:\tlearn: 1393.7658553\ttotal: 1.88s\tremaining: 291ms\n",
      "866:\tlearn: 1393.7432020\ttotal: 1.88s\tremaining: 289ms\n",
      "867:\tlearn: 1393.3297142\ttotal: 1.88s\tremaining: 286ms\n",
      "868:\tlearn: 1393.0705402\ttotal: 1.89s\tremaining: 284ms\n",
      "869:\tlearn: 1392.6816489\ttotal: 1.89s\tremaining: 282ms\n",
      "870:\tlearn: 1392.2702134\ttotal: 1.89s\tremaining: 280ms\n",
      "871:\tlearn: 1391.9548150\ttotal: 1.89s\tremaining: 278ms\n",
      "872:\tlearn: 1391.5821559\ttotal: 1.9s\tremaining: 276ms\n",
      "873:\tlearn: 1391.1551535\ttotal: 1.9s\tremaining: 274ms\n",
      "874:\tlearn: 1390.8143070\ttotal: 1.9s\tremaining: 271ms\n",
      "875:\tlearn: 1390.4435783\ttotal: 1.9s\tremaining: 269ms\n",
      "876:\tlearn: 1390.0070399\ttotal: 1.9s\tremaining: 267ms\n",
      "877:\tlearn: 1389.6687925\ttotal: 1.91s\tremaining: 265ms\n",
      "878:\tlearn: 1389.3001036\ttotal: 1.91s\tremaining: 263ms\n",
      "879:\tlearn: 1388.8660302\ttotal: 1.91s\tremaining: 260ms\n",
      "880:\tlearn: 1388.6160072\ttotal: 1.91s\tremaining: 258ms\n",
      "881:\tlearn: 1388.4365697\ttotal: 1.91s\tremaining: 256ms\n",
      "882:\tlearn: 1388.2310294\ttotal: 1.91s\tremaining: 254ms\n",
      "883:\tlearn: 1388.1251890\ttotal: 1.92s\tremaining: 252ms\n",
      "884:\tlearn: 1388.1037697\ttotal: 1.92s\tremaining: 249ms\n",
      "885:\tlearn: 1387.8297006\ttotal: 1.92s\tremaining: 247ms\n",
      "886:\tlearn: 1387.8007814\ttotal: 1.92s\tremaining: 245ms\n",
      "887:\tlearn: 1387.4876010\ttotal: 1.93s\tremaining: 243ms\n",
      "888:\tlearn: 1387.1188472\ttotal: 1.93s\tremaining: 241ms\n",
      "889:\tlearn: 1386.8274100\ttotal: 1.93s\tremaining: 238ms\n",
      "890:\tlearn: 1386.8081133\ttotal: 1.93s\tremaining: 236ms\n",
      "891:\tlearn: 1386.4090984\ttotal: 1.93s\tremaining: 234ms\n",
      "892:\tlearn: 1386.1349754\ttotal: 1.93s\tremaining: 232ms\n",
      "893:\tlearn: 1386.1163318\ttotal: 1.94s\tremaining: 230ms\n",
      "894:\tlearn: 1385.7445823\ttotal: 1.94s\tremaining: 227ms\n",
      "895:\tlearn: 1385.4176172\ttotal: 1.94s\tremaining: 225ms\n",
      "896:\tlearn: 1385.1278113\ttotal: 1.94s\tremaining: 223ms\n",
      "897:\tlearn: 1385.1104818\ttotal: 1.94s\tremaining: 221ms\n",
      "898:\tlearn: 1384.7764103\ttotal: 1.94s\tremaining: 218ms\n",
      "899:\tlearn: 1384.4003433\ttotal: 1.95s\tremaining: 216ms\n",
      "900:\tlearn: 1384.2285656\ttotal: 1.95s\tremaining: 214ms\n",
      "901:\tlearn: 1383.9155212\ttotal: 1.95s\tremaining: 212ms\n",
      "902:\tlearn: 1383.6233979\ttotal: 1.95s\tremaining: 210ms\n",
      "903:\tlearn: 1383.5557159\ttotal: 1.95s\tremaining: 207ms\n",
      "904:\tlearn: 1383.1677849\ttotal: 1.96s\tremaining: 205ms\n",
      "905:\tlearn: 1382.5616136\ttotal: 1.96s\tremaining: 203ms\n",
      "906:\tlearn: 1382.2804347\ttotal: 1.96s\tremaining: 201ms\n",
      "907:\tlearn: 1382.0876728\ttotal: 1.96s\tremaining: 199ms\n",
      "908:\tlearn: 1381.9964214\ttotal: 1.96s\tremaining: 197ms\n",
      "909:\tlearn: 1381.9813028\ttotal: 1.96s\tremaining: 194ms\n",
      "910:\tlearn: 1381.7698703\ttotal: 1.97s\tremaining: 192ms\n",
      "911:\tlearn: 1381.4541582\ttotal: 1.97s\tremaining: 190ms\n",
      "912:\tlearn: 1381.0238172\ttotal: 1.97s\tremaining: 188ms\n",
      "913:\tlearn: 1380.6706483\ttotal: 1.97s\tremaining: 186ms\n",
      "914:\tlearn: 1380.0896872\ttotal: 1.97s\tremaining: 183ms\n",
      "915:\tlearn: 1379.6461658\ttotal: 1.98s\tremaining: 181ms\n",
      "916:\tlearn: 1379.2187718\ttotal: 1.98s\tremaining: 179ms\n",
      "917:\tlearn: 1378.7256238\ttotal: 1.98s\tremaining: 177ms\n",
      "918:\tlearn: 1378.5553385\ttotal: 1.98s\tremaining: 175ms\n",
      "919:\tlearn: 1378.3317317\ttotal: 1.98s\tremaining: 172ms\n",
      "920:\tlearn: 1378.0749624\ttotal: 1.99s\tremaining: 170ms\n",
      "921:\tlearn: 1377.6965146\ttotal: 1.99s\tremaining: 168ms\n",
      "922:\tlearn: 1377.4950904\ttotal: 1.99s\tremaining: 166ms\n",
      "923:\tlearn: 1377.0300209\ttotal: 1.99s\tremaining: 164ms\n",
      "924:\tlearn: 1376.4899901\ttotal: 1.99s\tremaining: 162ms\n",
      "925:\tlearn: 1375.8281849\ttotal: 2s\tremaining: 159ms\n",
      "926:\tlearn: 1375.5953151\ttotal: 2s\tremaining: 157ms\n",
      "927:\tlearn: 1375.2437888\ttotal: 2s\tremaining: 155ms\n",
      "928:\tlearn: 1375.2261522\ttotal: 2s\tremaining: 153ms\n",
      "929:\tlearn: 1374.5397293\ttotal: 2s\tremaining: 151ms\n",
      "930:\tlearn: 1374.3687057\ttotal: 2s\tremaining: 149ms\n",
      "931:\tlearn: 1373.7760283\ttotal: 2.01s\tremaining: 146ms\n",
      "932:\tlearn: 1373.1459442\ttotal: 2.01s\tremaining: 144ms\n",
      "933:\tlearn: 1372.7016996\ttotal: 2.01s\tremaining: 142ms\n",
      "934:\tlearn: 1372.3410669\ttotal: 2.01s\tremaining: 140ms\n",
      "935:\tlearn: 1371.9650201\ttotal: 2.01s\tremaining: 138ms\n",
      "936:\tlearn: 1371.9501340\ttotal: 2.02s\tremaining: 136ms\n",
      "937:\tlearn: 1371.8005483\ttotal: 2.02s\tremaining: 133ms\n",
      "938:\tlearn: 1371.4772531\ttotal: 2.02s\tremaining: 131ms\n",
      "939:\tlearn: 1370.9608001\ttotal: 2.02s\tremaining: 129ms\n",
      "940:\tlearn: 1370.9437974\ttotal: 2.02s\tremaining: 127ms\n",
      "941:\tlearn: 1370.6640610\ttotal: 2.02s\tremaining: 125ms\n",
      "942:\tlearn: 1370.3772059\ttotal: 2.03s\tremaining: 122ms\n",
      "943:\tlearn: 1370.0288275\ttotal: 2.03s\tremaining: 120ms\n",
      "944:\tlearn: 1369.5673044\ttotal: 2.03s\tremaining: 118ms\n",
      "945:\tlearn: 1369.3542197\ttotal: 2.03s\tremaining: 116ms\n",
      "946:\tlearn: 1369.1727965\ttotal: 2.03s\tremaining: 114ms\n",
      "947:\tlearn: 1368.9848461\ttotal: 2.04s\tremaining: 112ms\n",
      "948:\tlearn: 1368.7282974\ttotal: 2.04s\tremaining: 109ms\n",
      "949:\tlearn: 1368.0905813\ttotal: 2.04s\tremaining: 107ms\n",
      "950:\tlearn: 1367.6433725\ttotal: 2.04s\tremaining: 105ms\n",
      "951:\tlearn: 1367.4605746\ttotal: 2.04s\tremaining: 103ms\n",
      "952:\tlearn: 1367.0438026\ttotal: 2.04s\tremaining: 101ms\n",
      "953:\tlearn: 1366.7541984\ttotal: 2.05s\tremaining: 98.7ms\n",
      "954:\tlearn: 1366.2751064\ttotal: 2.05s\tremaining: 96.5ms\n",
      "955:\tlearn: 1365.7606201\ttotal: 2.05s\tremaining: 94.4ms\n",
      "956:\tlearn: 1365.4794300\ttotal: 2.05s\tremaining: 92.2ms\n"
     ]
    },
    {
     "name": "stdout",
     "output_type": "stream",
     "text": [
      "957:\tlearn: 1365.0345009\ttotal: 2.05s\tremaining: 90.1ms\n",
      "958:\tlearn: 1364.6742814\ttotal: 2.06s\tremaining: 87.9ms\n",
      "959:\tlearn: 1364.0897534\ttotal: 2.06s\tremaining: 85.8ms\n",
      "960:\tlearn: 1363.9782655\ttotal: 2.06s\tremaining: 83.6ms\n",
      "961:\tlearn: 1363.5426261\ttotal: 2.06s\tremaining: 81.5ms\n",
      "962:\tlearn: 1363.1997189\ttotal: 2.06s\tremaining: 79.3ms\n",
      "963:\tlearn: 1362.5908679\ttotal: 2.07s\tremaining: 77.2ms\n",
      "964:\tlearn: 1362.4393422\ttotal: 2.07s\tremaining: 75ms\n",
      "965:\tlearn: 1362.1190699\ttotal: 2.07s\tremaining: 72.9ms\n",
      "966:\tlearn: 1361.7401886\ttotal: 2.07s\tremaining: 70.7ms\n",
      "967:\tlearn: 1361.4646049\ttotal: 2.07s\tremaining: 68.6ms\n",
      "968:\tlearn: 1361.1339781\ttotal: 2.08s\tremaining: 66.4ms\n",
      "969:\tlearn: 1361.0074073\ttotal: 2.08s\tremaining: 64.3ms\n",
      "970:\tlearn: 1360.8566794\ttotal: 2.08s\tremaining: 62.1ms\n",
      "971:\tlearn: 1360.4781442\ttotal: 2.08s\tremaining: 60ms\n",
      "972:\tlearn: 1360.2388501\ttotal: 2.08s\tremaining: 57.8ms\n",
      "973:\tlearn: 1360.1445874\ttotal: 2.08s\tremaining: 55.7ms\n",
      "974:\tlearn: 1359.5688469\ttotal: 2.09s\tremaining: 53.5ms\n",
      "975:\tlearn: 1359.2779624\ttotal: 2.09s\tremaining: 51.4ms\n",
      "976:\tlearn: 1359.0929521\ttotal: 2.09s\tremaining: 49.2ms\n",
      "977:\tlearn: 1358.8050667\ttotal: 2.09s\tremaining: 47.1ms\n",
      "978:\tlearn: 1358.5462472\ttotal: 2.09s\tremaining: 44.9ms\n",
      "979:\tlearn: 1358.5281795\ttotal: 2.1s\tremaining: 42.8ms\n",
      "980:\tlearn: 1358.4086853\ttotal: 2.1s\tremaining: 40.6ms\n",
      "981:\tlearn: 1358.1314038\ttotal: 2.1s\tremaining: 38.5ms\n",
      "982:\tlearn: 1357.8310815\ttotal: 2.1s\tremaining: 36.3ms\n",
      "983:\tlearn: 1357.4524323\ttotal: 2.1s\tremaining: 34.2ms\n",
      "984:\tlearn: 1357.0377474\ttotal: 2.1s\tremaining: 32.1ms\n",
      "985:\tlearn: 1356.8375369\ttotal: 2.11s\tremaining: 29.9ms\n",
      "986:\tlearn: 1356.3840529\ttotal: 2.11s\tremaining: 27.8ms\n",
      "987:\tlearn: 1356.1010978\ttotal: 2.11s\tremaining: 25.6ms\n",
      "988:\tlearn: 1355.7044493\ttotal: 2.11s\tremaining: 23.5ms\n",
      "989:\tlearn: 1355.6874381\ttotal: 2.11s\tremaining: 21.4ms\n",
      "990:\tlearn: 1355.6806322\ttotal: 2.12s\tremaining: 19.2ms\n",
      "991:\tlearn: 1355.2332359\ttotal: 2.12s\tremaining: 17.1ms\n",
      "992:\tlearn: 1355.1496381\ttotal: 2.12s\tremaining: 14.9ms\n",
      "993:\tlearn: 1354.8103195\ttotal: 2.12s\tremaining: 12.8ms\n",
      "994:\tlearn: 1354.3671785\ttotal: 2.12s\tremaining: 10.7ms\n",
      "995:\tlearn: 1353.9954472\ttotal: 2.12s\tremaining: 8.53ms\n",
      "996:\tlearn: 1353.9003700\ttotal: 2.13s\tremaining: 6.4ms\n",
      "997:\tlearn: 1353.6360960\ttotal: 2.13s\tremaining: 4.26ms\n",
      "998:\tlearn: 1353.2559053\ttotal: 2.13s\tremaining: 2.13ms\n",
      "999:\tlearn: 1352.7939196\ttotal: 2.13s\tremaining: 0us\n"
     ]
    },
    {
     "data": {
      "text/plain": [
       "<catboost.core.CatBoostRegressor at 0x7f7d20186610>"
      ]
     },
     "execution_count": 91,
     "metadata": {},
     "output_type": "execute_result"
    }
   ],
   "source": [
    "from catboost import CatBoostRegressor\n",
    "\n",
    "cat = CatBoostRegressor()\n",
    "cat.fit(x_train,y_train)"
   ]
  },
  {
   "cell_type": "code",
   "execution_count": 92,
   "id": "Hpyk-INt8iBb",
   "metadata": {
    "executionInfo": {
     "elapsed": 618,
     "status": "ok",
     "timestamp": 1631029833220,
     "user": {
      "displayName": "HANUMAN AGRAWAL",
      "photoUrl": "",
      "userId": "09126690663497139280"
     },
     "user_tz": -330
    },
    "id": "Hpyk-INt8iBb"
   },
   "outputs": [],
   "source": [
    "cat_pred = cat.predict(x_test)"
   ]
  },
  {
   "cell_type": "code",
   "execution_count": 93,
   "id": "hsWfpYrt9Cen",
   "metadata": {
    "colab": {
     "base_uri": "https://localhost:8080/"
    },
    "executionInfo": {
     "elapsed": 8,
     "status": "ok",
     "timestamp": 1631029848781,
     "user": {
      "displayName": "HANUMAN AGRAWAL",
      "photoUrl": "",
      "userId": "09126690663497139280"
     },
     "user_tz": -330
    },
    "id": "hsWfpYrt9Cen",
    "outputId": "8c23feec-01f7-46dd-90cd-330ca28e70fa"
   },
   "outputs": [
    {
     "data": {
      "text/plain": [
       "0.8360336675039539"
      ]
     },
     "execution_count": 93,
     "metadata": {},
     "output_type": "execute_result"
    }
   ],
   "source": [
    "r2_score(y_test,cat_pred)"
   ]
  },
  {
   "cell_type": "code",
   "execution_count": 97,
   "id": "fc6wjT4W9GQ8",
   "metadata": {
    "executionInfo": {
     "elapsed": 843,
     "status": "ok",
     "timestamp": 1631030118863,
     "user": {
      "displayName": "HANUMAN AGRAWAL",
      "photoUrl": "",
      "userId": "09126690663497139280"
     },
     "user_tz": -330
    },
    "id": "fc6wjT4W9GQ8"
   },
   "outputs": [],
   "source": [
    "import pickle\n",
    "file = open('flight_rf.pkl','wb')\n",
    "pickle.dump(train_data,file)"
   ]
  },
  {
   "cell_type": "code",
   "execution_count": 98,
   "id": "-KVNEsr--ILb",
   "metadata": {
    "id": "-KVNEsr--ILb"
   },
   "outputs": [
    {
     "ename": "EOFError",
     "evalue": "Ran out of input",
     "output_type": "error",
     "traceback": [
      "\u001b[0;31m---------------------------------------------------------------------------\u001b[0m",
      "\u001b[0;31mEOFError\u001b[0m                                  Traceback (most recent call last)",
      "\u001b[0;32m<ipython-input-98-0b10a3b142cc>\u001b[0m in \u001b[0;36m<module>\u001b[0;34m\u001b[0m\n\u001b[0;32m----> 1\u001b[0;31m \u001b[0mmodel\u001b[0m \u001b[0;34m=\u001b[0m \u001b[0mpickle\u001b[0m\u001b[0;34m.\u001b[0m\u001b[0mload\u001b[0m\u001b[0;34m(\u001b[0m\u001b[0mopen\u001b[0m\u001b[0;34m(\u001b[0m\u001b[0;34m'flight_rf.pkl'\u001b[0m\u001b[0;34m,\u001b[0m\u001b[0;34m'rb'\u001b[0m\u001b[0;34m)\u001b[0m\u001b[0;34m)\u001b[0m\u001b[0;34m\u001b[0m\u001b[0;34m\u001b[0m\u001b[0m\n\u001b[0m",
      "\u001b[0;31mEOFError\u001b[0m: Ran out of input"
     ]
    }
   ],
   "source": [
    "model = pickle.load(open('flight_rf.pkl','rb'))\n"
   ]
  },
  {
   "cell_type": "code",
   "execution_count": null,
   "id": "ee24ae88",
   "metadata": {},
   "outputs": [],
   "source": []
  }
 ],
 "metadata": {
  "accelerator": "GPU",
  "colab": {
   "collapsed_sections": [],
   "name": "Untitled.ipynb",
   "provenance": []
  },
  "kernelspec": {
   "display_name": "Python 3",
   "language": "python",
   "name": "python3"
  },
  "language_info": {
   "codemirror_mode": {
    "name": "ipython",
    "version": 3
   },
   "file_extension": ".py",
   "mimetype": "text/x-python",
   "name": "python",
   "nbconvert_exporter": "python",
   "pygments_lexer": "ipython3",
   "version": "3.8.8"
  }
 },
 "nbformat": 4,
 "nbformat_minor": 5
}
